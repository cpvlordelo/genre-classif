{
 "cells": [
  {
   "cell_type": "markdown",
   "metadata": {},
   "source": [
    "## Loading data and training Models\n",
    "\n",
    "In this jupyter notebook we are going to build our music genre classifiers. We are going to start by loading the features we have created before and then move to training and evaluation stage. During our process we will be evaluating and comparing their performance.\n",
    "\n",
    "In the end I am going to show some deep learning based models that can perform the task analysing the music spectrogram directly and will propose a novel architecture that exceled on this task."
   ]
  },
  {
   "cell_type": "markdown",
   "metadata": {},
   "source": [
    "We are going to start by loading the `csv` file we saved using the previous notebook and visualising it using PCA just to give a small glimpse of what to expect from the classifiers. "
   ]
  },
  {
   "cell_type": "code",
   "execution_count": 1,
   "metadata": {},
   "outputs": [
    {
     "data": {
      "text/html": [
       "<div>\n",
       "<style scoped>\n",
       "    .dataframe tbody tr th:only-of-type {\n",
       "        vertical-align: middle;\n",
       "    }\n",
       "\n",
       "    .dataframe tbody tr th {\n",
       "        vertical-align: top;\n",
       "    }\n",
       "\n",
       "    .dataframe thead th {\n",
       "        text-align: right;\n",
       "    }\n",
       "</style>\n",
       "<table border=\"1\" class=\"dataframe\">\n",
       "  <thead>\n",
       "    <tr style=\"text-align: right;\">\n",
       "      <th></th>\n",
       "      <th>Name</th>\n",
       "      <th>Genre</th>\n",
       "      <th>Centroid</th>\n",
       "      <th>Centroid Std</th>\n",
       "      <th>Rolloff 85%</th>\n",
       "      <th>Rolloff 85% Std</th>\n",
       "      <th>Rolloff 05%</th>\n",
       "      <th>Rolloff 05% Std</th>\n",
       "      <th>Zero-Crossing Rate</th>\n",
       "      <th>Zero-Crossing Rate (Std)</th>\n",
       "      <th>...</th>\n",
       "      <th>MFCC-0</th>\n",
       "      <th>MFCC-0 Std</th>\n",
       "      <th>MFCC-1</th>\n",
       "      <th>MFCC-1 Std</th>\n",
       "      <th>MFCC-2</th>\n",
       "      <th>MFCC-2 Std</th>\n",
       "      <th>MFCC-3</th>\n",
       "      <th>MFCC-3 Std</th>\n",
       "      <th>MFCC-4</th>\n",
       "      <th>MFCC-4 Std</th>\n",
       "    </tr>\n",
       "  </thead>\n",
       "  <tbody>\n",
       "    <tr>\n",
       "      <th>0</th>\n",
       "      <td>/mnt/e/carlos/code/epidemic-sound/genre-classi...</td>\n",
       "      <td>blues</td>\n",
       "      <td>1776.6237</td>\n",
       "      <td>377.17233</td>\n",
       "      <td>3738.6270</td>\n",
       "      <td>985.05164</td>\n",
       "      <td>88.648380</td>\n",
       "      <td>36.565563</td>\n",
       "      <td>0.084349</td>\n",
       "      <td>0.028513</td>\n",
       "      <td>...</td>\n",
       "      <td>-76.225550</td>\n",
       "      <td>47.812977</td>\n",
       "      <td>92.672900</td>\n",
       "      <td>14.645846</td>\n",
       "      <td>-0.869542</td>\n",
       "      <td>19.100159</td>\n",
       "      <td>26.020918</td>\n",
       "      <td>15.581945</td>\n",
       "      <td>5.278315</td>\n",
       "      <td>9.272931</td>\n",
       "    </tr>\n",
       "    <tr>\n",
       "      <th>1</th>\n",
       "      <td>/mnt/e/carlos/code/epidemic-sound/genre-classi...</td>\n",
       "      <td>blues</td>\n",
       "      <td>1785.8243</td>\n",
       "      <td>304.09494</td>\n",
       "      <td>3941.2302</td>\n",
       "      <td>822.78520</td>\n",
       "      <td>77.177414</td>\n",
       "      <td>36.592415</td>\n",
       "      <td>0.076144</td>\n",
       "      <td>0.023925</td>\n",
       "      <td>...</td>\n",
       "      <td>-91.701820</td>\n",
       "      <td>56.353924</td>\n",
       "      <td>87.307205</td>\n",
       "      <td>13.573576</td>\n",
       "      <td>8.877044</td>\n",
       "      <td>13.475040</td>\n",
       "      <td>31.626858</td>\n",
       "      <td>15.997764</td>\n",
       "      <td>7.072044</td>\n",
       "      <td>11.073791</td>\n",
       "    </tr>\n",
       "    <tr>\n",
       "      <th>2</th>\n",
       "      <td>/mnt/e/carlos/code/epidemic-sound/genre-classi...</td>\n",
       "      <td>blues</td>\n",
       "      <td>1641.8365</td>\n",
       "      <td>312.72394</td>\n",
       "      <td>3501.3591</td>\n",
       "      <td>862.11980</td>\n",
       "      <td>83.768190</td>\n",
       "      <td>31.730270</td>\n",
       "      <td>0.070274</td>\n",
       "      <td>0.016688</td>\n",
       "      <td>...</td>\n",
       "      <td>-63.532482</td>\n",
       "      <td>49.678787</td>\n",
       "      <td>101.299100</td>\n",
       "      <td>16.561068</td>\n",
       "      <td>2.802329</td>\n",
       "      <td>13.072867</td>\n",
       "      <td>20.934095</td>\n",
       "      <td>11.660361</td>\n",
       "      <td>0.627935</td>\n",
       "      <td>10.978201</td>\n",
       "    </tr>\n",
       "    <tr>\n",
       "      <th>3</th>\n",
       "      <td>/mnt/e/carlos/code/epidemic-sound/genre-classi...</td>\n",
       "      <td>blues</td>\n",
       "      <td>1974.1486</td>\n",
       "      <td>453.60916</td>\n",
       "      <td>4329.5320</td>\n",
       "      <td>1072.72660</td>\n",
       "      <td>87.239660</td>\n",
       "      <td>38.382683</td>\n",
       "      <td>0.093613</td>\n",
       "      <td>0.035050</td>\n",
       "      <td>...</td>\n",
       "      <td>-62.029247</td>\n",
       "      <td>52.925180</td>\n",
       "      <td>83.612180</td>\n",
       "      <td>18.532612</td>\n",
       "      <td>7.062488</td>\n",
       "      <td>15.529668</td>\n",
       "      <td>25.633170</td>\n",
       "      <td>12.685728</td>\n",
       "      <td>2.365620</td>\n",
       "      <td>10.459905</td>\n",
       "    </tr>\n",
       "    <tr>\n",
       "      <th>4</th>\n",
       "      <td>/mnt/e/carlos/code/epidemic-sound/genre-classi...</td>\n",
       "      <td>blues</td>\n",
       "      <td>1762.8859</td>\n",
       "      <td>341.77304</td>\n",
       "      <td>3810.7732</td>\n",
       "      <td>921.77220</td>\n",
       "      <td>96.647860</td>\n",
       "      <td>42.882904</td>\n",
       "      <td>0.074839</td>\n",
       "      <td>0.020703</td>\n",
       "      <td>...</td>\n",
       "      <td>-65.729360</td>\n",
       "      <td>46.212124</td>\n",
       "      <td>93.085550</td>\n",
       "      <td>14.109302</td>\n",
       "      <td>2.104553</td>\n",
       "      <td>16.896526</td>\n",
       "      <td>22.881002</td>\n",
       "      <td>14.509435</td>\n",
       "      <td>2.742398</td>\n",
       "      <td>11.131560</td>\n",
       "    </tr>\n",
       "    <tr>\n",
       "      <th>...</th>\n",
       "      <td>...</td>\n",
       "      <td>...</td>\n",
       "      <td>...</td>\n",
       "      <td>...</td>\n",
       "      <td>...</td>\n",
       "      <td>...</td>\n",
       "      <td>...</td>\n",
       "      <td>...</td>\n",
       "      <td>...</td>\n",
       "      <td>...</td>\n",
       "      <td>...</td>\n",
       "      <td>...</td>\n",
       "      <td>...</td>\n",
       "      <td>...</td>\n",
       "      <td>...</td>\n",
       "      <td>...</td>\n",
       "      <td>...</td>\n",
       "      <td>...</td>\n",
       "      <td>...</td>\n",
       "      <td>...</td>\n",
       "      <td>...</td>\n",
       "    </tr>\n",
       "    <tr>\n",
       "      <th>5995</th>\n",
       "      <td>/mnt/e/carlos/code/epidemic-sound/genre-classi...</td>\n",
       "      <td>rock</td>\n",
       "      <td>1734.8616</td>\n",
       "      <td>962.52716</td>\n",
       "      <td>3273.8518</td>\n",
       "      <td>1965.47470</td>\n",
       "      <td>84.070050</td>\n",
       "      <td>12.074379</td>\n",
       "      <td>0.090955</td>\n",
       "      <td>0.072451</td>\n",
       "      <td>...</td>\n",
       "      <td>-159.247790</td>\n",
       "      <td>151.365970</td>\n",
       "      <td>79.595116</td>\n",
       "      <td>49.224750</td>\n",
       "      <td>10.982214</td>\n",
       "      <td>18.773592</td>\n",
       "      <td>44.594130</td>\n",
       "      <td>9.170195</td>\n",
       "      <td>15.003209</td>\n",
       "      <td>10.369448</td>\n",
       "    </tr>\n",
       "    <tr>\n",
       "      <th>5996</th>\n",
       "      <td>/mnt/e/carlos/code/epidemic-sound/genre-classi...</td>\n",
       "      <td>rock</td>\n",
       "      <td>1501.9634</td>\n",
       "      <td>444.59665</td>\n",
       "      <td>3271.0847</td>\n",
       "      <td>909.91370</td>\n",
       "      <td>78.334570</td>\n",
       "      <td>18.395823</td>\n",
       "      <td>0.055256</td>\n",
       "      <td>0.027510</td>\n",
       "      <td>...</td>\n",
       "      <td>-151.975890</td>\n",
       "      <td>32.515625</td>\n",
       "      <td>99.937610</td>\n",
       "      <td>24.508549</td>\n",
       "      <td>10.552804</td>\n",
       "      <td>11.402127</td>\n",
       "      <td>37.841970</td>\n",
       "      <td>12.580439</td>\n",
       "      <td>1.625850</td>\n",
       "      <td>8.125340</td>\n",
       "    </tr>\n",
       "    <tr>\n",
       "      <th>5997</th>\n",
       "      <td>/mnt/e/carlos/code/epidemic-sound/genre-classi...</td>\n",
       "      <td>rock</td>\n",
       "      <td>1685.1466</td>\n",
       "      <td>540.82480</td>\n",
       "      <td>3410.0947</td>\n",
       "      <td>1154.81510</td>\n",
       "      <td>76.523370</td>\n",
       "      <td>20.109201</td>\n",
       "      <td>0.081237</td>\n",
       "      <td>0.030837</td>\n",
       "      <td>...</td>\n",
       "      <td>-122.105470</td>\n",
       "      <td>41.616535</td>\n",
       "      <td>94.759720</td>\n",
       "      <td>28.129717</td>\n",
       "      <td>-8.664053</td>\n",
       "      <td>14.039194</td>\n",
       "      <td>30.606050</td>\n",
       "      <td>12.840487</td>\n",
       "      <td>5.672390</td>\n",
       "      <td>8.936540</td>\n",
       "    </tr>\n",
       "    <tr>\n",
       "      <th>5998</th>\n",
       "      <td>/mnt/e/carlos/code/epidemic-sound/genre-classi...</td>\n",
       "      <td>rock</td>\n",
       "      <td>1643.3151</td>\n",
       "      <td>797.69214</td>\n",
       "      <td>3091.2725</td>\n",
       "      <td>1585.78760</td>\n",
       "      <td>86.132810</td>\n",
       "      <td>17.007574</td>\n",
       "      <td>0.092315</td>\n",
       "      <td>0.059356</td>\n",
       "      <td>...</td>\n",
       "      <td>-151.346660</td>\n",
       "      <td>135.149190</td>\n",
       "      <td>86.941770</td>\n",
       "      <td>42.230810</td>\n",
       "      <td>-0.679447</td>\n",
       "      <td>21.982302</td>\n",
       "      <td>43.764786</td>\n",
       "      <td>12.837153</td>\n",
       "      <td>11.050824</td>\n",
       "      <td>12.569325</td>\n",
       "    </tr>\n",
       "    <tr>\n",
       "      <th>5999</th>\n",
       "      <td>/mnt/e/carlos/code/epidemic-sound/genre-classi...</td>\n",
       "      <td>rock</td>\n",
       "      <td>1720.4790</td>\n",
       "      <td>556.19055</td>\n",
       "      <td>3684.9950</td>\n",
       "      <td>1078.26070</td>\n",
       "      <td>81.051380</td>\n",
       "      <td>17.281374</td>\n",
       "      <td>0.072731</td>\n",
       "      <td>0.033762</td>\n",
       "      <td>...</td>\n",
       "      <td>-134.797650</td>\n",
       "      <td>48.519820</td>\n",
       "      <td>85.445330</td>\n",
       "      <td>29.974820</td>\n",
       "      <td>7.399463</td>\n",
       "      <td>11.737446</td>\n",
       "      <td>43.908905</td>\n",
       "      <td>10.542489</td>\n",
       "      <td>-2.776108</td>\n",
       "      <td>9.202651</td>\n",
       "    </tr>\n",
       "  </tbody>\n",
       "</table>\n",
       "<p>6000 rows × 22 columns</p>\n",
       "</div>"
      ],
      "text/plain": [
       "                                                   Name  Genre   Centroid  \\\n",
       "0     /mnt/e/carlos/code/epidemic-sound/genre-classi...  blues  1776.6237   \n",
       "1     /mnt/e/carlos/code/epidemic-sound/genre-classi...  blues  1785.8243   \n",
       "2     /mnt/e/carlos/code/epidemic-sound/genre-classi...  blues  1641.8365   \n",
       "3     /mnt/e/carlos/code/epidemic-sound/genre-classi...  blues  1974.1486   \n",
       "4     /mnt/e/carlos/code/epidemic-sound/genre-classi...  blues  1762.8859   \n",
       "...                                                 ...    ...        ...   \n",
       "5995  /mnt/e/carlos/code/epidemic-sound/genre-classi...   rock  1734.8616   \n",
       "5996  /mnt/e/carlos/code/epidemic-sound/genre-classi...   rock  1501.9634   \n",
       "5997  /mnt/e/carlos/code/epidemic-sound/genre-classi...   rock  1685.1466   \n",
       "5998  /mnt/e/carlos/code/epidemic-sound/genre-classi...   rock  1643.3151   \n",
       "5999  /mnt/e/carlos/code/epidemic-sound/genre-classi...   rock  1720.4790   \n",
       "\n",
       "      Centroid Std  Rolloff 85%  Rolloff 85% Std  Rolloff 05%  \\\n",
       "0        377.17233    3738.6270        985.05164    88.648380   \n",
       "1        304.09494    3941.2302        822.78520    77.177414   \n",
       "2        312.72394    3501.3591        862.11980    83.768190   \n",
       "3        453.60916    4329.5320       1072.72660    87.239660   \n",
       "4        341.77304    3810.7732        921.77220    96.647860   \n",
       "...            ...          ...              ...          ...   \n",
       "5995     962.52716    3273.8518       1965.47470    84.070050   \n",
       "5996     444.59665    3271.0847        909.91370    78.334570   \n",
       "5997     540.82480    3410.0947       1154.81510    76.523370   \n",
       "5998     797.69214    3091.2725       1585.78760    86.132810   \n",
       "5999     556.19055    3684.9950       1078.26070    81.051380   \n",
       "\n",
       "      Rolloff 05% Std  Zero-Crossing Rate  Zero-Crossing Rate (Std)  ...  \\\n",
       "0           36.565563            0.084349                  0.028513  ...   \n",
       "1           36.592415            0.076144                  0.023925  ...   \n",
       "2           31.730270            0.070274                  0.016688  ...   \n",
       "3           38.382683            0.093613                  0.035050  ...   \n",
       "4           42.882904            0.074839                  0.020703  ...   \n",
       "...               ...                 ...                       ...  ...   \n",
       "5995        12.074379            0.090955                  0.072451  ...   \n",
       "5996        18.395823            0.055256                  0.027510  ...   \n",
       "5997        20.109201            0.081237                  0.030837  ...   \n",
       "5998        17.007574            0.092315                  0.059356  ...   \n",
       "5999        17.281374            0.072731                  0.033762  ...   \n",
       "\n",
       "          MFCC-0  MFCC-0 Std      MFCC-1  MFCC-1 Std     MFCC-2  MFCC-2 Std  \\\n",
       "0     -76.225550   47.812977   92.672900   14.645846  -0.869542   19.100159   \n",
       "1     -91.701820   56.353924   87.307205   13.573576   8.877044   13.475040   \n",
       "2     -63.532482   49.678787  101.299100   16.561068   2.802329   13.072867   \n",
       "3     -62.029247   52.925180   83.612180   18.532612   7.062488   15.529668   \n",
       "4     -65.729360   46.212124   93.085550   14.109302   2.104553   16.896526   \n",
       "...          ...         ...         ...         ...        ...         ...   \n",
       "5995 -159.247790  151.365970   79.595116   49.224750  10.982214   18.773592   \n",
       "5996 -151.975890   32.515625   99.937610   24.508549  10.552804   11.402127   \n",
       "5997 -122.105470   41.616535   94.759720   28.129717  -8.664053   14.039194   \n",
       "5998 -151.346660  135.149190   86.941770   42.230810  -0.679447   21.982302   \n",
       "5999 -134.797650   48.519820   85.445330   29.974820   7.399463   11.737446   \n",
       "\n",
       "         MFCC-3  MFCC-3 Std     MFCC-4  MFCC-4 Std  \n",
       "0     26.020918   15.581945   5.278315    9.272931  \n",
       "1     31.626858   15.997764   7.072044   11.073791  \n",
       "2     20.934095   11.660361   0.627935   10.978201  \n",
       "3     25.633170   12.685728   2.365620   10.459905  \n",
       "4     22.881002   14.509435   2.742398   11.131560  \n",
       "...         ...         ...        ...         ...  \n",
       "5995  44.594130    9.170195  15.003209   10.369448  \n",
       "5996  37.841970   12.580439   1.625850    8.125340  \n",
       "5997  30.606050   12.840487   5.672390    8.936540  \n",
       "5998  43.764786   12.837153  11.050824   12.569325  \n",
       "5999  43.908905   10.542489  -2.776108    9.202651  \n",
       "\n",
       "[6000 rows x 22 columns]"
      ]
     },
     "metadata": {},
     "output_type": "display_data"
    }
   ],
   "source": [
    "import os \n",
    "import pandas as pd\n",
    "import numpy as np\n",
    "import IPython.display as ipd\n",
    "\n",
    "src_dir = os.getcwd()\n",
    "features_dir = os.path.join(src_dir, 'dataset')\n",
    "\n",
    "# Loading features and targets\n",
    "data_df = pd.read_csv(os.path.join(features_dir, 'features.csv'), sep=',')\n",
    "\n",
    "targets = data_df['Genre'].values                           ## Genre columns should be our targets\n",
    "genres = sorted(list(np.unique(targets)))                   ## list with our 10 possible classes\n",
    "\n",
    "features = data_df.drop(columns=['Name', 'Genre']).values   ## Dropping non-feature columns\n",
    "\n",
    "#print(\"Features:\")\n",
    "#ipd.display(data_df.drop(columns=['Name', 'Genre']))\n",
    "#print(\"Targets: \")\n",
    "#ipd.display(data_df['Genre'])\n",
    "ipd.display(data_df)"
   ]
  },
  {
   "cell_type": "markdown",
   "metadata": {},
   "source": [
    "## PCA and Visualisation of Data\n",
    "\n",
    "Briefly speaking, Principal Component Analysis, or PCA, is a statistical technique to project high dimensional data to a lower dimension by selecting linear combination of features that capture maximum information about the dataset. The dimentionality reduction is done by projecting the old variable into a new set of uncorrelated variables called principal component (PC) while retaining the most possible variation within the feature space\n",
    "\n",
    "In our genre classification project, we will be working with only 20 features, which is a fairly low number of features for current ML classifiers. But sometimes, huge number of features might be important for a task and PCA can be used to reduce the dimensionality of our data and facilitate training. \n",
    "\n",
    "Let's make a PCA to reduce our feature space to 5-D and see how much information is related to each initial feature. "
   ]
  },
  {
   "cell_type": "code",
   "execution_count": 2,
   "metadata": {},
   "outputs": [
    {
     "data": {
      "image/png": "[encoded data removed]",
      "text/plain": [
       "<Figure size 1080x576 with 4 Axes>"
      ]
     },
     "metadata": {
      "needs_background": "light"
     },
     "output_type": "display_data"
    }
   ],
   "source": [
    "%matplotlib inline\n",
    "import matplotlib.pyplot as plt\n",
    "from sklearn.decomposition import PCA\n",
    "from sklearn.preprocessing import StandardScaler\n",
    "from seaborn import heatmap\n",
    "\n",
    "n_components = 5\n",
    "names = data_df.drop(columns=['Name', 'Genre']).columns.values.tolist()\n",
    "fig, (ax1,ax2) = plt.subplots(nrows=1, ncols=2, figsize = (15,8))\n",
    "\n",
    "## PCA without normalising features\n",
    "pca_ = PCA(n_components=n_components).fit(features)\n",
    "pc_list = [\"PC\"+str(i) for i in list(range(1, pca_.n_features_ + 1))]\n",
    "comp_df = pd.DataFrame.from_dict(dict(zip(pc_list, pca_.components_)))\n",
    "comp_df['Feature'] = names\n",
    "comp_df = comp_df.set_index('Feature')\n",
    "\n",
    "heatmap(comp_df, annot=True, cmap='YlGnBu', ax=ax1)\n",
    "ax1.set_title('Heatmap of Normalised PCA', fontsize=15)\n",
    "\n",
    "## PCA normalising features\n",
    "scaler_ = StandardScaler()\n",
    "scaled_features = scaler_.fit_transform(features)\n",
    "pca_ = PCA(n_components=n_components).fit(scaled_features)\n",
    "pc_list = [\"PC\"+str(i) for i in list(range(1, pca_.n_features_ + 1))]\n",
    "comp_df = pd.DataFrame.from_dict(dict(zip(pc_list, pca_.components_)))\n",
    "comp_df['Feature'] = names\n",
    "comp_df = comp_df.set_index('Feature')\n",
    "\n",
    "heatmap(comp_df, annot=True, cmap='YlGnBu', ax=ax2)\n",
    "ax2.set_title('Heatmap of Normalised PCA', fontsize=15)\n",
    "plt.show()"
   ]
  },
  {
   "cell_type": "markdown",
   "metadata": {},
   "source": [
    "On the left you can see the PCA applied on the unormalised features and on the right the PCA applied after normalising each feature to 0 mean and 1 variance. Observe how PCA is largely affected by different scales of our features. \n",
    "\n",
    "When using the unormalised dataset, only the first 4 features already give us information for computing the principal components. However, by just normalising our dataset to the same scale, we can project our data to a lower dimensional space taking into account a lot of information about the other features.\n",
    "\n",
    "Other than bringing more information from features to the PCA decomposition, it is also good to normalise the features because usually it facilitates learning, reduce training time and improve classification results. So, for now on we are just going to use the normalised set of features.\n",
    "\n",
    "Another interesting thing we can do is to project our features to 2 dimensions by using PCA in order to visualise how the data we are working with looks like. By doing so, we can have insights on how hard some classes might be to classify."
   ]
  },
  {
   "cell_type": "code",
   "execution_count": 3,
   "metadata": {},
   "outputs": [
    {
     "data": {
      "image/png": "[encoded data removed]",
      "text/plain": [
       "<Figure size 1080x576 with 1 Axes>"
      ]
     },
     "metadata": {
      "needs_background": "light"
     },
     "output_type": "display_data"
    }
   ],
   "source": [
    "from sklearn.decomposition import PCA\n",
    "\n",
    "n_components = 2\n",
    "\n",
    "## PCA with normalised features\n",
    "pca_ = PCA(n_components=2)\n",
    "features_pca = pca_.fit_transform(scaled_features)\n",
    "\n",
    "features_pca_df = pd.DataFrame(features_pca, columns = ['Principal Component 1', 'Principal Component 2'])\n",
    "data_pca_df = pd.concat([features_pca_df, data_df['Genre']], axis = 1) ## adding labels for scatterplot\n",
    "\n",
    "fig, ax = plt.subplots(figsize = (15,8))\n",
    "\n",
    "ax.set_xlabel('Principal Component 1', fontsize=12)\n",
    "ax.set_ylabel('Principal Component 2', fontsize=12)\n",
    "ax.set_title('Normalized PCA', fontsize=15)\n",
    "\n",
    "targets = data_df['Genre'].values                           ## Genre columns should be our targets\n",
    "genres = sorted(list(np.unique(targets)))                   ## list with our 10 possible classes\n",
    "colors=['#1f77b4', '#ff7f0e', '#2ca02c', '#d62728', '#9467bd', '#8c564b', '#e377c2', '#7f7f7f', '#bcbd22', '#17becf']\n",
    "\n",
    "for g, color in zip(genres,colors):\n",
    "    ax.scatter(data_pca_df.loc[data_pca_df['Genre']==g, 'Principal Component 1'], \n",
    "                data_pca_df.loc[data_pca_df['Genre']==g, 'Principal Component 2'],\n",
    "                c=color, s=60)\n",
    "    \n",
    "ax.legend(genres)\n",
    "ax.grid()"
   ]
  },
  {
   "cell_type": "markdown",
   "metadata": {},
   "source": [
    "As you can see, even when using only 2 principal components of our initial 20 features, we can see there is some separation between the classes. As we might have expected, the rock genre formed a cloud in the middle of our 2D-plot, reflecting the higher variance of this particular genre if compared to other classes. If we exclude this genre from our scatterplot, look how  the different clips cluster together based on their genre. \n",
    "\n",
    "This tells us that we made a good choice of features to use on our classifiers."
   ]
  },
  {
   "cell_type": "code",
   "execution_count": 4,
   "metadata": {},
   "outputs": [
    {
     "data": {
      "image/png": "[encoded data removed]",
      "text/plain": [
       "<Figure size 1080x576 with 1 Axes>"
      ]
     },
     "metadata": {
      "needs_background": "light"
     },
     "output_type": "display_data"
    }
   ],
   "source": [
    "fig, ax = plt.subplots(figsize = (15,8))\n",
    "\n",
    "ax.set_xlabel('Principal Component 1', fontsize=12)\n",
    "ax.set_ylabel('Principal Component 2', fontsize=12)\n",
    "ax.set_title('Normalized PCA', fontsize=15)\n",
    "\n",
    "targets = data_df['Genre'].values                           ## Genre columns should be our targets\n",
    "genres = sorted(list(np.unique(targets)))                   ## list with our 10 possible classes\n",
    "colors=['#1f77b4', '#ff7f0e', '#2ca02c', '#d62728', '#9467bd', '#8c564b', '#e377c2', '#7f7f7f', '#bcbd22', '#17becf']\n",
    "\n",
    "for g, color in zip(genres[:-1],colors[:-1]):\n",
    "    ax.scatter(data_pca_df.loc[data_pca_df['Genre']==g, 'Principal Component 1'], \n",
    "                data_pca_df.loc[data_pca_df['Genre']==g, 'Principal Component 2'],\n",
    "                c=color, s=60)\n",
    "    \n",
    "ax.legend(genres)\n",
    "ax.grid()"
   ]
  },
  {
   "cell_type": "markdown",
   "metadata": {},
   "source": [
    "## Training and Cross Validation:\n",
    "\n",
    "Training the weights of a classsifier and testing it on the same data is a methodological mistake: we can end up with a model that would just memorised all the labels and repeat them- All the test data has already been seen during training. The model would fail to predict anything useful on yet-unseen data. This situation is called overfitting. \n",
    "\n",
    "To avoid overfitting, it is common practice when performing a (supervised) machine learning experiment to hold out part of the available data as a test set, i.e., splitting our features into a `X_train` and `X_test` sets and our targets as a `y_train` and `y_test` sets correspondingly. We are going to use 20% of data to test our classifiers and 80% to train, which is the usual ratio.\n",
    "\n",
    "However, performing a single Train/Test split can induce bias in our predictions since the results will depend on the particular choice for the pair of (Train, Test) sets. Moreover, since we have to initially held out 20% of all available data to be used just for testing, the number of samples that will be effectivelly used to train our models are going to be even smaller. Since we already have a relativelly small dataset, our evaluation on the test set might not be so realistic.\n",
    "\n",
    "A better approach is to perform **K-fold cross validation**, in which the full dataset is split into **K** smaller sets called *folds*, such that:\n",
    "\n",
    "* The model is trained using **K-1** of the folds as training data;\n",
    "* The resulting model is evaluated on the remaining fold;\n",
    "* The final performance measure is the average of the metrics computed across each fold.  \n",
    "\n",
    "This approach can be computationally expensive, but does not waste too much data (as is the case when fixing an arbitrary a test set), which is a major advantage in problems, specially when the number of labelled samples is very small.\n",
    "\n",
    "Let's train a K-Nearest Neighbor in our dataset using a regular train/test split of 80/20 and then perform a 5-folds cross validation."
   ]
  },
  {
   "cell_type": "code",
   "execution_count": 5,
   "metadata": {},
   "outputs": [
    {
     "name": "stdout",
     "output_type": "stream",
     "text": [
      "F1-score (macro) = 0.7504\n",
      "F1-score (micro) = 0.7542\n",
      "Accuracy         = 0.7542\n"
     ]
    }
   ],
   "source": [
    "from sklearn.preprocessing import LabelEncoder\n",
    "from sklearn.model_selection import train_test_split\n",
    "from sklearn.neighbors import KNeighborsClassifier\n",
    "from sklearn.metrics import f1_score, accuracy_score\n",
    "\n",
    "n_neighbors=5\n",
    "enc = LabelEncoder()\n",
    "enc = enc.fit(genres)\n",
    "targets_enc = enc.transform(targets) ## Converting string targets into numbers.\n",
    "\n",
    "X_train, X_test, y_train, y_test = train_test_split(scaled_features, targets_enc, \n",
    "                                                    test_size=0.2, \n",
    "                                                    shuffle=True, \n",
    "                                                    random_state=2022) # 80% training and 20% test\n",
    "\n",
    "model = KNeighborsClassifier(n_neighbors=n_neighbors)\n",
    "model.fit(X_train, y_train)\n",
    "y_pred = model.predict(X_test)\n",
    "\n",
    "f1_macro = f1_score(y_pred, y_test, average='macro')\n",
    "f1_micro = f1_score(y_pred, y_test, average='micro')\n",
    "acc = accuracy_score(y_pred, y_test)\n",
    "\n",
    "print(\"F1-score (macro) = {:.4f}\".format(f1_macro))\n",
    "print(\"F1-score (micro) = {:.4f}\".format(f1_micro))\n",
    "print(\"Accuracy         = {:.4f}\".format(acc))"
   ]
  },
  {
   "cell_type": "markdown",
   "metadata": {},
   "source": [
    "Our simple KNN classifier had an impressive 75% of performance in this particular train/test split. Let's get a more statistically significant measure by computing a 5-fold cross validation."
   ]
  },
  {
   "cell_type": "code",
   "execution_count": 6,
   "metadata": {},
   "outputs": [
    {
     "name": "stdout",
     "output_type": "stream",
     "text": [
      "F1-score (macro) in each fold was [0.7503513363998817, 0.7586274646282607, 0.7587008909748779, 0.7504965168930735, 0.7554276528024578]\n",
      "F1-score (micro) in each fold was [0.7541666666666665, 0.7591666666666667, 0.76, 0.7508333333333334, 0.7566666666666667]\n",
      "Accuracy in each fold was         [0.7541666666666667, 0.7591666666666667, 0.76, 0.7508333333333334, 0.7566666666666667]\n",
      "\n",
      "\n",
      "Average F1-score (macro) of 0.7547 with stf dev of 0.0037\n",
      "Average F1-score (micro) of 0.7562 with std dev of 0.0034\n",
      "Accuracy of 0.7562 with std dev of 0.0034\n"
     ]
    }
   ],
   "source": [
    "from sklearn.model_selection import KFold\n",
    "\n",
    "n_folds = 5\n",
    "\n",
    "f1_macro = []\n",
    "f1_micro = []\n",
    "acc = []\n",
    "\n",
    "kf = KFold(n_splits=n_folds, random_state=2022, shuffle=True)\n",
    "\n",
    "for train_idx, test_idx in kf.split(scaled_features):\n",
    "    \n",
    "    X_train, y_train, = scaled_features[train_idx], targets_enc[train_idx]\n",
    "    X_test, y_test = scaled_features[test_idx], targets_enc[test_idx]\n",
    "\n",
    "    model = KNeighborsClassifier(n_neighbors=n_neighbors)\n",
    "    model.fit(X_train, y_train)\n",
    "    y_pred = model.predict(X_test)\n",
    "\n",
    "    f1_macro.append(f1_score(y_test, y_pred, average='macro'))\n",
    "    f1_micro.append(f1_score(y_test, y_pred, average='micro'))\n",
    "    acc.append(accuracy_score(y_test, y_pred))\n",
    "\n",
    "print(\"F1-score (macro) in each fold was {}\".format(f1_macro))\n",
    "print(\"F1-score (micro) in each fold was {}\".format(f1_micro))\n",
    "print(\"Accuracy in each fold was         {}\".format(acc))\n",
    "print('\\n')\n",
    "print(\"Average F1-score (macro) of {:.4f} with stf dev of {:.4f}\".format(np.mean(f1_macro), np.std(f1_macro)))\n",
    "print(\"Average F1-score (micro) of {:.4f} with std dev of {:.4f}\".format(np.mean(f1_micro), np.std(f1_micro)))\n",
    "print(\"Accuracy of {:.4f} with std dev of {:.4f}\".format(np.mean(acc), np.std(acc)))"
   ]
  },
  {
   "cell_type": "markdown",
   "metadata": {},
   "source": [
    "Checking the results of the crosss validation, we can conlude, with a higher level of significancy, that our KNN classifier would be able to obtain around 75,6% accuracy if it was used to classify genres of new out-of-GTZAN audio samples. \n",
    "\n",
    "Of course that if we had evaluated using a larger test set, the performance would probably decrease, but, as a proof of concept, this simple KNN has turned out to be a quite good baseline to work with.\n",
    "\n",
    "This result also shows that our choice of features were quite meaningfull for this particular classification task."
   ]
  },
  {
   "cell_type": "markdown",
   "metadata": {},
   "source": [
    "## Tweaking Hyperparameters\n",
    "\n",
    "Another important topic I think it is important to discuss here is searching for the perfect hyperparameters. \n",
    "\n",
    "Machine learning models have hyperparameters that should be set beforehand. Ideally, our choices for hyperparameters should be tweaked for the particular task and data. In the case of our previous KNN classifier, a good example of a hyperparameter is the number of neighbors to be used in the classifier. \n",
    ">**Why should we use 5 neighbors? Maybe another value might give us better results...**\n",
    "\n",
    "Indeed, this is a question that we can only answer if we effectivelly experiment multiple values for the hyperparameter and keep the best one. This is exactly what we will be doing next. \n",
    "\n",
    "Some models have a lot of hyperparameters that, ideally, should all be tweaked, but since we dont have much time and the idea of this project is just to give an overall overview, we will be performing a single-hyperparameter search for some traditional ML models to show how it is possible to increase their performance.\n",
    "\n",
    "Furthermore, at the same time we perform a grid search for best hyperparameter, let's also check if we can use PCA to decrease the number of features and get better results by training classifiers in lower dimensions.  \n",
    "\n",
    "For the sake of time, we are not going to perform K-fold validation of our models anymore. We will be using a single train/test split to make things a bit faster. However, in a real-world scenario, it would be recommended to perform the search for best hyperparameters and at the same time k-fold cross validating the performance."
   ]
  },
  {
   "cell_type": "code",
   "execution_count": 7,
   "metadata": {},
   "outputs": [],
   "source": [
    "from tqdm.notebook import tqdm\n",
    "from sklearn.metrics import f1_score, accuracy_score\n",
    "\n",
    "def tuneModelAndPCA(ModelType, PCA_range, param_name, param_range, **kwargs):\n",
    "    \"\"\"This function receives a scikit-learn model class with corresponding hyperparameter\n",
    "       name and performs a hyperparameter search based on a provided grid. It also tests\n",
    "       the model using different numbers of PCA components\n",
    "\n",
    "        Args:\n",
    "            ModelType (scikit-learn model): Model to be trained\n",
    "            PCA_range (iterable): Grid with number of PCA components to be searched\n",
    "            param_name (str): Name of parameter passed to function sklearn.Modeltype(**kwargs[param_name])\n",
    "            param_range (iterable): Grid with possible values of parameters to be searched\n",
    "        Returns:\n",
    "            (tuple of dict): [f1_score_macro, f1_score_micro, accuracy_score]. Scores for every possible combination \n",
    "                                                                               of PCA and Hyperparameter\n",
    "        \"\"\" \n",
    "    global X_train\n",
    "    global X_test\n",
    "    global y_train\n",
    "    global y_test\n",
    "\n",
    "    ## Dictionaries to store best scores\n",
    "    f1_scores_mac = {}\n",
    "    f1_scores_mic = {}\n",
    "    acc_scores = {} \n",
    "\n",
    "    for comp in tqdm(PCA_range, desc=\"Training models using PCA...\", position=0):\n",
    "        f1_scores_mac[comp] = []\n",
    "        f1_scores_mic[comp] = []\n",
    "        acc_scores[comp] = []\n",
    "        if comp != X_train.shape[1]:\n",
    "            pca_ = PCA(n_components=comp)\n",
    "            X_train_pca = pca_.fit_transform(X_train)\n",
    "            X_test_pca = pca_.transform(X_test)\n",
    "        else:\n",
    "            X_train_pca = X_train\n",
    "            X_test_pca = X_test\n",
    "            \n",
    "        for param in tqdm(param_range, desc=\"Testing different values of hyperparameter {}...\".format(param_name), position=0, leave=False):\n",
    "            kwargs[param_name] = param\n",
    "            \n",
    "            # Create Classifier of ModelType with hyperparameter to tweak\n",
    "            model = ModelType(**kwargs)\n",
    "\n",
    "            #Train the model using the training set\n",
    "            model.fit(X_train_pca, y_train)\n",
    "            #Predict the response for test dataset\n",
    "            y_pred = model.predict(X_test_pca)\n",
    "            \n",
    "            f1_macro = f1_score(y_test, y_pred, average='macro')\n",
    "            f1_micro = f1_score(y_test, y_pred, average='micro')\n",
    "            acc = accuracy_score(y_test, y_pred)\n",
    "\n",
    "            f1_scores_mac[comp].append(f1_macro)\n",
    "            f1_scores_mic[comp].append(f1_micro)\n",
    "            acc_scores[comp].append(acc)\n",
    "\n",
    "    return (f1_scores_mac, f1_scores_mic, acc_scores)\n",
    "\n",
    "def createEvalDataframe(f1_scores_mac, f1_scores_mic, acc_scores, PCA_range, param_range):\n",
    "    \"\"\"Creates a dataframe using the scores computed by tuneModelAndPCA()\n",
    "    Args:\n",
    "        f1_scores_mac (dict)       : F1 score (macro) for every combination of number of PCA components and hyperparameter\n",
    "        f1_scores_mic (dict)       : F1 score (macro) for every combination of number of PCA components and hyperparameter\n",
    "        acc_scores (dict)          : Accuracy for every combination of number of PCA components and hyperparameter\n",
    "        PCA_range (list,iterable)  : range of components for PCA analysis (1 to 20 in our case)\n",
    "        param_range (list,iterable): hyper parameter grid we used\n",
    "\n",
    "    Returns:\n",
    "        [pd.dataframe]: A dataframe with scores in which the number of PCA components will be columns \n",
    "                        and choice of hyperparameter the rows\n",
    "    \"\"\"\n",
    "\n",
    "    ind = pd.MultiIndex.from_product([param_range,['F1_macro', 'F1_micro', 'Accuracy']] , names=['Hyperparameter', \"Scores\"])\n",
    "\n",
    "    scs = []\n",
    "    for comp in PCA_range:\n",
    "        x = list(zip(f1_scores_mac[comp], f1_scores_mic[comp], acc_scores[comp]))\n",
    "        v = [s for sc in x for s in sc]\n",
    "        scs.append(v)\n",
    "\n",
    "    df = pd.DataFrame(data=np.array(scs).T, index=ind, columns=['PCA_{}'.format(str(comp)) for comp in PCA_range])\n",
    "    \n",
    "    df.head(30)\n",
    "    return df\n",
    "\n",
    "def getBestResults(df, param_name='HyperParameter', verbose=True):\n",
    "    \"\"\"\n",
    "    Computes the best combination of number of PCA components and hyperparameter choice given on the dataframe\n",
    "    \n",
    "    Args:\n",
    "        df (pd,dataFrame)           : A dataframe with scores in which the number of PCA components \n",
    "                                      will be columns and choice of hyperparameter the rows\n",
    "        param_name (str)            : Name of hyperparameter tested\n",
    "        verbose (bool, default:True): if True, print the best results \n",
    "    Returns:\n",
    "        [dict]: dictionary with best scores for every metric\n",
    "    \"\"\"\n",
    "    best_f1_mac = df.groupby(['Scores']).max().max(axis='columns')['F1_macro']\n",
    "    best_f1_mic = df.groupby(['Scores']).max().max(axis='columns')['F1_micro']\n",
    "    best_acc = df.groupby(['Scores']).max().max(axis='columns')['Accuracy']\n",
    "\n",
    "    best_PCA_f1_mac = df.groupby(['Scores']).max().idxmax(axis='columns')['F1_macro']\n",
    "    best_PCA_f1_mic = df.groupby(['Scores']).max().idxmax(axis='columns')['F1_micro']\n",
    "    best_PCA_acc = df.groupby(['Scores']).max().idxmax(axis='columns')['Accuracy']\n",
    "\n",
    "    best_param_f1_mac = df.groupby(['Scores'])[best_PCA_f1_mac].idxmax()['F1_macro'][0]\n",
    "    best_param_f1_mic = df.groupby(['Scores'])[best_PCA_f1_mic].idxmax()['F1_micro'][0]\n",
    "    best_param_acc = df.groupby(['Scores'])[best_PCA_acc].idxmax()['Accuracy'][0]\n",
    "    \n",
    "    best_scores = {\n",
    "        'f1_mac': (best_f1_mac, int(best_PCA_f1_mac.split('_')[1]), best_param_f1_mac),\n",
    "        'f1_mic': (best_f1_mic, int(best_PCA_f1_mic.split('_')[1]), best_param_f1_mic),\n",
    "        'acc': (best_acc, int(best_PCA_acc.split('_')[1]), best_param_acc)\n",
    "    }\n",
    "\n",
    "    if verbose:\n",
    "        print('Best achievable F1-macro was {:.4f}. When using {} PCA components and \\'{}\\' = {}'.format(best_f1_mac, \n",
    "                                                                                                   best_PCA_f1_mac.split('_')[1], \n",
    "                                                                                                   param_name,\n",
    "                                                                                                   best_param_f1_mac))\n",
    "        print('Best achievable F1-micro was {:.4f}. When using {} PCA components and \\'{}\\' = {}'.format(best_f1_mic, \n",
    "                                                                                                   best_PCA_f1_mic.split('_')[1],\n",
    "                                                                                                   param_name, \n",
    "                                                                                                   best_param_f1_mic))\n",
    "        print('Best achievable accuracy was {:.4f}. When using {} PCA components and \\'{}\\' = {}'.format(best_acc, \n",
    "                                                                                                   best_PCA_acc.split('_')[1], \n",
    "                                                                                                   param_name,\n",
    "                                                                                                   best_param_acc))\n",
    "    return best_scores\n",
    "        "
   ]
  },
  {
   "cell_type": "markdown",
   "metadata": {},
   "source": [
    "We are going to teak hyperparameters by calling our function `tuneModelAndPCA`, which will tune a particular hyperparameter of a model and also evaluate the results varying the number of components of the PCA. \n",
    "\n",
    "Before starting, we should setup a single train/test split again and set the range to vary the number of PCA components, which we are going to experiment from 1 to 20 (original feature dimension size)"
   ]
  },
  {
   "cell_type": "code",
   "execution_count": 8,
   "metadata": {},
   "outputs": [],
   "source": [
    "## Setting train/test split\n",
    "X_train, X_test, y_train, y_test = train_test_split(scaled_features, targets_enc, \n",
    "                                                    test_size=0.2, \n",
    "                                                    shuffle=True, \n",
    "                                                    random_state=2022) # 80% training and 20% test\n",
    "\n",
    "## Setting range of Best PCA search\n",
    "min_PCA = 1\n",
    "max_PCA = features.shape[1]\n",
    "PCA_range = range(min_PCA, max_PCA + 1)"
   ]
  },
  {
   "cell_type": "markdown",
   "metadata": {},
   "source": [
    "### K-Nearest Neighbors (KNN)\n",
    "\n",
    "The principle behind nearest neighbor classifier is to find a predefined number of training samples closest in distance to the new point, and predict as label for the input that same label that the majority of the neighbors belongs to. We have seen that we were able to get around 75.6% accuracy by checking the classes of the 5 nearest neighbors or our 20-D input. Right now we are going to test how many neighbors would be the perfect choice for our task.\n",
    "\n",
    "We also are going to evaluate the model using lower number of principal components instead of the whole set of the features."
   ]
  },
  {
   "cell_type": "code",
   "execution_count": 9,
   "metadata": {},
   "outputs": [
    {
     "name": "stdout",
     "output_type": "stream",
     "text": [
      "Training KNNs and tweaking its PCA and number of neighbors\n"
     ]
    },
    {
     "data": {
      "application/vnd.jupyter.widget-view+json": {
       "model_id": "4bb91ceeafcf4467a7983097b89895e9",
       "version_major": 2,
       "version_minor": 0
      },
      "text/plain": [
       "Training models using PCA...:   0%|          | 0/20 [00:00<?, ?it/s]"
      ]
     },
     "metadata": {},
     "output_type": "display_data"
    },
    {
     "data": {
      "application/vnd.jupyter.widget-view+json": {
       "model_id": "",
       "version_major": 2,
       "version_minor": 0
      },
      "text/plain": [
       "Testing different values of hyperparameter n_neighbors...:   0%|          | 0/99 [00:00<?, ?it/s]"
      ]
     },
     "metadata": {},
     "output_type": "display_data"
    },
    {
     "data": {
      "application/vnd.jupyter.widget-view+json": {
       "model_id": "",
       "version_major": 2,
       "version_minor": 0
      },
      "text/plain": [
       "Testing different values of hyperparameter n_neighbors...:   0%|          | 0/99 [00:00<?, ?it/s]"
      ]
     },
     "metadata": {},
     "output_type": "display_data"
    },
    {
     "data": {
      "application/vnd.jupyter.widget-view+json": {
       "model_id": "",
       "version_major": 2,
       "version_minor": 0
      },
      "text/plain": [
       "Testing different values of hyperparameter n_neighbors...:   0%|          | 0/99 [00:00<?, ?it/s]"
      ]
     },
     "metadata": {},
     "output_type": "display_data"
    },
    {
     "data": {
      "application/vnd.jupyter.widget-view+json": {
       "model_id": "",
       "version_major": 2,
       "version_minor": 0
      },
      "text/plain": [
       "Testing different values of hyperparameter n_neighbors...:   0%|          | 0/99 [00:00<?, ?it/s]"
      ]
     },
     "metadata": {},
     "output_type": "display_data"
    },
    {
     "data": {
      "application/vnd.jupyter.widget-view+json": {
       "model_id": "",
       "version_major": 2,
       "version_minor": 0
      },
      "text/plain": [
       "Testing different values of hyperparameter n_neighbors...:   0%|          | 0/99 [00:00<?, ?it/s]"
      ]
     },
     "metadata": {},
     "output_type": "display_data"
    },
    {
     "data": {
      "application/vnd.jupyter.widget-view+json": {
       "model_id": "",
       "version_major": 2,
       "version_minor": 0
      },
      "text/plain": [
       "Testing different values of hyperparameter n_neighbors...:   0%|          | 0/99 [00:00<?, ?it/s]"
      ]
     },
     "metadata": {},
     "output_type": "display_data"
    },
    {
     "data": {
      "application/vnd.jupyter.widget-view+json": {
       "model_id": "",
       "version_major": 2,
       "version_minor": 0
      },
      "text/plain": [
       "Testing different values of hyperparameter n_neighbors...:   0%|          | 0/99 [00:00<?, ?it/s]"
      ]
     },
     "metadata": {},
     "output_type": "display_data"
    },
    {
     "data": {
      "application/vnd.jupyter.widget-view+json": {
       "model_id": "",
       "version_major": 2,
       "version_minor": 0
      },
      "text/plain": [
       "Testing different values of hyperparameter n_neighbors...:   0%|          | 0/99 [00:00<?, ?it/s]"
      ]
     },
     "metadata": {},
     "output_type": "display_data"
    },
    {
     "data": {
      "application/vnd.jupyter.widget-view+json": {
       "model_id": "",
       "version_major": 2,
       "version_minor": 0
      },
      "text/plain": [
       "Testing different values of hyperparameter n_neighbors...:   0%|          | 0/99 [00:00<?, ?it/s]"
      ]
     },
     "metadata": {},
     "output_type": "display_data"
    },
    {
     "data": {
      "application/vnd.jupyter.widget-view+json": {
       "model_id": "",
       "version_major": 2,
       "version_minor": 0
      },
      "text/plain": [
       "Testing different values of hyperparameter n_neighbors...:   0%|          | 0/99 [00:00<?, ?it/s]"
      ]
     },
     "metadata": {},
     "output_type": "display_data"
    },
    {
     "data": {
      "application/vnd.jupyter.widget-view+json": {
       "model_id": "",
       "version_major": 2,
       "version_minor": 0
      },
      "text/plain": [
       "Testing different values of hyperparameter n_neighbors...:   0%|          | 0/99 [00:00<?, ?it/s]"
      ]
     },
     "metadata": {},
     "output_type": "display_data"
    },
    {
     "data": {
      "application/vnd.jupyter.widget-view+json": {
       "model_id": "",
       "version_major": 2,
       "version_minor": 0
      },
      "text/plain": [
       "Testing different values of hyperparameter n_neighbors...:   0%|          | 0/99 [00:00<?, ?it/s]"
      ]
     },
     "metadata": {},
     "output_type": "display_data"
    },
    {
     "data": {
      "application/vnd.jupyter.widget-view+json": {
       "model_id": "",
       "version_major": 2,
       "version_minor": 0
      },
      "text/plain": [
       "Testing different values of hyperparameter n_neighbors...:   0%|          | 0/99 [00:00<?, ?it/s]"
      ]
     },
     "metadata": {},
     "output_type": "display_data"
    },
    {
     "data": {
      "application/vnd.jupyter.widget-view+json": {
       "model_id": "",
       "version_major": 2,
       "version_minor": 0
      },
      "text/plain": [
       "Testing different values of hyperparameter n_neighbors...:   0%|          | 0/99 [00:00<?, ?it/s]"
      ]
     },
     "metadata": {},
     "output_type": "display_data"
    },
    {
     "data": {
      "application/vnd.jupyter.widget-view+json": {
       "model_id": "",
       "version_major": 2,
       "version_minor": 0
      },
      "text/plain": [
       "Testing different values of hyperparameter n_neighbors...:   0%|          | 0/99 [00:00<?, ?it/s]"
      ]
     },
     "metadata": {},
     "output_type": "display_data"
    },
    {
     "data": {
      "application/vnd.jupyter.widget-view+json": {
       "model_id": "",
       "version_major": 2,
       "version_minor": 0
      },
      "text/plain": [
       "Testing different values of hyperparameter n_neighbors...:   0%|          | 0/99 [00:00<?, ?it/s]"
      ]
     },
     "metadata": {},
     "output_type": "display_data"
    },
    {
     "data": {
      "application/vnd.jupyter.widget-view+json": {
       "model_id": "",
       "version_major": 2,
       "version_minor": 0
      },
      "text/plain": [
       "Testing different values of hyperparameter n_neighbors...:   0%|          | 0/99 [00:00<?, ?it/s]"
      ]
     },
     "metadata": {},
     "output_type": "display_data"
    },
    {
     "data": {
      "application/vnd.jupyter.widget-view+json": {
       "model_id": "",
       "version_major": 2,
       "version_minor": 0
      },
      "text/plain": [
       "Testing different values of hyperparameter n_neighbors...:   0%|          | 0/99 [00:00<?, ?it/s]"
      ]
     },
     "metadata": {},
     "output_type": "display_data"
    },
    {
     "data": {
      "application/vnd.jupyter.widget-view+json": {
       "model_id": "",
       "version_major": 2,
       "version_minor": 0
      },
      "text/plain": [
       "Testing different values of hyperparameter n_neighbors...:   0%|          | 0/99 [00:00<?, ?it/s]"
      ]
     },
     "metadata": {},
     "output_type": "display_data"
    },
    {
     "data": {
      "application/vnd.jupyter.widget-view+json": {
       "model_id": "",
       "version_major": 2,
       "version_minor": 0
      },
      "text/plain": [
       "Testing different values of hyperparameter n_neighbors...:   0%|          | 0/99 [00:00<?, ?it/s]"
      ]
     },
     "metadata": {},
     "output_type": "display_data"
    },
    {
     "name": "stdout",
     "output_type": "stream",
     "text": [
      "Best achievable F1-macro was 0.8152. When using 20 PCA components and 'n_neighbors' = 1\n",
      "Best achievable F1-micro was 0.8175. When using 20 PCA components and 'n_neighbors' = 1\n",
      "Best achievable accuracy was 0.8175. When using 20 PCA components and 'n_neighbors' = 1\n"
     ]
    }
   ],
   "source": [
    "from sklearn.neighbors import KNeighborsClassifier\n",
    "\n",
    "ModelType = KNeighborsClassifier    # Setting name of sklearn model to use\n",
    "param_name = 'n_neighbors'          # Number of model's hyperparameter to tweak\n",
    "param_range = range(1, 100)         # Grid to search for best hyperparameter\n",
    "\n",
    "print('Training KNNs and tweaking its PCA and number of neighbors')\n",
    "scores_df_knn = createEvalDataframe(*tuneModelAndPCA(ModelType, PCA_range, param_name, param_range),  \n",
    "                                    PCA_range, \n",
    "                                    param_range)\n",
    "knn_scores_knn = getBestResults(df=scores_df_knn, param_name=param_name, verbose=True)"
   ]
  },
  {
   "cell_type": "markdown",
   "metadata": {},
   "source": [
    "Wow! It looks like we got an impressive performance by just using a single neighbor! \n",
    "\n",
    "Since this result seems quite impressive, let's make a quick 5-fold cross validation to check if we can confirm this result with other splits."
   ]
  },
  {
   "cell_type": "code",
   "execution_count": 10,
   "metadata": {},
   "outputs": [
    {
     "name": "stdout",
     "output_type": "stream",
     "text": [
      "F1-score (macro) in each fold was [0.8159746109441025, 0.824703250455768, 0.8306066338472821, 0.7973100961908542, 0.8175339206154579]\n",
      "F1-score (micro) in each fold was [0.8183333333333332, 0.825, 0.83, 0.7966666666666665, 0.8175]\n",
      "Accuracy in each fold was         [0.8183333333333334, 0.825, 0.83, 0.7966666666666666, 0.8175]\n",
      "\n",
      "\n",
      "Average F1-score (macro) of 0.8172 with stf dev of 0.0113\n",
      "Average F1-score (micro) of 0.8175 with std dev of 0.0114\n",
      "Accuracy of 0.8175 with std dev of 0.0114\n"
     ]
    }
   ],
   "source": [
    "n_folds = 5\n",
    "\n",
    "f1_macro = []\n",
    "f1_micro = []\n",
    "acc = []\n",
    "\n",
    "kf = KFold(n_splits=n_folds, random_state=2022, shuffle=True)\n",
    "\n",
    "for train_idx, test_idx in kf.split(scaled_features):\n",
    "    \n",
    "    X_train, y_train, = scaled_features[train_idx], targets_enc[train_idx]\n",
    "    X_test, y_test = scaled_features[test_idx], targets_enc[test_idx]\n",
    "\n",
    "    model = KNeighborsClassifier(n_neighbors=1)\n",
    "    model.fit(X_train, y_train)\n",
    "    y_pred = model.predict(X_test)\n",
    "\n",
    "    f1_macro.append(f1_score(y_test, y_pred, average='macro'))\n",
    "    f1_micro.append(f1_score(y_test, y_pred, average='micro'))\n",
    "    acc.append(accuracy_score(y_test, y_pred))\n",
    "\n",
    "print(\"F1-score (macro) in each fold was {}\".format(f1_macro))\n",
    "print(\"F1-score (micro) in each fold was {}\".format(f1_micro))\n",
    "print(\"Accuracy in each fold was         {}\".format(acc))\n",
    "print('\\n')\n",
    "print(\"Average F1-score (macro) of {:.4f} with stf dev of {:.4f}\".format(np.mean(f1_macro), np.std(f1_macro)))\n",
    "print(\"Average F1-score (micro) of {:.4f} with std dev of {:.4f}\".format(np.mean(f1_micro), np.std(f1_micro)))\n",
    "print(\"Accuracy of {:.4f} with std dev of {:.4f}\".format(np.mean(acc), np.std(acc)))"
   ]
  },
  {
   "cell_type": "markdown",
   "metadata": {},
   "source": [
    "Indeed, the kNN using just a single neighbor can obtain around 81.7% accuracy and F1-score. \n",
    "\n",
    "Now, let's go back and setup our original train/test split to test other models in a single fold again."
   ]
  },
  {
   "cell_type": "code",
   "execution_count": 11,
   "metadata": {},
   "outputs": [],
   "source": [
    "## Setting train/test split again\n",
    "X_train, X_test, y_train, y_test = train_test_split(scaled_features, targets_enc, \n",
    "                                                    test_size=0.2, \n",
    "                                                    shuffle=True, \n",
    "                                                    random_state=2022) # 80% training and 20% test\n",
    "\n",
    "## Setting range of Best PCA search\n",
    "min_PCA = 1\n",
    "max_PCA = features.shape[1]\n",
    "PCA_range = range(min_PCA, max_PCA+1)"
   ]
  },
  {
   "cell_type": "markdown",
   "metadata": {},
   "source": [
    "### Decision Tree\n",
    "Now we are going to train and evaluate a decision tree classifier. \n",
    "\n",
    "We are going to vary the value of `max_depth` of the tree and figure out which is the best one. We are also going to test if using PCA in our features we can obtain better results."
   ]
  },
  {
   "cell_type": "code",
   "execution_count": 12,
   "metadata": {},
   "outputs": [
    {
     "name": "stdout",
     "output_type": "stream",
     "text": [
      "Training Decision Trees and tweaking its PCA and maximum tree depth\n"
     ]
    },
    {
     "data": {
      "application/vnd.jupyter.widget-view+json": {
       "model_id": "e2ac91261416434cbb4e1da2677a6c81",
       "version_major": 2,
       "version_minor": 0
      },
      "text/plain": [
       "Training models using PCA...:   0%|          | 0/20 [00:00<?, ?it/s]"
      ]
     },
     "metadata": {},
     "output_type": "display_data"
    },
    {
     "data": {
      "application/vnd.jupyter.widget-view+json": {
       "model_id": "",
       "version_major": 2,
       "version_minor": 0
      },
      "text/plain": [
       "Testing different values of hyperparameter max_depth...:   0%|          | 0/99 [00:00<?, ?it/s]"
      ]
     },
     "metadata": {},
     "output_type": "display_data"
    },
    {
     "data": {
      "application/vnd.jupyter.widget-view+json": {
       "model_id": "",
       "version_major": 2,
       "version_minor": 0
      },
      "text/plain": [
       "Testing different values of hyperparameter max_depth...:   0%|          | 0/99 [00:00<?, ?it/s]"
      ]
     },
     "metadata": {},
     "output_type": "display_data"
    },
    {
     "data": {
      "application/vnd.jupyter.widget-view+json": {
       "model_id": "",
       "version_major": 2,
       "version_minor": 0
      },
      "text/plain": [
       "Testing different values of hyperparameter max_depth...:   0%|          | 0/99 [00:00<?, ?it/s]"
      ]
     },
     "metadata": {},
     "output_type": "display_data"
    },
    {
     "data": {
      "application/vnd.jupyter.widget-view+json": {
       "model_id": "",
       "version_major": 2,
       "version_minor": 0
      },
      "text/plain": [
       "Testing different values of hyperparameter max_depth...:   0%|          | 0/99 [00:00<?, ?it/s]"
      ]
     },
     "metadata": {},
     "output_type": "display_data"
    },
    {
     "data": {
      "application/vnd.jupyter.widget-view+json": {
       "model_id": "",
       "version_major": 2,
       "version_minor": 0
      },
      "text/plain": [
       "Testing different values of hyperparameter max_depth...:   0%|          | 0/99 [00:00<?, ?it/s]"
      ]
     },
     "metadata": {},
     "output_type": "display_data"
    },
    {
     "data": {
      "application/vnd.jupyter.widget-view+json": {
       "model_id": "",
       "version_major": 2,
       "version_minor": 0
      },
      "text/plain": [
       "Testing different values of hyperparameter max_depth...:   0%|          | 0/99 [00:00<?, ?it/s]"
      ]
     },
     "metadata": {},
     "output_type": "display_data"
    },
    {
     "data": {
      "application/vnd.jupyter.widget-view+json": {
       "model_id": "",
       "version_major": 2,
       "version_minor": 0
      },
      "text/plain": [
       "Testing different values of hyperparameter max_depth...:   0%|          | 0/99 [00:00<?, ?it/s]"
      ]
     },
     "metadata": {},
     "output_type": "display_data"
    },
    {
     "data": {
      "application/vnd.jupyter.widget-view+json": {
       "model_id": "",
       "version_major": 2,
       "version_minor": 0
      },
      "text/plain": [
       "Testing different values of hyperparameter max_depth...:   0%|          | 0/99 [00:00<?, ?it/s]"
      ]
     },
     "metadata": {},
     "output_type": "display_data"
    },
    {
     "data": {
      "application/vnd.jupyter.widget-view+json": {
       "model_id": "",
       "version_major": 2,
       "version_minor": 0
      },
      "text/plain": [
       "Testing different values of hyperparameter max_depth...:   0%|          | 0/99 [00:00<?, ?it/s]"
      ]
     },
     "metadata": {},
     "output_type": "display_data"
    },
    {
     "data": {
      "application/vnd.jupyter.widget-view+json": {
       "model_id": "",
       "version_major": 2,
       "version_minor": 0
      },
      "text/plain": [
       "Testing different values of hyperparameter max_depth...:   0%|          | 0/99 [00:00<?, ?it/s]"
      ]
     },
     "metadata": {},
     "output_type": "display_data"
    },
    {
     "data": {
      "application/vnd.jupyter.widget-view+json": {
       "model_id": "",
       "version_major": 2,
       "version_minor": 0
      },
      "text/plain": [
       "Testing different values of hyperparameter max_depth...:   0%|          | 0/99 [00:00<?, ?it/s]"
      ]
     },
     "metadata": {},
     "output_type": "display_data"
    },
    {
     "data": {
      "application/vnd.jupyter.widget-view+json": {
       "model_id": "",
       "version_major": 2,
       "version_minor": 0
      },
      "text/plain": [
       "Testing different values of hyperparameter max_depth...:   0%|          | 0/99 [00:00<?, ?it/s]"
      ]
     },
     "metadata": {},
     "output_type": "display_data"
    },
    {
     "data": {
      "application/vnd.jupyter.widget-view+json": {
       "model_id": "",
       "version_major": 2,
       "version_minor": 0
      },
      "text/plain": [
       "Testing different values of hyperparameter max_depth...:   0%|          | 0/99 [00:00<?, ?it/s]"
      ]
     },
     "metadata": {},
     "output_type": "display_data"
    },
    {
     "data": {
      "application/vnd.jupyter.widget-view+json": {
       "model_id": "",
       "version_major": 2,
       "version_minor": 0
      },
      "text/plain": [
       "Testing different values of hyperparameter max_depth...:   0%|          | 0/99 [00:00<?, ?it/s]"
      ]
     },
     "metadata": {},
     "output_type": "display_data"
    },
    {
     "data": {
      "application/vnd.jupyter.widget-view+json": {
       "model_id": "",
       "version_major": 2,
       "version_minor": 0
      },
      "text/plain": [
       "Testing different values of hyperparameter max_depth...:   0%|          | 0/99 [00:00<?, ?it/s]"
      ]
     },
     "metadata": {},
     "output_type": "display_data"
    },
    {
     "data": {
      "application/vnd.jupyter.widget-view+json": {
       "model_id": "",
       "version_major": 2,
       "version_minor": 0
      },
      "text/plain": [
       "Testing different values of hyperparameter max_depth...:   0%|          | 0/99 [00:00<?, ?it/s]"
      ]
     },
     "metadata": {},
     "output_type": "display_data"
    },
    {
     "data": {
      "application/vnd.jupyter.widget-view+json": {
       "model_id": "",
       "version_major": 2,
       "version_minor": 0
      },
      "text/plain": [
       "Testing different values of hyperparameter max_depth...:   0%|          | 0/99 [00:00<?, ?it/s]"
      ]
     },
     "metadata": {},
     "output_type": "display_data"
    },
    {
     "data": {
      "application/vnd.jupyter.widget-view+json": {
       "model_id": "",
       "version_major": 2,
       "version_minor": 0
      },
      "text/plain": [
       "Testing different values of hyperparameter max_depth...:   0%|          | 0/99 [00:00<?, ?it/s]"
      ]
     },
     "metadata": {},
     "output_type": "display_data"
    },
    {
     "data": {
      "application/vnd.jupyter.widget-view+json": {
       "model_id": "",
       "version_major": 2,
       "version_minor": 0
      },
      "text/plain": [
       "Testing different values of hyperparameter max_depth...:   0%|          | 0/99 [00:00<?, ?it/s]"
      ]
     },
     "metadata": {},
     "output_type": "display_data"
    },
    {
     "data": {
      "application/vnd.jupyter.widget-view+json": {
       "model_id": "",
       "version_major": 2,
       "version_minor": 0
      },
      "text/plain": [
       "Testing different values of hyperparameter max_depth...:   0%|          | 0/99 [00:00<?, ?it/s]"
      ]
     },
     "metadata": {},
     "output_type": "display_data"
    },
    {
     "name": "stdout",
     "output_type": "stream",
     "text": [
      "Best achievable F1-macro was 0.5733. When using 20 PCA components and 'max_depth' = 94\n",
      "Best achievable F1-micro was 0.5750. When using 20 PCA components and 'max_depth' = 37\n",
      "Best achievable accuracy was 0.5750. When using 20 PCA components and 'max_depth' = 37\n"
     ]
    }
   ],
   "source": [
    "from sklearn import tree\n",
    "\n",
    "ModelType = tree.DecisionTreeClassifier    # using decisioon tree\n",
    "param_name = 'max_depth'                   # name of hyperparameter to test\n",
    "param_range = range(1,100)                 # range of max tree depth to test\n",
    "\n",
    "print(\"Training Decision Trees and tweaking its PCA and maximum tree depth\")\n",
    "scores_df_tree = createEvalDataframe(*tuneModelAndPCA(ModelType, PCA_range, param_name, param_range),  \n",
    "                                     PCA_range, \n",
    "                                     param_range)\n",
    "scores_tree = getBestResults(df=scores_df_tree, param_name=param_name, verbose=True)"
   ]
  },
  {
   "cell_type": "markdown",
   "metadata": {},
   "source": [
    "The results of decision tree classifiers were quite modest at around 57.7% accuracy. Using the whole set of 20 features with max_depth of 91 trees seems to have obtained the best result."
   ]
  },
  {
   "cell_type": "markdown",
   "metadata": {},
   "source": [
    "### Support Vector Machine\n",
    "We are going to train and evaluate an SVM classifier now. We are going to vary the value of its kernel type to figure out which one obtains the best performance. We are also going to test if by applying PCA in our features we can obtain better results."
   ]
  },
  {
   "cell_type": "code",
   "execution_count": 13,
   "metadata": {},
   "outputs": [
    {
     "name": "stdout",
     "output_type": "stream",
     "text": [
      "Training SVM Classifier and tweaking its PCA and kernel type\n"
     ]
    },
    {
     "data": {
      "application/vnd.jupyter.widget-view+json": {
       "model_id": "210278047c2d4e90811d2547102857d3",
       "version_major": 2,
       "version_minor": 0
      },
      "text/plain": [
       "Training models using PCA...:   0%|          | 0/20 [00:00<?, ?it/s]"
      ]
     },
     "metadata": {},
     "output_type": "display_data"
    },
    {
     "data": {
      "application/vnd.jupyter.widget-view+json": {
       "model_id": "",
       "version_major": 2,
       "version_minor": 0
      },
      "text/plain": [
       "Testing different values of hyperparameter kernel...:   0%|          | 0/3 [00:00<?, ?it/s]"
      ]
     },
     "metadata": {},
     "output_type": "display_data"
    },
    {
     "data": {
      "application/vnd.jupyter.widget-view+json": {
       "model_id": "",
       "version_major": 2,
       "version_minor": 0
      },
      "text/plain": [
       "Testing different values of hyperparameter kernel...:   0%|          | 0/3 [00:00<?, ?it/s]"
      ]
     },
     "metadata": {},
     "output_type": "display_data"
    },
    {
     "data": {
      "application/vnd.jupyter.widget-view+json": {
       "model_id": "",
       "version_major": 2,
       "version_minor": 0
      },
      "text/plain": [
       "Testing different values of hyperparameter kernel...:   0%|          | 0/3 [00:00<?, ?it/s]"
      ]
     },
     "metadata": {},
     "output_type": "display_data"
    },
    {
     "data": {
      "application/vnd.jupyter.widget-view+json": {
       "model_id": "",
       "version_major": 2,
       "version_minor": 0
      },
      "text/plain": [
       "Testing different values of hyperparameter kernel...:   0%|          | 0/3 [00:00<?, ?it/s]"
      ]
     },
     "metadata": {},
     "output_type": "display_data"
    },
    {
     "data": {
      "application/vnd.jupyter.widget-view+json": {
       "model_id": "",
       "version_major": 2,
       "version_minor": 0
      },
      "text/plain": [
       "Testing different values of hyperparameter kernel...:   0%|          | 0/3 [00:00<?, ?it/s]"
      ]
     },
     "metadata": {},
     "output_type": "display_data"
    },
    {
     "data": {
      "application/vnd.jupyter.widget-view+json": {
       "model_id": "",
       "version_major": 2,
       "version_minor": 0
      },
      "text/plain": [
       "Testing different values of hyperparameter kernel...:   0%|          | 0/3 [00:00<?, ?it/s]"
      ]
     },
     "metadata": {},
     "output_type": "display_data"
    },
    {
     "data": {
      "application/vnd.jupyter.widget-view+json": {
       "model_id": "",
       "version_major": 2,
       "version_minor": 0
      },
      "text/plain": [
       "Testing different values of hyperparameter kernel...:   0%|          | 0/3 [00:00<?, ?it/s]"
      ]
     },
     "metadata": {},
     "output_type": "display_data"
    },
    {
     "data": {
      "application/vnd.jupyter.widget-view+json": {
       "model_id": "",
       "version_major": 2,
       "version_minor": 0
      },
      "text/plain": [
       "Testing different values of hyperparameter kernel...:   0%|          | 0/3 [00:00<?, ?it/s]"
      ]
     },
     "metadata": {},
     "output_type": "display_data"
    },
    {
     "data": {
      "application/vnd.jupyter.widget-view+json": {
       "model_id": "",
       "version_major": 2,
       "version_minor": 0
      },
      "text/plain": [
       "Testing different values of hyperparameter kernel...:   0%|          | 0/3 [00:00<?, ?it/s]"
      ]
     },
     "metadata": {},
     "output_type": "display_data"
    },
    {
     "data": {
      "application/vnd.jupyter.widget-view+json": {
       "model_id": "",
       "version_major": 2,
       "version_minor": 0
      },
      "text/plain": [
       "Testing different values of hyperparameter kernel...:   0%|          | 0/3 [00:00<?, ?it/s]"
      ]
     },
     "metadata": {},
     "output_type": "display_data"
    },
    {
     "data": {
      "application/vnd.jupyter.widget-view+json": {
       "model_id": "",
       "version_major": 2,
       "version_minor": 0
      },
      "text/plain": [
       "Testing different values of hyperparameter kernel...:   0%|          | 0/3 [00:00<?, ?it/s]"
      ]
     },
     "metadata": {},
     "output_type": "display_data"
    },
    {
     "data": {
      "application/vnd.jupyter.widget-view+json": {
       "model_id": "",
       "version_major": 2,
       "version_minor": 0
      },
      "text/plain": [
       "Testing different values of hyperparameter kernel...:   0%|          | 0/3 [00:00<?, ?it/s]"
      ]
     },
     "metadata": {},
     "output_type": "display_data"
    },
    {
     "data": {
      "application/vnd.jupyter.widget-view+json": {
       "model_id": "",
       "version_major": 2,
       "version_minor": 0
      },
      "text/plain": [
       "Testing different values of hyperparameter kernel...:   0%|          | 0/3 [00:00<?, ?it/s]"
      ]
     },
     "metadata": {},
     "output_type": "display_data"
    },
    {
     "data": {
      "application/vnd.jupyter.widget-view+json": {
       "model_id": "",
       "version_major": 2,
       "version_minor": 0
      },
      "text/plain": [
       "Testing different values of hyperparameter kernel...:   0%|          | 0/3 [00:00<?, ?it/s]"
      ]
     },
     "metadata": {},
     "output_type": "display_data"
    },
    {
     "data": {
      "application/vnd.jupyter.widget-view+json": {
       "model_id": "",
       "version_major": 2,
       "version_minor": 0
      },
      "text/plain": [
       "Testing different values of hyperparameter kernel...:   0%|          | 0/3 [00:00<?, ?it/s]"
      ]
     },
     "metadata": {},
     "output_type": "display_data"
    },
    {
     "data": {
      "application/vnd.jupyter.widget-view+json": {
       "model_id": "",
       "version_major": 2,
       "version_minor": 0
      },
      "text/plain": [
       "Testing different values of hyperparameter kernel...:   0%|          | 0/3 [00:00<?, ?it/s]"
      ]
     },
     "metadata": {},
     "output_type": "display_data"
    },
    {
     "data": {
      "application/vnd.jupyter.widget-view+json": {
       "model_id": "",
       "version_major": 2,
       "version_minor": 0
      },
      "text/plain": [
       "Testing different values of hyperparameter kernel...:   0%|          | 0/3 [00:00<?, ?it/s]"
      ]
     },
     "metadata": {},
     "output_type": "display_data"
    },
    {
     "data": {
      "application/vnd.jupyter.widget-view+json": {
       "model_id": "",
       "version_major": 2,
       "version_minor": 0
      },
      "text/plain": [
       "Testing different values of hyperparameter kernel...:   0%|          | 0/3 [00:00<?, ?it/s]"
      ]
     },
     "metadata": {},
     "output_type": "display_data"
    },
    {
     "data": {
      "application/vnd.jupyter.widget-view+json": {
       "model_id": "",
       "version_major": 2,
       "version_minor": 0
      },
      "text/plain": [
       "Testing different values of hyperparameter kernel...:   0%|          | 0/3 [00:00<?, ?it/s]"
      ]
     },
     "metadata": {},
     "output_type": "display_data"
    },
    {
     "data": {
      "application/vnd.jupyter.widget-view+json": {
       "model_id": "",
       "version_major": 2,
       "version_minor": 0
      },
      "text/plain": [
       "Testing different values of hyperparameter kernel...:   0%|          | 0/3 [00:00<?, ?it/s]"
      ]
     },
     "metadata": {},
     "output_type": "display_data"
    },
    {
     "name": "stdout",
     "output_type": "stream",
     "text": [
      "Best achievable F1-macro was 0.7093. When using 19 PCA components and 'kernel' = rbf\n",
      "Best achievable F1-micro was 0.7150. When using 19 PCA components and 'kernel' = rbf\n",
      "Best achievable accuracy was 0.7150. When using 19 PCA components and 'kernel' = rbf\n"
     ]
    }
   ],
   "source": [
    "from sklearn.svm import SVC\n",
    "\n",
    "ModelType=SVC                                     # using support vector machine classifier\n",
    "param_name= 'kernel'                              # we are going to tweak SVM kernel type\n",
    "param_range=['poly', 'rbf', 'sigmoid']  # types of kernel to test\n",
    "\n",
    "print('Training SVM Classifier and tweaking its PCA and kernel type')\n",
    "scores_df_svc = createEvalDataframe(*tuneModelAndPCA(ModelType, PCA_range, param_name, param_range),  \n",
    "                                    PCA_range, \n",
    "                                    param_range)\n",
    "scores_svc = getBestResults(df=scores_df_svc, param_name=param_name, verbose=True)"
   ]
  },
  {
   "cell_type": "markdown",
   "metadata": {},
   "source": [
    "The SVM using an `rbf` kernel obtained the best results. And instead of working with our orinial 20 features, it seems that working with 19 principal componets is preferable in this case. In summary, the SVM classifier managed to get around 71.5% accuracy"
   ]
  },
  {
   "cell_type": "markdown",
   "metadata": {},
   "source": [
    "### Linear Classifiers\n",
    "\n",
    "Let's now train and evaluate Linear classifiers such as linear SVM and logistic regressor using stocastic gradient descent training (SGD). We are going to use the function `sklearn.linear_model.SGDClassifier`, which implements regularised linear models. By changing the parameter `loss` we can choose the loss function and consequently the type of model that is trained.\n",
    "\n",
    "According to the documentation: \n",
    ">The `'hinge'` loss gives a linear SVM, choosing `'log'` loss gives us a logistic regression, a probabilistic classifier. `'modified_huber'` is another smooth loss that brings tolerance to outliers as well as probability estimates. `'squared_hinge' ` is like hinge but is quadratically penalised. \n",
    "\n",
    "We are going to test multiple values for the loss and check which type of classifier gets better result classifying the genres. Once again, we will be performing PCA in our features to verify if we can compress the features while increasing the performance."
   ]
  },
  {
   "cell_type": "code",
   "execution_count": 14,
   "metadata": {},
   "outputs": [
    {
     "name": "stdout",
     "output_type": "stream",
     "text": [
      "Training a linear classifiers using gradient descent and tweaking its PCA and regularization factor\n"
     ]
    },
    {
     "data": {
      "application/vnd.jupyter.widget-view+json": {
       "model_id": "6ec96c1098b04e439bc6c3bcad074b57",
       "version_major": 2,
       "version_minor": 0
      },
      "text/plain": [
       "Training models using PCA...:   0%|          | 0/20 [00:00<?, ?it/s]"
      ]
     },
     "metadata": {},
     "output_type": "display_data"
    },
    {
     "data": {
      "application/vnd.jupyter.widget-view+json": {
       "model_id": "",
       "version_major": 2,
       "version_minor": 0
      },
      "text/plain": [
       "Testing different values of hyperparameter loss...:   0%|          | 0/4 [00:00<?, ?it/s]"
      ]
     },
     "metadata": {},
     "output_type": "display_data"
    },
    {
     "data": {
      "application/vnd.jupyter.widget-view+json": {
       "model_id": "",
       "version_major": 2,
       "version_minor": 0
      },
      "text/plain": [
       "Testing different values of hyperparameter loss...:   0%|          | 0/4 [00:00<?, ?it/s]"
      ]
     },
     "metadata": {},
     "output_type": "display_data"
    },
    {
     "data": {
      "application/vnd.jupyter.widget-view+json": {
       "model_id": "",
       "version_major": 2,
       "version_minor": 0
      },
      "text/plain": [
       "Testing different values of hyperparameter loss...:   0%|          | 0/4 [00:00<?, ?it/s]"
      ]
     },
     "metadata": {},
     "output_type": "display_data"
    },
    {
     "data": {
      "application/vnd.jupyter.widget-view+json": {
       "model_id": "",
       "version_major": 2,
       "version_minor": 0
      },
      "text/plain": [
       "Testing different values of hyperparameter loss...:   0%|          | 0/4 [00:00<?, ?it/s]"
      ]
     },
     "metadata": {},
     "output_type": "display_data"
    },
    {
     "data": {
      "application/vnd.jupyter.widget-view+json": {
       "model_id": "",
       "version_major": 2,
       "version_minor": 0
      },
      "text/plain": [
       "Testing different values of hyperparameter loss...:   0%|          | 0/4 [00:00<?, ?it/s]"
      ]
     },
     "metadata": {},
     "output_type": "display_data"
    },
    {
     "data": {
      "application/vnd.jupyter.widget-view+json": {
       "model_id": "",
       "version_major": 2,
       "version_minor": 0
      },
      "text/plain": [
       "Testing different values of hyperparameter loss...:   0%|          | 0/4 [00:00<?, ?it/s]"
      ]
     },
     "metadata": {},
     "output_type": "display_data"
    },
    {
     "data": {
      "application/vnd.jupyter.widget-view+json": {
       "model_id": "",
       "version_major": 2,
       "version_minor": 0
      },
      "text/plain": [
       "Testing different values of hyperparameter loss...:   0%|          | 0/4 [00:00<?, ?it/s]"
      ]
     },
     "metadata": {},
     "output_type": "display_data"
    },
    {
     "data": {
      "application/vnd.jupyter.widget-view+json": {
       "model_id": "",
       "version_major": 2,
       "version_minor": 0
      },
      "text/plain": [
       "Testing different values of hyperparameter loss...:   0%|          | 0/4 [00:00<?, ?it/s]"
      ]
     },
     "metadata": {},
     "output_type": "display_data"
    },
    {
     "data": {
      "application/vnd.jupyter.widget-view+json": {
       "model_id": "",
       "version_major": 2,
       "version_minor": 0
      },
      "text/plain": [
       "Testing different values of hyperparameter loss...:   0%|          | 0/4 [00:00<?, ?it/s]"
      ]
     },
     "metadata": {},
     "output_type": "display_data"
    },
    {
     "data": {
      "application/vnd.jupyter.widget-view+json": {
       "model_id": "",
       "version_major": 2,
       "version_minor": 0
      },
      "text/plain": [
       "Testing different values of hyperparameter loss...:   0%|          | 0/4 [00:00<?, ?it/s]"
      ]
     },
     "metadata": {},
     "output_type": "display_data"
    },
    {
     "data": {
      "application/vnd.jupyter.widget-view+json": {
       "model_id": "",
       "version_major": 2,
       "version_minor": 0
      },
      "text/plain": [
       "Testing different values of hyperparameter loss...:   0%|          | 0/4 [00:00<?, ?it/s]"
      ]
     },
     "metadata": {},
     "output_type": "display_data"
    },
    {
     "data": {
      "application/vnd.jupyter.widget-view+json": {
       "model_id": "",
       "version_major": 2,
       "version_minor": 0
      },
      "text/plain": [
       "Testing different values of hyperparameter loss...:   0%|          | 0/4 [00:00<?, ?it/s]"
      ]
     },
     "metadata": {},
     "output_type": "display_data"
    },
    {
     "data": {
      "application/vnd.jupyter.widget-view+json": {
       "model_id": "",
       "version_major": 2,
       "version_minor": 0
      },
      "text/plain": [
       "Testing different values of hyperparameter loss...:   0%|          | 0/4 [00:00<?, ?it/s]"
      ]
     },
     "metadata": {},
     "output_type": "display_data"
    },
    {
     "data": {
      "application/vnd.jupyter.widget-view+json": {
       "model_id": "",
       "version_major": 2,
       "version_minor": 0
      },
      "text/plain": [
       "Testing different values of hyperparameter loss...:   0%|          | 0/4 [00:00<?, ?it/s]"
      ]
     },
     "metadata": {},
     "output_type": "display_data"
    },
    {
     "data": {
      "application/vnd.jupyter.widget-view+json": {
       "model_id": "",
       "version_major": 2,
       "version_minor": 0
      },
      "text/plain": [
       "Testing different values of hyperparameter loss...:   0%|          | 0/4 [00:00<?, ?it/s]"
      ]
     },
     "metadata": {},
     "output_type": "display_data"
    },
    {
     "data": {
      "application/vnd.jupyter.widget-view+json": {
       "model_id": "",
       "version_major": 2,
       "version_minor": 0
      },
      "text/plain": [
       "Testing different values of hyperparameter loss...:   0%|          | 0/4 [00:00<?, ?it/s]"
      ]
     },
     "metadata": {},
     "output_type": "display_data"
    },
    {
     "data": {
      "application/vnd.jupyter.widget-view+json": {
       "model_id": "",
       "version_major": 2,
       "version_minor": 0
      },
      "text/plain": [
       "Testing different values of hyperparameter loss...:   0%|          | 0/4 [00:00<?, ?it/s]"
      ]
     },
     "metadata": {},
     "output_type": "display_data"
    },
    {
     "data": {
      "application/vnd.jupyter.widget-view+json": {
       "model_id": "",
       "version_major": 2,
       "version_minor": 0
      },
      "text/plain": [
       "Testing different values of hyperparameter loss...:   0%|          | 0/4 [00:00<?, ?it/s]"
      ]
     },
     "metadata": {},
     "output_type": "display_data"
    },
    {
     "data": {
      "application/vnd.jupyter.widget-view+json": {
       "model_id": "",
       "version_major": 2,
       "version_minor": 0
      },
      "text/plain": [
       "Testing different values of hyperparameter loss...:   0%|          | 0/4 [00:00<?, ?it/s]"
      ]
     },
     "metadata": {},
     "output_type": "display_data"
    },
    {
     "data": {
      "application/vnd.jupyter.widget-view+json": {
       "model_id": "",
       "version_major": 2,
       "version_minor": 0
      },
      "text/plain": [
       "Testing different values of hyperparameter loss...:   0%|          | 0/4 [00:00<?, ?it/s]"
      ]
     },
     "metadata": {},
     "output_type": "display_data"
    },
    {
     "name": "stdout",
     "output_type": "stream",
     "text": [
      "Best achievable F1-macro was 0.5704. When using 20 PCA components and 'loss' = log\n",
      "Best achievable F1-micro was 0.5808. When using 20 PCA components and 'loss' = log\n",
      "Best achievable accuracy was 0.5808. When using 20 PCA components and 'loss' = log\n"
     ]
    },
    {
     "name": "stderr",
     "output_type": "stream",
     "text": [
      "/home/momo/miniconda3/envs/my_env/lib/python3.9/site-packages/sklearn/linear_model/_stochastic_gradient.py:696: ConvergenceWarning: Maximum number of iteration reached before convergence. Consider increasing max_iter to improve the fit.\n",
      "  warnings.warn(\n"
     ]
    }
   ],
   "source": [
    "from sklearn.linear_model import SGDClassifier\n",
    "\n",
    "ModelType=SGDClassifier                      # Linear SVM with gradient descent\n",
    "param_name= 'loss'                          # we are going to tweak its l2 regularization factor\n",
    "param_range=['hinge', 'log', 'modified_huber', 'squared_hinge'] \n",
    "\n",
    "print('Training a linear classifiers using gradient descent and tweaking its PCA and regularization factor')\n",
    "scores_df_sgd = createEvalDataframe(*tuneModelAndPCA(ModelType, PCA_range, param_name, param_range, random_state=2022, max_iter=2500),  \n",
    "                                     PCA_range, \n",
    "                                     param_range)\n",
    "scores_sgd = getBestResults(df=scores_df_sgd, param_name=param_name, verbose=True)"
   ]
  },
  {
   "cell_type": "markdown",
   "metadata": {},
   "source": [
    "You can see that a logistic regressor was the best linear classifier. It obtained 58.1% of accuracy."
   ]
  },
  {
   "cell_type": "markdown",
   "metadata": {},
   "source": [
    "### Naive Bayes Classifier\n",
    "Naive Bayes classifier is a supervised classifier based on applying Bayes theorem with the “naive” assumption of conditional independence between every pair of features, given the value of the class variable. It is a \"fully probabilitic classifier\" that can be \"trained\" very quickly. \n",
    "\n",
    "Naive Bayes classifiers can be extremely fast compared to more sophisticated methods, but due to their strict assumptions, they have some limitations.\n",
    "\n",
    "We are going to experiment how a simple probabilistic classifier that assumes each feature to be normally (Gaussian) distributed can perform on our task. We are also going to see if the application of PCA can bring benefits in this case. "
   ]
  },
  {
   "cell_type": "code",
   "execution_count": 15,
   "metadata": {},
   "outputs": [
    {
     "name": "stdout",
     "output_type": "stream",
     "text": [
      "Training a Naive Bayes and tweaking its PCA\n"
     ]
    },
    {
     "data": {
      "application/vnd.jupyter.widget-view+json": {
       "model_id": "4ea290a226cd4f14acda4affbfb2f992",
       "version_major": 2,
       "version_minor": 0
      },
      "text/plain": [
       "Training models using PCA...:   0%|          | 0/20 [00:00<?, ?it/s]"
      ]
     },
     "metadata": {},
     "output_type": "display_data"
    },
    {
     "data": {
      "application/vnd.jupyter.widget-view+json": {
       "model_id": "",
       "version_major": 2,
       "version_minor": 0
      },
      "text/plain": [
       "Testing different values of hyperparameter priors...:   0%|          | 0/1 [00:00<?, ?it/s]"
      ]
     },
     "metadata": {},
     "output_type": "display_data"
    },
    {
     "data": {
      "application/vnd.jupyter.widget-view+json": {
       "model_id": "",
       "version_major": 2,
       "version_minor": 0
      },
      "text/plain": [
       "Testing different values of hyperparameter priors...:   0%|          | 0/1 [00:00<?, ?it/s]"
      ]
     },
     "metadata": {},
     "output_type": "display_data"
    },
    {
     "data": {
      "application/vnd.jupyter.widget-view+json": {
       "model_id": "",
       "version_major": 2,
       "version_minor": 0
      },
      "text/plain": [
       "Testing different values of hyperparameter priors...:   0%|          | 0/1 [00:00<?, ?it/s]"
      ]
     },
     "metadata": {},
     "output_type": "display_data"
    },
    {
     "data": {
      "application/vnd.jupyter.widget-view+json": {
       "model_id": "",
       "version_major": 2,
       "version_minor": 0
      },
      "text/plain": [
       "Testing different values of hyperparameter priors...:   0%|          | 0/1 [00:00<?, ?it/s]"
      ]
     },
     "metadata": {},
     "output_type": "display_data"
    },
    {
     "data": {
      "application/vnd.jupyter.widget-view+json": {
       "model_id": "",
       "version_major": 2,
       "version_minor": 0
      },
      "text/plain": [
       "Testing different values of hyperparameter priors...:   0%|          | 0/1 [00:00<?, ?it/s]"
      ]
     },
     "metadata": {},
     "output_type": "display_data"
    },
    {
     "data": {
      "application/vnd.jupyter.widget-view+json": {
       "model_id": "",
       "version_major": 2,
       "version_minor": 0
      },
      "text/plain": [
       "Testing different values of hyperparameter priors...:   0%|          | 0/1 [00:00<?, ?it/s]"
      ]
     },
     "metadata": {},
     "output_type": "display_data"
    },
    {
     "data": {
      "application/vnd.jupyter.widget-view+json": {
       "model_id": "",
       "version_major": 2,
       "version_minor": 0
      },
      "text/plain": [
       "Testing different values of hyperparameter priors...:   0%|          | 0/1 [00:00<?, ?it/s]"
      ]
     },
     "metadata": {},
     "output_type": "display_data"
    },
    {
     "data": {
      "application/vnd.jupyter.widget-view+json": {
       "model_id": "",
       "version_major": 2,
       "version_minor": 0
      },
      "text/plain": [
       "Testing different values of hyperparameter priors...:   0%|          | 0/1 [00:00<?, ?it/s]"
      ]
     },
     "metadata": {},
     "output_type": "display_data"
    },
    {
     "data": {
      "application/vnd.jupyter.widget-view+json": {
       "model_id": "",
       "version_major": 2,
       "version_minor": 0
      },
      "text/plain": [
       "Testing different values of hyperparameter priors...:   0%|          | 0/1 [00:00<?, ?it/s]"
      ]
     },
     "metadata": {},
     "output_type": "display_data"
    },
    {
     "data": {
      "application/vnd.jupyter.widget-view+json": {
       "model_id": "",
       "version_major": 2,
       "version_minor": 0
      },
      "text/plain": [
       "Testing different values of hyperparameter priors...:   0%|          | 0/1 [00:00<?, ?it/s]"
      ]
     },
     "metadata": {},
     "output_type": "display_data"
    },
    {
     "data": {
      "application/vnd.jupyter.widget-view+json": {
       "model_id": "",
       "version_major": 2,
       "version_minor": 0
      },
      "text/plain": [
       "Testing different values of hyperparameter priors...:   0%|          | 0/1 [00:00<?, ?it/s]"
      ]
     },
     "metadata": {},
     "output_type": "display_data"
    },
    {
     "data": {
      "application/vnd.jupyter.widget-view+json": {
       "model_id": "",
       "version_major": 2,
       "version_minor": 0
      },
      "text/plain": [
       "Testing different values of hyperparameter priors...:   0%|          | 0/1 [00:00<?, ?it/s]"
      ]
     },
     "metadata": {},
     "output_type": "display_data"
    },
    {
     "data": {
      "application/vnd.jupyter.widget-view+json": {
       "model_id": "",
       "version_major": 2,
       "version_minor": 0
      },
      "text/plain": [
       "Testing different values of hyperparameter priors...:   0%|          | 0/1 [00:00<?, ?it/s]"
      ]
     },
     "metadata": {},
     "output_type": "display_data"
    },
    {
     "data": {
      "application/vnd.jupyter.widget-view+json": {
       "model_id": "",
       "version_major": 2,
       "version_minor": 0
      },
      "text/plain": [
       "Testing different values of hyperparameter priors...:   0%|          | 0/1 [00:00<?, ?it/s]"
      ]
     },
     "metadata": {},
     "output_type": "display_data"
    },
    {
     "data": {
      "application/vnd.jupyter.widget-view+json": {
       "model_id": "",
       "version_major": 2,
       "version_minor": 0
      },
      "text/plain": [
       "Testing different values of hyperparameter priors...:   0%|          | 0/1 [00:00<?, ?it/s]"
      ]
     },
     "metadata": {},
     "output_type": "display_data"
    },
    {
     "data": {
      "application/vnd.jupyter.widget-view+json": {
       "model_id": "",
       "version_major": 2,
       "version_minor": 0
      },
      "text/plain": [
       "Testing different values of hyperparameter priors...:   0%|          | 0/1 [00:00<?, ?it/s]"
      ]
     },
     "metadata": {},
     "output_type": "display_data"
    },
    {
     "data": {
      "application/vnd.jupyter.widget-view+json": {
       "model_id": "",
       "version_major": 2,
       "version_minor": 0
      },
      "text/plain": [
       "Testing different values of hyperparameter priors...:   0%|          | 0/1 [00:00<?, ?it/s]"
      ]
     },
     "metadata": {},
     "output_type": "display_data"
    },
    {
     "data": {
      "application/vnd.jupyter.widget-view+json": {
       "model_id": "",
       "version_major": 2,
       "version_minor": 0
      },
      "text/plain": [
       "Testing different values of hyperparameter priors...:   0%|          | 0/1 [00:00<?, ?it/s]"
      ]
     },
     "metadata": {},
     "output_type": "display_data"
    },
    {
     "data": {
      "application/vnd.jupyter.widget-view+json": {
       "model_id": "",
       "version_major": 2,
       "version_minor": 0
      },
      "text/plain": [
       "Testing different values of hyperparameter priors...:   0%|          | 0/1 [00:00<?, ?it/s]"
      ]
     },
     "metadata": {},
     "output_type": "display_data"
    },
    {
     "data": {
      "application/vnd.jupyter.widget-view+json": {
       "model_id": "",
       "version_major": 2,
       "version_minor": 0
      },
      "text/plain": [
       "Testing different values of hyperparameter priors...:   0%|          | 0/1 [00:00<?, ?it/s]"
      ]
     },
     "metadata": {},
     "output_type": "display_data"
    },
    {
     "name": "stdout",
     "output_type": "stream",
     "text": [
      "Best achievable F1-macro was 0.5417. When using 19 PCA components and 'priors' = nan\n",
      "Best achievable F1-micro was 0.5483. When using 19 PCA components and 'priors' = nan\n",
      "Best achievable accuracy was 0.5483. When using 19 PCA components and 'priors' = nan\n"
     ]
    }
   ],
   "source": [
    "from sklearn.naive_bayes import GaussianNB\n",
    "\n",
    "ModelType=GaussianNB\n",
    "param_name= 'priors'\n",
    "param_range=[None]\n",
    "\n",
    "print('Training a Naive Bayes and tweaking its PCA')\n",
    "scores_df_naive = createEvalDataframe(*tuneModelAndPCA(ModelType, PCA_range, param_name, param_range),  \n",
    "                                      PCA_range, \n",
    "                                      param_range)\n",
    "scores_naive = getBestResults(df=scores_df_naive, param_name=param_name, verbose=True)"
   ]
  },
  {
   "cell_type": "markdown",
   "metadata": {},
   "source": [
    "The Naive bayes performance was better when using 19 principal components instead of the whole set of 20 features. However, its performance was only around 54.8%."
   ]
  },
  {
   "cell_type": "markdown",
   "metadata": {},
   "source": [
    "### Random Forest\n",
    "I think it is also important to test an ensemble classifier. The goal of ensemble methods is to combine the predictions of several base estimators built with a given learning algorithm in order to improve generalisability/robustness over a single estimator. \n",
    "\n",
    "The **Random Forest** is an ensemble classifier that consists of a number of decision trees that are applied on various sub-samples of the dataset. The trees' predictions are averaged in order to improve the accuracy and control overfitting.\n",
    "\n",
    "The `sklearn.ensemble.RandomForestClassifier` can be used to train a random forest and by varying its `n_estimators` parameter we can vary the number of decision trees used in the forest."
   ]
  },
  {
   "cell_type": "code",
   "execution_count": 16,
   "metadata": {},
   "outputs": [
    {
     "name": "stdout",
     "output_type": "stream",
     "text": [
      "Training a Random Forest Classifier and tweaking its PCA and number of trees in the forest\n"
     ]
    },
    {
     "data": {
      "application/vnd.jupyter.widget-view+json": {
       "model_id": "5448eef7ce714ff081af946752a27038",
       "version_major": 2,
       "version_minor": 0
      },
      "text/plain": [
       "Training models using PCA...:   0%|          | 0/20 [00:00<?, ?it/s]"
      ]
     },
     "metadata": {},
     "output_type": "display_data"
    },
    {
     "data": {
      "application/vnd.jupyter.widget-view+json": {
       "model_id": "",
       "version_major": 2,
       "version_minor": 0
      },
      "text/plain": [
       "Testing different values of hyperparameter n_estimators...:   0%|          | 0/25 [00:00<?, ?it/s]"
      ]
     },
     "metadata": {},
     "output_type": "display_data"
    },
    {
     "data": {
      "application/vnd.jupyter.widget-view+json": {
       "model_id": "",
       "version_major": 2,
       "version_minor": 0
      },
      "text/plain": [
       "Testing different values of hyperparameter n_estimators...:   0%|          | 0/25 [00:00<?, ?it/s]"
      ]
     },
     "metadata": {},
     "output_type": "display_data"
    },
    {
     "data": {
      "application/vnd.jupyter.widget-view+json": {
       "model_id": "",
       "version_major": 2,
       "version_minor": 0
      },
      "text/plain": [
       "Testing different values of hyperparameter n_estimators...:   0%|          | 0/25 [00:00<?, ?it/s]"
      ]
     },
     "metadata": {},
     "output_type": "display_data"
    },
    {
     "data": {
      "application/vnd.jupyter.widget-view+json": {
       "model_id": "",
       "version_major": 2,
       "version_minor": 0
      },
      "text/plain": [
       "Testing different values of hyperparameter n_estimators...:   0%|          | 0/25 [00:00<?, ?it/s]"
      ]
     },
     "metadata": {},
     "output_type": "display_data"
    },
    {
     "data": {
      "application/vnd.jupyter.widget-view+json": {
       "model_id": "",
       "version_major": 2,
       "version_minor": 0
      },
      "text/plain": [
       "Testing different values of hyperparameter n_estimators...:   0%|          | 0/25 [00:00<?, ?it/s]"
      ]
     },
     "metadata": {},
     "output_type": "display_data"
    },
    {
     "data": {
      "application/vnd.jupyter.widget-view+json": {
       "model_id": "",
       "version_major": 2,
       "version_minor": 0
      },
      "text/plain": [
       "Testing different values of hyperparameter n_estimators...:   0%|          | 0/25 [00:00<?, ?it/s]"
      ]
     },
     "metadata": {},
     "output_type": "display_data"
    },
    {
     "data": {
      "application/vnd.jupyter.widget-view+json": {
       "model_id": "",
       "version_major": 2,
       "version_minor": 0
      },
      "text/plain": [
       "Testing different values of hyperparameter n_estimators...:   0%|          | 0/25 [00:00<?, ?it/s]"
      ]
     },
     "metadata": {},
     "output_type": "display_data"
    },
    {
     "data": {
      "application/vnd.jupyter.widget-view+json": {
       "model_id": "",
       "version_major": 2,
       "version_minor": 0
      },
      "text/plain": [
       "Testing different values of hyperparameter n_estimators...:   0%|          | 0/25 [00:00<?, ?it/s]"
      ]
     },
     "metadata": {},
     "output_type": "display_data"
    },
    {
     "data": {
      "application/vnd.jupyter.widget-view+json": {
       "model_id": "",
       "version_major": 2,
       "version_minor": 0
      },
      "text/plain": [
       "Testing different values of hyperparameter n_estimators...:   0%|          | 0/25 [00:00<?, ?it/s]"
      ]
     },
     "metadata": {},
     "output_type": "display_data"
    },
    {
     "data": {
      "application/vnd.jupyter.widget-view+json": {
       "model_id": "",
       "version_major": 2,
       "version_minor": 0
      },
      "text/plain": [
       "Testing different values of hyperparameter n_estimators...:   0%|          | 0/25 [00:00<?, ?it/s]"
      ]
     },
     "metadata": {},
     "output_type": "display_data"
    },
    {
     "data": {
      "application/vnd.jupyter.widget-view+json": {
       "model_id": "",
       "version_major": 2,
       "version_minor": 0
      },
      "text/plain": [
       "Testing different values of hyperparameter n_estimators...:   0%|          | 0/25 [00:00<?, ?it/s]"
      ]
     },
     "metadata": {},
     "output_type": "display_data"
    },
    {
     "data": {
      "application/vnd.jupyter.widget-view+json": {
       "model_id": "",
       "version_major": 2,
       "version_minor": 0
      },
      "text/plain": [
       "Testing different values of hyperparameter n_estimators...:   0%|          | 0/25 [00:00<?, ?it/s]"
      ]
     },
     "metadata": {},
     "output_type": "display_data"
    },
    {
     "data": {
      "application/vnd.jupyter.widget-view+json": {
       "model_id": "",
       "version_major": 2,
       "version_minor": 0
      },
      "text/plain": [
       "Testing different values of hyperparameter n_estimators...:   0%|          | 0/25 [00:00<?, ?it/s]"
      ]
     },
     "metadata": {},
     "output_type": "display_data"
    },
    {
     "data": {
      "application/vnd.jupyter.widget-view+json": {
       "model_id": "",
       "version_major": 2,
       "version_minor": 0
      },
      "text/plain": [
       "Testing different values of hyperparameter n_estimators...:   0%|          | 0/25 [00:00<?, ?it/s]"
      ]
     },
     "metadata": {},
     "output_type": "display_data"
    },
    {
     "data": {
      "application/vnd.jupyter.widget-view+json": {
       "model_id": "",
       "version_major": 2,
       "version_minor": 0
      },
      "text/plain": [
       "Testing different values of hyperparameter n_estimators...:   0%|          | 0/25 [00:00<?, ?it/s]"
      ]
     },
     "metadata": {},
     "output_type": "display_data"
    },
    {
     "data": {
      "application/vnd.jupyter.widget-view+json": {
       "model_id": "",
       "version_major": 2,
       "version_minor": 0
      },
      "text/plain": [
       "Testing different values of hyperparameter n_estimators...:   0%|          | 0/25 [00:00<?, ?it/s]"
      ]
     },
     "metadata": {},
     "output_type": "display_data"
    },
    {
     "data": {
      "application/vnd.jupyter.widget-view+json": {
       "model_id": "",
       "version_major": 2,
       "version_minor": 0
      },
      "text/plain": [
       "Testing different values of hyperparameter n_estimators...:   0%|          | 0/25 [00:00<?, ?it/s]"
      ]
     },
     "metadata": {},
     "output_type": "display_data"
    },
    {
     "data": {
      "application/vnd.jupyter.widget-view+json": {
       "model_id": "",
       "version_major": 2,
       "version_minor": 0
      },
      "text/plain": [
       "Testing different values of hyperparameter n_estimators...:   0%|          | 0/25 [00:00<?, ?it/s]"
      ]
     },
     "metadata": {},
     "output_type": "display_data"
    },
    {
     "data": {
      "application/vnd.jupyter.widget-view+json": {
       "model_id": "",
       "version_major": 2,
       "version_minor": 0
      },
      "text/plain": [
       "Testing different values of hyperparameter n_estimators...:   0%|          | 0/25 [00:00<?, ?it/s]"
      ]
     },
     "metadata": {},
     "output_type": "display_data"
    },
    {
     "data": {
      "application/vnd.jupyter.widget-view+json": {
       "model_id": "",
       "version_major": 2,
       "version_minor": 0
      },
      "text/plain": [
       "Testing different values of hyperparameter n_estimators...:   0%|          | 0/25 [00:00<?, ?it/s]"
      ]
     },
     "metadata": {},
     "output_type": "display_data"
    },
    {
     "name": "stdout",
     "output_type": "stream",
     "text": [
      "Best achievable F1-macro was 0.7645. When using 20 PCA components and 'n_estimators' = 447\n",
      "Best achievable F1-micro was 0.7692. When using 20 PCA components and 'n_estimators' = 447\n",
      "Best achievable accuracy was 0.7692. When using 20 PCA components and 'n_estimators' = 447\n"
     ]
    }
   ],
   "source": [
    "## Ensemble method\n",
    "from sklearn.ensemble import RandomForestClassifier\n",
    "\n",
    "ModelType = RandomForestClassifier\n",
    "param_name = 'n_estimators'\n",
    "param_range = np.linspace(10,510,25, dtype=int)\n",
    "\n",
    "print('Training a Random Forest Classifier and tweaking its PCA and number of trees in the forest')\n",
    "scores_df_forest = createEvalDataframe(*tuneModelAndPCA(ModelType, PCA_range, param_name, param_range),  \n",
    "                                     PCA_range, \n",
    "                                     param_range)\n",
    "scores_forest = getBestResults(df=scores_df_forest, param_name=param_name, verbose=True)"
   ]
  },
  {
   "cell_type": "markdown",
   "metadata": {},
   "source": [
    "Compared to a single decision tree, the averaging of multiple trees (random forest) obtained much better results. This shows us how important it is to create ensemble methods by combining multiple classifiers. The accuracy of a single decision tree classifier, which was around 57.7%, goes to 76.9% when we use a random forest with 280 estimators."
   ]
  },
  {
   "cell_type": "markdown",
   "metadata": {},
   "source": [
    "### Multi-layer Perceptron\n",
    "\n",
    "Multi-layer Perceptron (MLP), also known as a neural network of fully connected layers, is the classifier we are going to test next. \n",
    "\n",
    "We are going to vary the number of hidden layers as well as the number of neurons according to the following grid `[(128,), (256,), (128,32), (64,16), (32,32,16)]`. In each tuple, the first number represents the number of neurons on first hidden layer, the second number represents the number of neurons on the second hidden layer and so on.\n",
    "\n",
    "Once more we are also going to experiment with PCA on our features to verify if we can get better results."
   ]
  },
  {
   "cell_type": "code",
   "execution_count": 17,
   "metadata": {},
   "outputs": [
    {
     "name": "stdout",
     "output_type": "stream",
     "text": [
      "Training and tweaking a MLP (fully connected net) Classifer and tweaking is PCA and number of neurons\n"
     ]
    },
    {
     "data": {
      "application/vnd.jupyter.widget-view+json": {
       "model_id": "c807a224eeff4db59bb02dfc5c1e6e9b",
       "version_major": 2,
       "version_minor": 0
      },
      "text/plain": [
       "Training models using PCA...:   0%|          | 0/20 [00:00<?, ?it/s]"
      ]
     },
     "metadata": {},
     "output_type": "display_data"
    },
    {
     "data": {
      "application/vnd.jupyter.widget-view+json": {
       "model_id": "",
       "version_major": 2,
       "version_minor": 0
      },
      "text/plain": [
       "Testing different values of hyperparameter hidden_layer_sizes...:   0%|          | 0/5 [00:00<?, ?it/s]"
      ]
     },
     "metadata": {},
     "output_type": "display_data"
    },
    {
     "data": {
      "application/vnd.jupyter.widget-view+json": {
       "model_id": "",
       "version_major": 2,
       "version_minor": 0
      },
      "text/plain": [
       "Testing different values of hyperparameter hidden_layer_sizes...:   0%|          | 0/5 [00:00<?, ?it/s]"
      ]
     },
     "metadata": {},
     "output_type": "display_data"
    },
    {
     "data": {
      "application/vnd.jupyter.widget-view+json": {
       "model_id": "",
       "version_major": 2,
       "version_minor": 0
      },
      "text/plain": [
       "Testing different values of hyperparameter hidden_layer_sizes...:   0%|          | 0/5 [00:00<?, ?it/s]"
      ]
     },
     "metadata": {},
     "output_type": "display_data"
    },
    {
     "data": {
      "application/vnd.jupyter.widget-view+json": {
       "model_id": "",
       "version_major": 2,
       "version_minor": 0
      },
      "text/plain": [
       "Testing different values of hyperparameter hidden_layer_sizes...:   0%|          | 0/5 [00:00<?, ?it/s]"
      ]
     },
     "metadata": {},
     "output_type": "display_data"
    },
    {
     "data": {
      "application/vnd.jupyter.widget-view+json": {
       "model_id": "",
       "version_major": 2,
       "version_minor": 0
      },
      "text/plain": [
       "Testing different values of hyperparameter hidden_layer_sizes...:   0%|          | 0/5 [00:00<?, ?it/s]"
      ]
     },
     "metadata": {},
     "output_type": "display_data"
    },
    {
     "data": {
      "application/vnd.jupyter.widget-view+json": {
       "model_id": "",
       "version_major": 2,
       "version_minor": 0
      },
      "text/plain": [
       "Testing different values of hyperparameter hidden_layer_sizes...:   0%|          | 0/5 [00:00<?, ?it/s]"
      ]
     },
     "metadata": {},
     "output_type": "display_data"
    },
    {
     "data": {
      "application/vnd.jupyter.widget-view+json": {
       "model_id": "",
       "version_major": 2,
       "version_minor": 0
      },
      "text/plain": [
       "Testing different values of hyperparameter hidden_layer_sizes...:   0%|          | 0/5 [00:00<?, ?it/s]"
      ]
     },
     "metadata": {},
     "output_type": "display_data"
    },
    {
     "data": {
      "application/vnd.jupyter.widget-view+json": {
       "model_id": "",
       "version_major": 2,
       "version_minor": 0
      },
      "text/plain": [
       "Testing different values of hyperparameter hidden_layer_sizes...:   0%|          | 0/5 [00:00<?, ?it/s]"
      ]
     },
     "metadata": {},
     "output_type": "display_data"
    },
    {
     "data": {
      "application/vnd.jupyter.widget-view+json": {
       "model_id": "",
       "version_major": 2,
       "version_minor": 0
      },
      "text/plain": [
       "Testing different values of hyperparameter hidden_layer_sizes...:   0%|          | 0/5 [00:00<?, ?it/s]"
      ]
     },
     "metadata": {},
     "output_type": "display_data"
    },
    {
     "data": {
      "application/vnd.jupyter.widget-view+json": {
       "model_id": "",
       "version_major": 2,
       "version_minor": 0
      },
      "text/plain": [
       "Testing different values of hyperparameter hidden_layer_sizes...:   0%|          | 0/5 [00:00<?, ?it/s]"
      ]
     },
     "metadata": {},
     "output_type": "display_data"
    },
    {
     "name": "stderr",
     "output_type": "stream",
     "text": [
      "/home/momo/miniconda3/envs/my_env/lib/python3.9/site-packages/sklearn/neural_network/_multilayer_perceptron.py:692: ConvergenceWarning: Stochastic Optimizer: Maximum iterations (1500) reached and the optimization hasn't converged yet.\n",
      "  warnings.warn(\n"
     ]
    },
    {
     "data": {
      "application/vnd.jupyter.widget-view+json": {
       "model_id": "",
       "version_major": 2,
       "version_minor": 0
      },
      "text/plain": [
       "Testing different values of hyperparameter hidden_layer_sizes...:   0%|          | 0/5 [00:00<?, ?it/s]"
      ]
     },
     "metadata": {},
     "output_type": "display_data"
    },
    {
     "data": {
      "application/vnd.jupyter.widget-view+json": {
       "model_id": "",
       "version_major": 2,
       "version_minor": 0
      },
      "text/plain": [
       "Testing different values of hyperparameter hidden_layer_sizes...:   0%|          | 0/5 [00:00<?, ?it/s]"
      ]
     },
     "metadata": {},
     "output_type": "display_data"
    },
    {
     "data": {
      "application/vnd.jupyter.widget-view+json": {
       "model_id": "",
       "version_major": 2,
       "version_minor": 0
      },
      "text/plain": [
       "Testing different values of hyperparameter hidden_layer_sizes...:   0%|          | 0/5 [00:00<?, ?it/s]"
      ]
     },
     "metadata": {},
     "output_type": "display_data"
    },
    {
     "data": {
      "application/vnd.jupyter.widget-view+json": {
       "model_id": "",
       "version_major": 2,
       "version_minor": 0
      },
      "text/plain": [
       "Testing different values of hyperparameter hidden_layer_sizes...:   0%|          | 0/5 [00:00<?, ?it/s]"
      ]
     },
     "metadata": {},
     "output_type": "display_data"
    },
    {
     "name": "stderr",
     "output_type": "stream",
     "text": [
      "/home/momo/miniconda3/envs/my_env/lib/python3.9/site-packages/sklearn/neural_network/_multilayer_perceptron.py:692: ConvergenceWarning: Stochastic Optimizer: Maximum iterations (1500) reached and the optimization hasn't converged yet.\n",
      "  warnings.warn(\n"
     ]
    },
    {
     "data": {
      "application/vnd.jupyter.widget-view+json": {
       "model_id": "",
       "version_major": 2,
       "version_minor": 0
      },
      "text/plain": [
       "Testing different values of hyperparameter hidden_layer_sizes...:   0%|          | 0/5 [00:00<?, ?it/s]"
      ]
     },
     "metadata": {},
     "output_type": "display_data"
    },
    {
     "name": "stderr",
     "output_type": "stream",
     "text": [
      "/home/momo/miniconda3/envs/my_env/lib/python3.9/site-packages/sklearn/neural_network/_multilayer_perceptron.py:692: ConvergenceWarning: Stochastic Optimizer: Maximum iterations (1500) reached and the optimization hasn't converged yet.\n",
      "  warnings.warn(\n"
     ]
    },
    {
     "data": {
      "application/vnd.jupyter.widget-view+json": {
       "model_id": "",
       "version_major": 2,
       "version_minor": 0
      },
      "text/plain": [
       "Testing different values of hyperparameter hidden_layer_sizes...:   0%|          | 0/5 [00:00<?, ?it/s]"
      ]
     },
     "metadata": {},
     "output_type": "display_data"
    },
    {
     "name": "stderr",
     "output_type": "stream",
     "text": [
      "/home/momo/miniconda3/envs/my_env/lib/python3.9/site-packages/sklearn/neural_network/_multilayer_perceptron.py:692: ConvergenceWarning: Stochastic Optimizer: Maximum iterations (1500) reached and the optimization hasn't converged yet.\n",
      "  warnings.warn(\n"
     ]
    },
    {
     "data": {
      "application/vnd.jupyter.widget-view+json": {
       "model_id": "",
       "version_major": 2,
       "version_minor": 0
      },
      "text/plain": [
       "Testing different values of hyperparameter hidden_layer_sizes...:   0%|          | 0/5 [00:00<?, ?it/s]"
      ]
     },
     "metadata": {},
     "output_type": "display_data"
    },
    {
     "data": {
      "application/vnd.jupyter.widget-view+json": {
       "model_id": "",
       "version_major": 2,
       "version_minor": 0
      },
      "text/plain": [
       "Testing different values of hyperparameter hidden_layer_sizes...:   0%|          | 0/5 [00:00<?, ?it/s]"
      ]
     },
     "metadata": {},
     "output_type": "display_data"
    },
    {
     "data": {
      "application/vnd.jupyter.widget-view+json": {
       "model_id": "",
       "version_major": 2,
       "version_minor": 0
      },
      "text/plain": [
       "Testing different values of hyperparameter hidden_layer_sizes...:   0%|          | 0/5 [00:00<?, ?it/s]"
      ]
     },
     "metadata": {},
     "output_type": "display_data"
    },
    {
     "data": {
      "application/vnd.jupyter.widget-view+json": {
       "model_id": "",
       "version_major": 2,
       "version_minor": 0
      },
      "text/plain": [
       "Testing different values of hyperparameter hidden_layer_sizes...:   0%|          | 0/5 [00:00<?, ?it/s]"
      ]
     },
     "metadata": {},
     "output_type": "display_data"
    },
    {
     "name": "stdout",
     "output_type": "stream",
     "text": [
      "Best achievable F1-macro was 0.8047. When using 20 PCA components and 'hidden_layer_sizes' = (256,)\n",
      "Best achievable F1-micro was 0.8075. When using 20 PCA components and 'hidden_layer_sizes' = (256,)\n",
      "Best achievable accuracy was 0.8075. When using 20 PCA components and 'hidden_layer_sizes' = (256,)\n"
     ]
    }
   ],
   "source": [
    "from sklearn.neural_network import MLPClassifier\n",
    "ModelType = MLPClassifier\n",
    "param_name= 'hidden_layer_sizes'\n",
    "param_range=[(128,), (256,), (128,32), (64,16), (32,32,16)] \n",
    "\n",
    "print('Training and tweaking a MLP (fully connected net) Classifer and tweaking is PCA and number of neurons')\n",
    "scores_df_mlp = createEvalDataframe(*tuneModelAndPCA(ModelType, PCA_range, param_name, param_range, max_iter=1500),  \n",
    "                                    PCA_range, \n",
    "                                    param_range)\n",
    "scores_mlp = getBestResults(df=scores_df_mlp, param_name=param_name, verbose=True)"
   ]
  },
  {
   "cell_type": "markdown",
   "metadata": {},
   "source": [
    "We are able to get 80.7% accuracy if we use an MLP with a single hidden layer of 256 neurons. Moreover, it is better to apply PCA and work with 18 principal components in this case rather than the whole full set of 20 features.\n",
    "\n",
    "To wrap up our experiments using traditional classifiers, we can conclude that KNN, MLP and Random Forest obtained quite an impressive result of over 75% accuracy. And they don't even need to be trained on high-performance GPUs and can easily be deployed and inference can quickly be ran. Here is a final table with the results we were able to obtain. The results also show us that the set of 20 features we have used are a good choice for the music genre classification task\n",
    "\n",
    "|  Classifier  |  Accuracy  |  Hyperparameter  | PCA comp. |\n",
    "| ------------ | ---------- | ---------------- | --------- |\n",
    "| K-NN         |  $81.7\\%$  |`n_neighbors=1`   |*No PCA* |\n",
    "| MLP          |  $80.7\\%$  |`hidden_layer=256`| 18 |\n",
    "| Random Forest|  $76.9\\%$  | `n_trees=280`    | *No PCA* |\n",
    "| SVM          |  $71.5\\%$  |`kernel='rbf'`    |19|\n",
    "| Logist. Regr.|  $58.1\\%$  | ---------------- |*No PCA*  |\n",
    "| Dec. Tree    |  $57.7\\%$  |`depth=81`        |19 |\n",
    "| Naive Bayes  |  $54.8\\%$  | `prior=Gaussian` | *No PCA* |\n",
    "\n",
    "Right now we are going to analyse deep-learning based models. "
   ]
  },
  {
   "cell_type": "markdown",
   "metadata": {},
   "source": [
    "## Deep Learning and Convnets\n",
    "\n",
    "Convolutional neural networks (Convnet, CNNs) are a powerful deep learning technique that can directly learn features from the music spectrogram. There is no need of setting up hand-crafted features beforehand to train classifiers. However, they usually need high-performance GPUs to be trained quickly and might overfit quickly if trained unproperly.\n",
    "\n",
    "On the previous notebook we have already preprocessed the dataset and saved the normalised spectrograms on disk. In here, we are going to train classifiers using convnets. First, a small convnet will be used, then, a larger convnet will be analysed. Last but not least, an architecture I created for instrument classification a couple of months ago was adapted for performing genre classification. I would like to show that it is possible to get really good results if we can create more efficient and clever model architectures.\n",
    "\n",
    "Since our data is small enough to fit RAM, we can read all the spectrograms at once. But if we had more data that wouldn't fit in memory, we would have to load data on the fly during training. I am also going to show how we can implement such framework later."
   ]
  },
  {
   "cell_type": "code",
   "execution_count": 1,
   "metadata": {},
   "outputs": [
    {
     "data": {
      "application/vnd.jupyter.widget-view+json": {
       "model_id": "4827bf7d05e14612857f72e24b383df4",
       "version_major": 2,
       "version_minor": 0
      },
      "text/plain": [
       "Loading spectrograms...:   0%|          | 0/10 [00:00<?, ?it/s]"
      ]
     },
     "metadata": {},
     "output_type": "display_data"
    },
    {
     "data": {
      "application/vnd.jupyter.widget-view+json": {
       "model_id": "",
       "version_major": 2,
       "version_minor": 0
      },
      "text/plain": [
       "Analising clips of genre blues:   0%|          | 0/100 [00:00<?, ?it/s]"
      ]
     },
     "metadata": {},
     "output_type": "display_data"
    },
    {
     "data": {
      "application/vnd.jupyter.widget-view+json": {
       "model_id": "",
       "version_major": 2,
       "version_minor": 0
      },
      "text/plain": [
       "Analising clips of genre classical:   0%|          | 0/100 [00:00<?, ?it/s]"
      ]
     },
     "metadata": {},
     "output_type": "display_data"
    },
    {
     "data": {
      "application/vnd.jupyter.widget-view+json": {
       "model_id": "",
       "version_major": 2,
       "version_minor": 0
      },
      "text/plain": [
       "Analising clips of genre country:   0%|          | 0/100 [00:00<?, ?it/s]"
      ]
     },
     "metadata": {},
     "output_type": "display_data"
    },
    {
     "data": {
      "application/vnd.jupyter.widget-view+json": {
       "model_id": "",
       "version_major": 2,
       "version_minor": 0
      },
      "text/plain": [
       "Analising clips of genre disco:   0%|          | 0/100 [00:00<?, ?it/s]"
      ]
     },
     "metadata": {},
     "output_type": "display_data"
    },
    {
     "data": {
      "application/vnd.jupyter.widget-view+json": {
       "model_id": "",
       "version_major": 2,
       "version_minor": 0
      },
      "text/plain": [
       "Analising clips of genre hiphop:   0%|          | 0/100 [00:00<?, ?it/s]"
      ]
     },
     "metadata": {},
     "output_type": "display_data"
    },
    {
     "data": {
      "application/vnd.jupyter.widget-view+json": {
       "model_id": "",
       "version_major": 2,
       "version_minor": 0
      },
      "text/plain": [
       "Analising clips of genre jazz:   0%|          | 0/100 [00:00<?, ?it/s]"
      ]
     },
     "metadata": {},
     "output_type": "display_data"
    },
    {
     "data": {
      "application/vnd.jupyter.widget-view+json": {
       "model_id": "",
       "version_major": 2,
       "version_minor": 0
      },
      "text/plain": [
       "Analising clips of genre metal:   0%|          | 0/100 [00:00<?, ?it/s]"
      ]
     },
     "metadata": {},
     "output_type": "display_data"
    },
    {
     "data": {
      "application/vnd.jupyter.widget-view+json": {
       "model_id": "",
       "version_major": 2,
       "version_minor": 0
      },
      "text/plain": [
       "Analising clips of genre pop:   0%|          | 0/100 [00:00<?, ?it/s]"
      ]
     },
     "metadata": {},
     "output_type": "display_data"
    },
    {
     "data": {
      "application/vnd.jupyter.widget-view+json": {
       "model_id": "",
       "version_major": 2,
       "version_minor": 0
      },
      "text/plain": [
       "Analising clips of genre reggae:   0%|          | 0/100 [00:00<?, ?it/s]"
      ]
     },
     "metadata": {},
     "output_type": "display_data"
    },
    {
     "data": {
      "application/vnd.jupyter.widget-view+json": {
       "model_id": "",
       "version_major": 2,
       "version_minor": 0
      },
      "text/plain": [
       "Analising clips of genre rock:   0%|          | 0/100 [00:00<?, ?it/s]"
      ]
     },
     "metadata": {},
     "output_type": "display_data"
    }
   ],
   "source": [
    "import glob\n",
    "from tqdm.notebook import tqdm\n",
    "import os\n",
    "import numpy as np\n",
    "from sklearn.preprocessing import LabelEncoder\n",
    "from sklearn.model_selection import train_test_split\n",
    "\n",
    "src_dir = os.getcwd()\n",
    "data_dir = os.path.join(src_dir, 'dataset', 'genre')\n",
    "paths = os.listdir(data_dir)\n",
    "\n",
    "genres = sorted(list(set([p for p in paths if os.path.isdir(os.path.join(data_dir, p))])))\n",
    "inputs = []\n",
    "targets = []\n",
    "\n",
    "for g in tqdm(genres, desc='Loading spectrograms...'):\n",
    "    filedir = os.path.join(data_dir, g)\n",
    "    for file in tqdm(glob.glob(os.path.join(filedir, '*.npz')), desc='Analising clips of genre {}'.format(g), leave=False):\n",
    "        data = np.load(file)\n",
    "        inputs.append(data['spec'])\n",
    "        targets.append(data['genre'])\n",
    "inputs = np.concatenate(inputs, axis=0)\n",
    "labels = [z for t in targets for z in t]\n",
    "targets = labels\n",
    "\n",
    "enc = LabelEncoder()\n",
    "enc = enc.fit(genres)\n",
    "targets_enc = enc.transform(targets)\n",
    "X_train, X_test, y_train, y_test = train_test_split(inputs, targets_enc, \n",
    "                                                    test_size=0.2, \n",
    "                                                    shuffle=True, \n",
    "                                                    random_state=2022) # 80% training and 20% test"
   ]
  },
  {
   "cell_type": "markdown",
   "metadata": {},
   "source": [
    "Let's now set up some keras callback functions so we are able to save the best performing model througout the training epochs as well as reduce learning rate while training and early stop if performance on validation data stops improving. The ealy stopping callback is of particular interest because our model can eaily overfit if we let it train for a long time.\n",
    "\n",
    "We are also going to use tensorboard to log the training metrics so we can analyse the loss function and model accuracy over the epochs if needed. The models as well as the logs are going to be saved in the directory `./callbacks/*`."
   ]
  },
  {
   "cell_type": "code",
   "execution_count": 2,
   "metadata": {},
   "outputs": [],
   "source": [
    "import tensorflow.keras.callbacks as cb\n",
    "\n",
    "def createCallbacks(callback_dir):\n",
    "    os.makedirs(callback_dir, exist_ok=True)\n",
    "    tensorboard_dir = os.path.join(callback_dir, 'tensorboard')\n",
    "    os.makedirs(tensorboard_dir, exist_ok=True)\n",
    "    \n",
    "    callback_dict = {\n",
    "    # Sets a TensorBoard callback\n",
    "    'tensorBoard': cb.TensorBoard(log_dir=tensorboard_dir,  \n",
    "    ),\n",
    "\n",
    "    # Interrupts training when improvement stops for 10 epochs\n",
    "    'earlyStopping': cb.EarlyStopping(monitor='val_loss',  # Monitors the model's validation error\n",
    "                                      patience=20,          # Interrupts when error stops improving for more than 'patience' epochs\n",
    "                                      verbose=1\n",
    "    ),\n",
    "\n",
    "    # Saves current weights after every epoch \n",
    "    'modelCheckpoint': cb.ModelCheckpoint(filepath= os.path.join(callback_dir, 'model.hdf5'), \n",
    "                                          monitor='val_accuracy',   # Monitors the model's validation error\n",
    "                                          save_best_only=True,  # If True, save weights only if monitored object improves after the training epoch\n",
    "                                          save_freq='epoch',\n",
    "                                          verbose=1\n",
    "    ),                                                                       \n",
    "                                                         \n",
    "    # Reduces the learning rate when the val_loss has stopped inproving\n",
    "    'reduceLROnPlateau': cb.ReduceLROnPlateau(monitor='val_loss', # Monitors the model validation loss\n",
    "                                              factor=0.2,         # Divides the learning rate by 5 when triggered\n",
    "                                              patience=3,         # triggered after the val_loss has stopped improving for 'patience' epochs\n",
    "                                              min_delta=1e-06,    # threshold to be considered the lowest improvement\n",
    "                                              cooldown=1,         # number of epochs to return to normal functioning\n",
    "                                              verbose=1\n",
    "    )                                                                       \n",
    "    }                                                          \n",
    "\n",
    "    callback_list = [callback_dict[key] for key in callback_dict.keys()]\n",
    "    return callback_dict, callback_list"
   ]
  },
  {
   "cell_type": "markdown",
   "metadata": {},
   "source": [
    "A simple stack of convolutional layers with a stack of 3 fully connected layers at the end. This is the architecture of our first model. The input will be the spectrograms and the output will be a vector of length 10. Each position representing a single class.\n",
    "\n",
    "We are going to train using the `tensorflow` package and use the regular `sparse_categorical_crossentropy` as the simple loss function for our model. Here is the code. "
   ]
  },
  {
   "cell_type": "code",
   "execution_count": 3,
   "metadata": {},
   "outputs": [
    {
     "name": "stderr",
     "output_type": "stream",
     "text": [
      "2022-01-24 06:53:58.755999: I tensorflow/stream_executor/cuda/cuda_gpu_executor.cc:925] could not open file to read NUMA node: /sys/bus/pci/devices/0000:09:00.0/numa_node\n",
      "Your kernel may have been built without NUMA support.\n"
     ]
    },
    {
     "name": "stdout",
     "output_type": "stream",
     "text": [
      "Model: \"sequential\"\n",
      "_________________________________________________________________\n",
      " Layer (type)                Output Shape              Param #   \n",
      "=================================================================\n",
      " conv2d (Conv2D)             (None, 126, 214, 32)      320       \n",
      "                                                                 \n",
      " max_pooling2d (MaxPooling2D  (None, 63, 107, 32)      0         \n",
      " )                                                               \n",
      "                                                                 \n",
      " conv2d_1 (Conv2D)           (None, 61, 105, 64)       18496     \n",
      "                                                                 \n",
      " max_pooling2d_1 (MaxPooling  (None, 30, 52, 64)       0         \n",
      " 2D)                                                             \n",
      "                                                                 \n",
      " conv2d_2 (Conv2D)           (None, 28, 50, 128)       73856     \n",
      "                                                                 \n",
      " max_pooling2d_2 (MaxPooling  (None, 14, 25, 128)      0         \n",
      " 2D)                                                             \n",
      "                                                                 \n",
      " conv2d_3 (Conv2D)           (None, 12, 23, 256)       295168    \n",
      "                                                                 \n",
      " max_pooling2d_3 (MaxPooling  (None, 6, 11, 256)       0         \n",
      " 2D)                                                             \n",
      "                                                                 \n",
      " flatten (Flatten)           (None, 16896)             0         \n",
      "                                                                 \n",
      " dense (Dense)               (None, 128)               2162816   \n",
      "                                                                 \n",
      " dense_1 (Dense)             (None, 32)                4128      \n",
      "                                                                 \n",
      " dense_2 (Dense)             (None, 10)                330       \n",
      "                                                                 \n",
      "=================================================================\n",
      "Total params: 2,555,114\n",
      "Trainable params: 2,555,114\n",
      "Non-trainable params: 0\n",
      "_________________________________________________________________\n",
      "None\n"
     ]
    },
    {
     "name": "stderr",
     "output_type": "stream",
     "text": [
      "2022-01-24 06:53:58.787380: I tensorflow/stream_executor/cuda/cuda_gpu_executor.cc:925] could not open file to read NUMA node: /sys/bus/pci/devices/0000:09:00.0/numa_node\n",
      "Your kernel may have been built without NUMA support.\n",
      "2022-01-24 06:53:58.787751: I tensorflow/stream_executor/cuda/cuda_gpu_executor.cc:925] could not open file to read NUMA node: /sys/bus/pci/devices/0000:09:00.0/numa_node\n",
      "Your kernel may have been built without NUMA support.\n",
      "2022-01-24 06:53:58.788425: I tensorflow/core/platform/cpu_feature_guard.cc:151] This TensorFlow binary is optimized with oneAPI Deep Neural Network Library (oneDNN) to use the following CPU instructions in performance-critical operations:  AVX2 FMA\n",
      "To enable them in other operations, rebuild TensorFlow with the appropriate compiler flags.\n",
      "2022-01-24 06:53:58.790712: I tensorflow/stream_executor/cuda/cuda_gpu_executor.cc:925] could not open file to read NUMA node: /sys/bus/pci/devices/0000:09:00.0/numa_node\n",
      "Your kernel may have been built without NUMA support.\n",
      "2022-01-24 06:53:58.791151: I tensorflow/stream_executor/cuda/cuda_gpu_executor.cc:925] could not open file to read NUMA node: /sys/bus/pci/devices/0000:09:00.0/numa_node\n",
      "Your kernel may have been built without NUMA support.\n",
      "2022-01-24 06:53:58.791527: I tensorflow/stream_executor/cuda/cuda_gpu_executor.cc:925] could not open file to read NUMA node: /sys/bus/pci/devices/0000:09:00.0/numa_node\n",
      "Your kernel may have been built without NUMA support.\n",
      "2022-01-24 06:53:59.285107: I tensorflow/stream_executor/cuda/cuda_gpu_executor.cc:925] could not open file to read NUMA node: /sys/bus/pci/devices/0000:09:00.0/numa_node\n",
      "Your kernel may have been built without NUMA support.\n",
      "2022-01-24 06:53:59.285604: I tensorflow/stream_executor/cuda/cuda_gpu_executor.cc:925] could not open file to read NUMA node: /sys/bus/pci/devices/0000:09:00.0/numa_node\n",
      "Your kernel may have been built without NUMA support.\n",
      "2022-01-24 06:53:59.285618: I tensorflow/core/common_runtime/gpu/gpu_device.cc:1609] Could not identify NUMA node of platform GPU id 0, defaulting to 0.  Your kernel may not have been built with NUMA support.\n",
      "2022-01-24 06:53:59.286057: I tensorflow/stream_executor/cuda/cuda_gpu_executor.cc:925] could not open file to read NUMA node: /sys/bus/pci/devices/0000:09:00.0/numa_node\n",
      "Your kernel may have been built without NUMA support.\n",
      "2022-01-24 06:53:59.286101: I tensorflow/core/common_runtime/gpu/gpu_device.cc:1525] Created device /job:localhost/replica:0/task:0/device:GPU:0 with 5426 MB memory:  -> device: 0, name: NVIDIA GeForce RTX 3070, pci bus id: 0000:09:00.0, compute capability: 8.6\n"
     ]
    }
   ],
   "source": [
    " # Define the model architecture using sequencial API in tensorflow.keras\n",
    "import tensorflow as tf\n",
    "import tensorflow.keras as ke\n",
    "from time import time\n",
    "\n",
    "n_classes = len(genres)\n",
    "batch_size = 120\n",
    "loss_function = 'sparse_categorical_crossentropy'\n",
    "n_epochs = 150    # We use a large number, but dont worry, training will stop once loss has not improved to 20 epochs \n",
    "optimizer = ke.optimizers.Adam(learning_rate=1e-3)\n",
    "model_dir = './callbacks/cnn_small' + '_' + str(int(time()))\n",
    "\n",
    "input_shape = np.shape(inputs)[1:]\n",
    "model = ke.models.Sequential()\n",
    "model.add(ke.layers.Conv2D(32, kernel_size=(3, 3), activation='relu', input_shape=input_shape))\n",
    "model.add(ke.layers.MaxPooling2D(pool_size=(2, 2)))\n",
    "model.add(ke.layers.Conv2D(64, kernel_size=(3, 3), activation='relu'))\n",
    "model.add(ke.layers.MaxPooling2D(pool_size=(2, 2)))\n",
    "model.add(ke.layers.Conv2D(128, kernel_size=(3, 3), activation='relu'))\n",
    "model.add(ke.layers.MaxPooling2D(pool_size=(2, 2)))\n",
    "model.add(ke.layers.Conv2D(256, kernel_size=(3, 3), activation='relu'))\n",
    "model.add(ke.layers.MaxPooling2D(pool_size=(2, 2)))\n",
    "model.add(ke.layers.Flatten())\n",
    "model.add(ke.layers.Dense(128, activation='relu'))\n",
    "model.add(ke.layers.Dense(32, activation='relu'))\n",
    "model.add(ke.layers.Dense(n_classes, activation='softmax'))  ## we use softmax to choose just 1 class of all possible classes\n",
    "\n",
    "print(model.summary())"
   ]
  },
  {
   "cell_type": "markdown",
   "metadata": {},
   "source": [
    "Our model hass around 2.5M trainable parameters. We are going to use the train split to train the model and the test split as validation data for our model. The validation is not used during training but is important to be monitored to make sure our model is tested in out-of-sample data and does not overfit. We are going to take the validation accuracy as an estimate for the model performance in new data. \n",
    "\n",
    "Let's now compile it and start the training! "
   ]
  },
  {
   "cell_type": "code",
   "execution_count": 21,
   "metadata": {},
   "outputs": [
    {
     "name": "stdout",
     "output_type": "stream",
     "text": [
      "Epoch 1/150\n"
     ]
    },
    {
     "name": "stderr",
     "output_type": "stream",
     "text": [
      "2022-01-24 06:35:18.864242: I tensorflow/stream_executor/cuda/cuda_dnn.cc:366] Loaded cuDNN version 8302\n",
      "2022-01-24 06:35:20.818673: I tensorflow/core/platform/default/subprocess.cc:304] Start cannot spawn child process: No such file or directory\n",
      "2022-01-24 06:35:21.185144: I tensorflow/stream_executor/cuda/cuda_blas.cc:1774] TensorFloat-32 will be used for the matrix multiplication. This will only be logged once.\n"
     ]
    },
    {
     "name": "stdout",
     "output_type": "stream",
     "text": [
      "40/40 [==============================] - ETA: 0s - loss: 2.1933 - accuracy: 0.1756\n",
      "Epoch 00001: val_accuracy improved from -inf to 0.20333, saving model to ./callbacks/cnn_small_1643002515/model.hdf5\n",
      "40/40 [==============================] - 8s 68ms/step - loss: 2.1933 - accuracy: 0.1756 - val_loss: 2.0895 - val_accuracy: 0.2033 - lr: 0.0010\n",
      "Epoch 2/150\n",
      "40/40 [==============================] - ETA: 0s - loss: 1.9218 - accuracy: 0.2812\n",
      "Epoch 00002: val_accuracy improved from 0.20333 to 0.32167, saving model to ./callbacks/cnn_small_1643002515/model.hdf5\n",
      "40/40 [==============================] - 3s 71ms/step - loss: 1.9218 - accuracy: 0.2812 - val_loss: 1.8371 - val_accuracy: 0.3217 - lr: 0.0010\n",
      "Epoch 3/150\n",
      "39/40 [============================>.] - ETA: 0s - loss: 1.7380 - accuracy: 0.3667\n",
      "Epoch 00003: val_accuracy improved from 0.32167 to 0.38417, saving model to ./callbacks/cnn_small_1643002515/model.hdf5\n",
      "40/40 [==============================] - 3s 64ms/step - loss: 1.7344 - accuracy: 0.3677 - val_loss: 1.6143 - val_accuracy: 0.3842 - lr: 0.0010\n",
      "Epoch 4/150\n",
      "40/40 [==============================] - ETA: 0s - loss: 1.4858 - accuracy: 0.4692\n",
      "Epoch 00004: val_accuracy improved from 0.38417 to 0.47833, saving model to ./callbacks/cnn_small_1643002515/model.hdf5\n",
      "40/40 [==============================] - 3s 63ms/step - loss: 1.4858 - accuracy: 0.4692 - val_loss: 1.4632 - val_accuracy: 0.4783 - lr: 0.0010\n",
      "Epoch 5/150\n",
      "40/40 [==============================] - ETA: 0s - loss: 1.3645 - accuracy: 0.5179\n",
      "Epoch 00005: val_accuracy improved from 0.47833 to 0.49000, saving model to ./callbacks/cnn_small_1643002515/model.hdf5\n",
      "40/40 [==============================] - 3s 63ms/step - loss: 1.3645 - accuracy: 0.5179 - val_loss: 1.4173 - val_accuracy: 0.4900 - lr: 0.0010\n",
      "Epoch 6/150\n",
      "40/40 [==============================] - ETA: 0s - loss: 1.2247 - accuracy: 0.5735\n",
      "Epoch 00006: val_accuracy improved from 0.49000 to 0.57750, saving model to ./callbacks/cnn_small_1643002515/model.hdf5\n",
      "40/40 [==============================] - 2s 62ms/step - loss: 1.2247 - accuracy: 0.5735 - val_loss: 1.2328 - val_accuracy: 0.5775 - lr: 0.0010\n",
      "Epoch 7/150\n",
      "40/40 [==============================] - ETA: 0s - loss: 1.1399 - accuracy: 0.6077\n",
      "Epoch 00007: val_accuracy did not improve from 0.57750\n",
      "40/40 [==============================] - 2s 57ms/step - loss: 1.1399 - accuracy: 0.6077 - val_loss: 1.2300 - val_accuracy: 0.5700 - lr: 0.0010\n",
      "Epoch 8/150\n",
      "40/40 [==============================] - ETA: 0s - loss: 1.0437 - accuracy: 0.6406\n",
      "Epoch 00008: val_accuracy improved from 0.57750 to 0.60667, saving model to ./callbacks/cnn_small_1643002515/model.hdf5\n",
      "40/40 [==============================] - 3s 64ms/step - loss: 1.0437 - accuracy: 0.6406 - val_loss: 1.1210 - val_accuracy: 0.6067 - lr: 0.0010\n",
      "Epoch 9/150\n",
      "40/40 [==============================] - ETA: 0s - loss: 0.9677 - accuracy: 0.6683\n",
      "Epoch 00009: val_accuracy improved from 0.60667 to 0.63833, saving model to ./callbacks/cnn_small_1643002515/model.hdf5\n",
      "40/40 [==============================] - 2s 63ms/step - loss: 0.9677 - accuracy: 0.6683 - val_loss: 1.0476 - val_accuracy: 0.6383 - lr: 0.0010\n",
      "Epoch 10/150\n",
      "40/40 [==============================] - ETA: 0s - loss: 0.9313 - accuracy: 0.6723\n",
      "Epoch 00010: val_accuracy did not improve from 0.63833\n",
      "40/40 [==============================] - 3s 63ms/step - loss: 0.9313 - accuracy: 0.6723 - val_loss: 1.0817 - val_accuracy: 0.6342 - lr: 0.0010\n",
      "Epoch 11/150\n",
      "40/40 [==============================] - ETA: 0s - loss: 0.8411 - accuracy: 0.7138\n",
      "Epoch 00011: val_accuracy did not improve from 0.63833\n",
      "40/40 [==============================] - 2s 56ms/step - loss: 0.8411 - accuracy: 0.7138 - val_loss: 1.1140 - val_accuracy: 0.6017 - lr: 0.0010\n",
      "Epoch 12/150\n",
      "39/40 [============================>.] - ETA: 0s - loss: 0.7523 - accuracy: 0.7481\n",
      "Epoch 00012: val_accuracy improved from 0.63833 to 0.66750, saving model to ./callbacks/cnn_small_1643002515/model.hdf5\n",
      "40/40 [==============================] - 2s 61ms/step - loss: 0.7532 - accuracy: 0.7475 - val_loss: 1.0338 - val_accuracy: 0.6675 - lr: 0.0010\n",
      "Epoch 13/150\n",
      "39/40 [============================>.] - ETA: 0s - loss: 0.6923 - accuracy: 0.7624\n",
      "Epoch 00013: val_accuracy did not improve from 0.66750\n",
      "40/40 [==============================] - 2s 54ms/step - loss: 0.6919 - accuracy: 0.7619 - val_loss: 1.0271 - val_accuracy: 0.6600 - lr: 0.0010\n",
      "Epoch 14/150\n",
      "40/40 [==============================] - ETA: 0s - loss: 0.6192 - accuracy: 0.7869\n",
      "Epoch 00014: val_accuracy improved from 0.66750 to 0.67167, saving model to ./callbacks/cnn_small_1643002515/model.hdf5\n",
      "40/40 [==============================] - 2s 62ms/step - loss: 0.6192 - accuracy: 0.7869 - val_loss: 1.0069 - val_accuracy: 0.6717 - lr: 0.0010\n",
      "Epoch 15/150\n",
      "40/40 [==============================] - ETA: 0s - loss: 0.5743 - accuracy: 0.8004\n",
      "Epoch 00015: val_accuracy improved from 0.67167 to 0.72083, saving model to ./callbacks/cnn_small_1643002515/model.hdf5\n",
      "40/40 [==============================] - 2s 61ms/step - loss: 0.5743 - accuracy: 0.8004 - val_loss: 0.8919 - val_accuracy: 0.7208 - lr: 0.0010\n",
      "Epoch 16/150\n",
      "40/40 [==============================] - ETA: 0s - loss: 0.5308 - accuracy: 0.8206\n",
      "Epoch 00016: val_accuracy did not improve from 0.72083\n",
      "40/40 [==============================] - 2s 55ms/step - loss: 0.5308 - accuracy: 0.8206 - val_loss: 0.9983 - val_accuracy: 0.6933 - lr: 0.0010\n",
      "Epoch 17/150\n",
      "40/40 [==============================] - ETA: 0s - loss: 0.4555 - accuracy: 0.8471\n",
      "Epoch 00017: val_accuracy did not improve from 0.72083\n",
      "40/40 [==============================] - 2s 56ms/step - loss: 0.4555 - accuracy: 0.8471 - val_loss: 0.9713 - val_accuracy: 0.7125 - lr: 0.0010\n",
      "Epoch 18/150\n",
      "39/40 [============================>.] - ETA: 0s - loss: 0.3768 - accuracy: 0.8724\n",
      "Epoch 00018: val_accuracy improved from 0.72083 to 0.73667, saving model to ./callbacks/cnn_small_1643002515/model.hdf5\n",
      "\n",
      "Epoch 00018: ReduceLROnPlateau reducing learning rate to 0.00020000000949949026.\n",
      "40/40 [==============================] - 2s 61ms/step - loss: 0.3768 - accuracy: 0.8723 - val_loss: 0.9219 - val_accuracy: 0.7367 - lr: 0.0010\n",
      "Epoch 19/150\n",
      "39/40 [============================>.] - ETA: 0s - loss: 0.2608 - accuracy: 0.9173\n",
      "Epoch 00019: val_accuracy did not improve from 0.73667\n",
      "40/40 [==============================] - 2s 55ms/step - loss: 0.2590 - accuracy: 0.9177 - val_loss: 0.8824 - val_accuracy: 0.7342 - lr: 2.0000e-04\n",
      "Epoch 20/150\n",
      "40/40 [==============================] - ETA: 0s - loss: 0.2226 - accuracy: 0.9306\n",
      "Epoch 00020: val_accuracy improved from 0.73667 to 0.74583, saving model to ./callbacks/cnn_small_1643002515/model.hdf5\n",
      "40/40 [==============================] - 2s 61ms/step - loss: 0.2226 - accuracy: 0.9306 - val_loss: 0.9015 - val_accuracy: 0.7458 - lr: 2.0000e-04\n",
      "Epoch 21/150\n",
      "40/40 [==============================] - ETA: 0s - loss: 0.2015 - accuracy: 0.9398\n",
      "Epoch 00021: val_accuracy improved from 0.74583 to 0.74750, saving model to ./callbacks/cnn_small_1643002515/model.hdf5\n",
      "40/40 [==============================] - 2s 61ms/step - loss: 0.2015 - accuracy: 0.9398 - val_loss: 0.9124 - val_accuracy: 0.7475 - lr: 2.0000e-04\n",
      "Epoch 22/150\n",
      "39/40 [============================>.] - ETA: 0s - loss: 0.1854 - accuracy: 0.9466\n",
      "Epoch 00022: val_accuracy improved from 0.74750 to 0.75083, saving model to ./callbacks/cnn_small_1643002515/model.hdf5\n",
      "\n",
      "Epoch 00022: ReduceLROnPlateau reducing learning rate to 4.0000001899898055e-05.\n",
      "40/40 [==============================] - 2s 61ms/step - loss: 0.1844 - accuracy: 0.9467 - val_loss: 0.9337 - val_accuracy: 0.7508 - lr: 2.0000e-04\n",
      "Epoch 23/150\n",
      "40/40 [==============================] - ETA: 0s - loss: 0.1621 - accuracy: 0.9565\n",
      "Epoch 00023: val_accuracy improved from 0.75083 to 0.75167, saving model to ./callbacks/cnn_small_1643002515/model.hdf5\n",
      "40/40 [==============================] - 2s 59ms/step - loss: 0.1621 - accuracy: 0.9565 - val_loss: 0.9249 - val_accuracy: 0.7517 - lr: 4.0000e-05\n",
      "Epoch 24/150\n",
      "40/40 [==============================] - ETA: 0s - loss: 0.1564 - accuracy: 0.9592\n",
      "Epoch 00024: val_accuracy did not improve from 0.75167\n",
      "40/40 [==============================] - 2s 57ms/step - loss: 0.1564 - accuracy: 0.9592 - val_loss: 0.9299 - val_accuracy: 0.7517 - lr: 4.0000e-05\n"
     ]
    },
    {
     "name": "stdout",
     "output_type": "stream",
     "text": [
      "Epoch 25/150\n",
      "40/40 [==============================] - ETA: 0s - loss: 0.1532 - accuracy: 0.9598\n",
      "Epoch 00025: val_accuracy improved from 0.75167 to 0.75833, saving model to ./callbacks/cnn_small_1643002515/model.hdf5\n",
      "\n",
      "Epoch 00025: ReduceLROnPlateau reducing learning rate to 8.000000525498762e-06.\n",
      "40/40 [==============================] - 2s 61ms/step - loss: 0.1532 - accuracy: 0.9598 - val_loss: 0.9405 - val_accuracy: 0.7583 - lr: 4.0000e-05\n",
      "Epoch 26/150\n",
      "40/40 [==============================] - ETA: 0s - loss: 0.1494 - accuracy: 0.9619\n",
      "Epoch 00026: val_accuracy improved from 0.75833 to 0.75917, saving model to ./callbacks/cnn_small_1643002515/model.hdf5\n",
      "40/40 [==============================] - 2s 61ms/step - loss: 0.1494 - accuracy: 0.9619 - val_loss: 0.9398 - val_accuracy: 0.7592 - lr: 8.0000e-06\n",
      "Epoch 27/150\n",
      "40/40 [==============================] - ETA: 0s - loss: 0.1482 - accuracy: 0.9610\n",
      "Epoch 00027: val_accuracy did not improve from 0.75917\n",
      "40/40 [==============================] - 2s 56ms/step - loss: 0.1482 - accuracy: 0.9610 - val_loss: 0.9394 - val_accuracy: 0.7558 - lr: 8.0000e-06\n",
      "Epoch 28/150\n",
      "40/40 [==============================] - ETA: 0s - loss: 0.1475 - accuracy: 0.9625\n",
      "Epoch 00028: val_accuracy did not improve from 0.75917\n",
      "\n",
      "Epoch 00028: ReduceLROnPlateau reducing learning rate to 1.6000001778593287e-06.\n",
      "40/40 [==============================] - 2s 55ms/step - loss: 0.1475 - accuracy: 0.9625 - val_loss: 0.9417 - val_accuracy: 0.7558 - lr: 8.0000e-06\n",
      "Epoch 29/150\n",
      "40/40 [==============================] - ETA: 0s - loss: 0.1465 - accuracy: 0.9631\n",
      "Epoch 00029: val_accuracy did not improve from 0.75917\n",
      "40/40 [==============================] - 2s 57ms/step - loss: 0.1465 - accuracy: 0.9631 - val_loss: 0.9414 - val_accuracy: 0.7558 - lr: 1.6000e-06\n",
      "Epoch 30/150\n",
      "40/40 [==============================] - ETA: 0s - loss: 0.1463 - accuracy: 0.9633\n",
      "Epoch 00030: val_accuracy did not improve from 0.75917\n",
      "40/40 [==============================] - 2s 55ms/step - loss: 0.1463 - accuracy: 0.9633 - val_loss: 0.9416 - val_accuracy: 0.7550 - lr: 1.6000e-06\n",
      "Epoch 31/150\n",
      "40/40 [==============================] - ETA: 0s - loss: 0.1462 - accuracy: 0.9633\n",
      "Epoch 00031: val_accuracy did not improve from 0.75917\n",
      "\n",
      "Epoch 00031: ReduceLROnPlateau reducing learning rate to 3.200000264769187e-07.\n",
      "40/40 [==============================] - 2s 56ms/step - loss: 0.1462 - accuracy: 0.9633 - val_loss: 0.9417 - val_accuracy: 0.7558 - lr: 1.6000e-06\n",
      "Epoch 32/150\n",
      "40/40 [==============================] - ETA: 0s - loss: 0.1459 - accuracy: 0.9633\n",
      "Epoch 00032: val_accuracy did not improve from 0.75917\n",
      "40/40 [==============================] - 2s 62ms/step - loss: 0.1459 - accuracy: 0.9633 - val_loss: 0.9418 - val_accuracy: 0.7558 - lr: 3.2000e-07\n",
      "Epoch 33/150\n",
      "40/40 [==============================] - ETA: 0s - loss: 0.1459 - accuracy: 0.9633\n",
      "Epoch 00033: val_accuracy did not improve from 0.75917\n",
      "40/40 [==============================] - 2s 57ms/step - loss: 0.1459 - accuracy: 0.9633 - val_loss: 0.9418 - val_accuracy: 0.7558 - lr: 3.2000e-07\n",
      "Epoch 34/150\n",
      "40/40 [==============================] - ETA: 0s - loss: 0.1459 - accuracy: 0.9631\n",
      "Epoch 00034: val_accuracy did not improve from 0.75917\n",
      "\n",
      "Epoch 00034: ReduceLROnPlateau reducing learning rate to 6.400000529538374e-08.\n",
      "40/40 [==============================] - 2s 58ms/step - loss: 0.1459 - accuracy: 0.9631 - val_loss: 0.9420 - val_accuracy: 0.7558 - lr: 3.2000e-07\n",
      "Epoch 35/150\n",
      "40/40 [==============================] - ETA: 0s - loss: 0.1458 - accuracy: 0.9631\n",
      "Epoch 00035: val_accuracy did not improve from 0.75917\n",
      "40/40 [==============================] - 2s 55ms/step - loss: 0.1458 - accuracy: 0.9631 - val_loss: 0.9419 - val_accuracy: 0.7558 - lr: 6.4000e-08\n",
      "Epoch 36/150\n",
      "40/40 [==============================] - ETA: 0s - loss: 0.1458 - accuracy: 0.9631\n",
      "Epoch 00036: val_accuracy did not improve from 0.75917\n",
      "40/40 [==============================] - 2s 55ms/step - loss: 0.1458 - accuracy: 0.9631 - val_loss: 0.9420 - val_accuracy: 0.7558 - lr: 6.4000e-08\n",
      "Epoch 37/150\n",
      "40/40 [==============================] - ETA: 0s - loss: 0.1458 - accuracy: 0.9631\n",
      "Epoch 00037: val_accuracy did not improve from 0.75917\n",
      "\n",
      "Epoch 00037: ReduceLROnPlateau reducing learning rate to 1.2800001059076749e-08.\n",
      "40/40 [==============================] - 2s 55ms/step - loss: 0.1458 - accuracy: 0.9631 - val_loss: 0.9420 - val_accuracy: 0.7558 - lr: 6.4000e-08\n",
      "Epoch 38/150\n",
      "40/40 [==============================] - ETA: 0s - loss: 0.1458 - accuracy: 0.9631\n",
      "Epoch 00038: val_accuracy did not improve from 0.75917\n",
      "40/40 [==============================] - 2s 61ms/step - loss: 0.1458 - accuracy: 0.9631 - val_loss: 0.9420 - val_accuracy: 0.7558 - lr: 1.2800e-08\n",
      "Epoch 39/150\n",
      "40/40 [==============================] - ETA: 0s - loss: 0.1458 - accuracy: 0.9631\n",
      "Epoch 00039: val_accuracy did not improve from 0.75917\n",
      "40/40 [==============================] - 2s 62ms/step - loss: 0.1458 - accuracy: 0.9631 - val_loss: 0.9420 - val_accuracy: 0.7558 - lr: 1.2800e-08\n",
      "Epoch 00039: early stopping\n",
      "\n",
      "\n",
      "Score: loss of 0.9397838115692139; accuracy of 75.91666579246521%\n"
     ]
    }
   ],
   "source": [
    "_, callback_list = createCallbacks(model_dir)\n",
    "\n",
    "# Compile the model\n",
    "model.compile(loss=loss_function,\n",
    "              optimizer=optimizer,\n",
    "              metrics=['accuracy'])\n",
    "    \n",
    "# Fit data to model\n",
    "history = model.fit(X_train, y_train,\n",
    "                    batch_size=batch_size,\n",
    "                    epochs=n_epochs,\n",
    "                    validation_data=(X_test, y_test),\n",
    "                    callbacks=callback_list,\n",
    "                    verbose=1)\n",
    "\n",
    "# We have to reload model because model.fit will probably early stop and save best model 20 epochs ago\n",
    "model = ke.models.load_model(os.path.join(model_dir,'model.hdf5'))\n",
    "\n",
    "# Generate generalization metrics\n",
    "scores = model.evaluate(X_test, y_test, verbose=0)\n",
    "print('\\n')\n",
    "print(f'Score: {model.metrics_names[0]} of {scores[0]}; {model.metrics_names[1]} of {scores[1]*100}%')"
   ]
  },
  {
   "cell_type": "markdown",
   "metadata": {},
   "source": [
    "You can see how powerfull convnets are. The simple CNN model we just trained have 75.9% accuracy on our test set. A pre-trained version of it is saved on `./calbacks/cnn_small/model.hdf5`.\n",
    "\n",
    "Let's now see what happens if we use a bigger convnet. We are going to add dropout layers and monitor its validation accuracy in order to avoid overfitting on the training set. "
   ]
  },
  {
   "cell_type": "code",
   "execution_count": 22,
   "metadata": {},
   "outputs": [
    {
     "name": "stdout",
     "output_type": "stream",
     "text": [
      "Model: \"sequential_1\"\n",
      "_________________________________________________________________\n",
      " Layer (type)                Output Shape              Param #   \n",
      "=================================================================\n",
      " conv2d_4 (Conv2D)           (None, 126, 214, 64)      640       \n",
      "                                                                 \n",
      " conv2d_5 (Conv2D)           (None, 124, 212, 64)      36928     \n",
      "                                                                 \n",
      " max_pooling2d_4 (MaxPooling  (None, 62, 106, 64)      0         \n",
      " 2D)                                                             \n",
      "                                                                 \n",
      " conv2d_6 (Conv2D)           (None, 60, 104, 128)      73856     \n",
      "                                                                 \n",
      " conv2d_7 (Conv2D)           (None, 58, 102, 128)      147584    \n",
      "                                                                 \n",
      " max_pooling2d_5 (MaxPooling  (None, 29, 51, 128)      0         \n",
      " 2D)                                                             \n",
      "                                                                 \n",
      " conv2d_8 (Conv2D)           (None, 27, 49, 256)       295168    \n",
      "                                                                 \n",
      " conv2d_9 (Conv2D)           (None, 25, 47, 256)       590080    \n",
      "                                                                 \n",
      " dropout (Dropout)           (None, 25, 47, 256)       0         \n",
      "                                                                 \n",
      " max_pooling2d_6 (MaxPooling  (None, 12, 23, 256)      0         \n",
      " 2D)                                                             \n",
      "                                                                 \n",
      " conv2d_10 (Conv2D)          (None, 10, 21, 512)       1180160   \n",
      "                                                                 \n",
      " conv2d_11 (Conv2D)          (None, 8, 19, 512)        2359808   \n",
      "                                                                 \n",
      " dropout_1 (Dropout)         (None, 8, 19, 512)        0         \n",
      "                                                                 \n",
      " max_pooling2d_7 (MaxPooling  (None, 4, 9, 512)        0         \n",
      " 2D)                                                             \n",
      "                                                                 \n",
      " flatten_1 (Flatten)         (None, 18432)             0         \n",
      "                                                                 \n",
      " dropout_2 (Dropout)         (None, 18432)             0         \n",
      "                                                                 \n",
      " dense_3 (Dense)             (None, 256)               4718848   \n",
      "                                                                 \n",
      " dense_4 (Dense)             (None, 32)                8224      \n",
      "                                                                 \n",
      " dense_5 (Dense)             (None, 10)                330       \n",
      "                                                                 \n",
      "=================================================================\n",
      "Total params: 9,411,626\n",
      "Trainable params: 9,411,626\n",
      "Non-trainable params: 0\n",
      "_________________________________________________________________\n",
      "None\n",
      "Epoch 1/150\n"
     ]
    },
    {
     "name": "stderr",
     "output_type": "stream",
     "text": [
      "2022-01-24 06:36:57.017821: W tensorflow/core/common_runtime/bfc_allocator.cc:275] Allocator (GPU_0_bfc) ran out of memory trying to allocate 3.54GiB with freed_by_count=0. The caller indicates that this is not a failure, but may mean that there could be performance gains if more memory were available.\n",
      "2022-01-24 06:36:57.017901: W tensorflow/core/common_runtime/bfc_allocator.cc:275] Allocator (GPU_0_bfc) ran out of memory trying to allocate 3.54GiB with freed_by_count=0. The caller indicates that this is not a failure, but may mean that there could be performance gains if more memory were available.\n",
      "2022-01-24 06:36:58.665631: W tensorflow/core/common_runtime/bfc_allocator.cc:275] Allocator (GPU_0_bfc) ran out of memory trying to allocate 3.54GiB with freed_by_count=0. The caller indicates that this is not a failure, but may mean that there could be performance gains if more memory were available.\n",
      "2022-01-24 06:36:58.665715: W tensorflow/core/common_runtime/bfc_allocator.cc:275] Allocator (GPU_0_bfc) ran out of memory trying to allocate 3.54GiB with freed_by_count=0. The caller indicates that this is not a failure, but may mean that there could be performance gains if more memory were available.\n",
      "2022-01-24 06:36:58.793227: W tensorflow/core/common_runtime/bfc_allocator.cc:275] Allocator (GPU_0_bfc) ran out of memory trying to allocate 3.34GiB with freed_by_count=0. The caller indicates that this is not a failure, but may mean that there could be performance gains if more memory were available.\n",
      "2022-01-24 06:36:58.793314: W tensorflow/core/common_runtime/bfc_allocator.cc:275] Allocator (GPU_0_bfc) ran out of memory trying to allocate 3.34GiB with freed_by_count=0. The caller indicates that this is not a failure, but may mean that there could be performance gains if more memory were available.\n"
     ]
    },
    {
     "name": "stdout",
     "output_type": "stream",
     "text": [
      "100/100 [==============================] - ETA: 0s - loss: 2.3028 - accuracy: 0.1019\n",
      "Epoch 00001: val_accuracy improved from -inf to 0.10250, saving model to ./callbacks/cnn_large_1643002615/model.hdf5\n",
      "100/100 [==============================] - 15s 122ms/step - loss: 2.3028 - accuracy: 0.1019 - val_loss: 2.3027 - val_accuracy: 0.1025 - lr: 1.2800e-08\n",
      "Epoch 2/150\n",
      "100/100 [==============================] - ETA: 0s - loss: 2.3027 - accuracy: 0.1046\n",
      "Epoch 00002: val_accuracy did not improve from 0.10250\n",
      "100/100 [==============================] - 11s 115ms/step - loss: 2.3027 - accuracy: 0.1046 - val_loss: 2.3027 - val_accuracy: 0.1008 - lr: 1.2800e-08\n",
      "Epoch 3/150\n",
      "100/100 [==============================] - ETA: 0s - loss: 2.3028 - accuracy: 0.0977\n",
      "Epoch 00003: val_accuracy did not improve from 0.10250\n",
      "100/100 [==============================] - 11s 113ms/step - loss: 2.3028 - accuracy: 0.0977 - val_loss: 2.3027 - val_accuracy: 0.1017 - lr: 1.2800e-08\n",
      "Epoch 4/150\n",
      "100/100 [==============================] - ETA: 0s - loss: 2.3028 - accuracy: 0.0977\n",
      "Epoch 00004: val_accuracy did not improve from 0.10250\n",
      "100/100 [==============================] - 11s 113ms/step - loss: 2.3028 - accuracy: 0.0977 - val_loss: 2.3027 - val_accuracy: 0.1017 - lr: 1.2800e-08\n",
      "Epoch 5/150\n",
      "100/100 [==============================] - ETA: 0s - loss: 2.3027 - accuracy: 0.0988\n",
      "Epoch 00005: val_accuracy did not improve from 0.10250\n",
      "100/100 [==============================] - 11s 109ms/step - loss: 2.3027 - accuracy: 0.0988 - val_loss: 2.3027 - val_accuracy: 0.1017 - lr: 1.2800e-08\n",
      "Epoch 6/150\n",
      "100/100 [==============================] - ETA: 0s - loss: 2.3026 - accuracy: 0.0973\n",
      "Epoch 00006: val_accuracy did not improve from 0.10250\n",
      "100/100 [==============================] - 11s 109ms/step - loss: 2.3026 - accuracy: 0.0973 - val_loss: 2.3027 - val_accuracy: 0.1017 - lr: 1.2800e-08\n",
      "Epoch 7/150\n",
      "100/100 [==============================] - ETA: 0s - loss: 2.3027 - accuracy: 0.0929\n",
      "Epoch 00007: val_accuracy did not improve from 0.10250\n",
      "100/100 [==============================] - 11s 109ms/step - loss: 2.3027 - accuracy: 0.0929 - val_loss: 2.3026 - val_accuracy: 0.1017 - lr: 1.2800e-08\n",
      "Epoch 8/150\n",
      "100/100 [==============================] - ETA: 0s - loss: 2.3027 - accuracy: 0.1017\n",
      "Epoch 00008: val_accuracy did not improve from 0.10250\n",
      "100/100 [==============================] - 12s 120ms/step - loss: 2.3027 - accuracy: 0.1017 - val_loss: 2.3026 - val_accuracy: 0.1017 - lr: 1.2800e-08\n",
      "Epoch 9/150\n",
      "100/100 [==============================] - ETA: 0s - loss: 2.3025 - accuracy: 0.0994\n",
      "Epoch 00009: val_accuracy did not improve from 0.10250\n",
      "100/100 [==============================] - 12s 116ms/step - loss: 2.3025 - accuracy: 0.0994 - val_loss: 2.3026 - val_accuracy: 0.1017 - lr: 1.2800e-08\n",
      "Epoch 10/150\n",
      "100/100 [==============================] - ETA: 0s - loss: 2.3026 - accuracy: 0.0981\n",
      "Epoch 00010: val_accuracy did not improve from 0.10250\n",
      "100/100 [==============================] - 11s 112ms/step - loss: 2.3026 - accuracy: 0.0981 - val_loss: 2.3026 - val_accuracy: 0.1017 - lr: 1.2800e-08\n",
      "Epoch 11/150\n",
      "100/100 [==============================] - ETA: 0s - loss: 2.3026 - accuracy: 0.1029\n",
      "Epoch 00011: val_accuracy did not improve from 0.10250\n",
      "100/100 [==============================] - 11s 113ms/step - loss: 2.3026 - accuracy: 0.1029 - val_loss: 2.3026 - val_accuracy: 0.1017 - lr: 1.2800e-08\n",
      "Epoch 12/150\n",
      "100/100 [==============================] - ETA: 0s - loss: 2.3026 - accuracy: 0.0977\n",
      "Epoch 00012: val_accuracy did not improve from 0.10250\n",
      "100/100 [==============================] - 11s 110ms/step - loss: 2.3026 - accuracy: 0.0977 - val_loss: 2.3026 - val_accuracy: 0.1025 - lr: 1.2800e-08\n",
      "Epoch 13/150\n",
      "100/100 [==============================] - ETA: 0s - loss: 2.3027 - accuracy: 0.1002\n",
      "Epoch 00013: val_accuracy improved from 0.10250 to 0.10333, saving model to ./callbacks/cnn_large_1643002615/model.hdf5\n",
      "100/100 [==============================] - 12s 118ms/step - loss: 2.3027 - accuracy: 0.1002 - val_loss: 2.3026 - val_accuracy: 0.1033 - lr: 1.2800e-08\n",
      "Epoch 14/150\n",
      "100/100 [==============================] - ETA: 0s - loss: 2.3026 - accuracy: 0.1031\n",
      "Epoch 00014: val_accuracy did not improve from 0.10333\n",
      "100/100 [==============================] - 11s 110ms/step - loss: 2.3026 - accuracy: 0.1031 - val_loss: 2.3026 - val_accuracy: 0.1033 - lr: 1.2800e-08\n",
      "Epoch 15/150\n",
      "100/100 [==============================] - ETA: 0s - loss: 2.3026 - accuracy: 0.0983\n",
      "Epoch 00015: val_accuracy did not improve from 0.10333\n",
      "100/100 [==============================] - 11s 110ms/step - loss: 2.3026 - accuracy: 0.0983 - val_loss: 2.3026 - val_accuracy: 0.1033 - lr: 1.2800e-08\n",
      "Epoch 16/150\n",
      "100/100 [==============================] - ETA: 0s - loss: 2.3025 - accuracy: 0.0990\n",
      "Epoch 00016: val_accuracy did not improve from 0.10333\n",
      "100/100 [==============================] - 11s 110ms/step - loss: 2.3025 - accuracy: 0.0990 - val_loss: 2.3026 - val_accuracy: 0.1033 - lr: 1.2800e-08\n",
      "Epoch 17/150\n",
      "100/100 [==============================] - ETA: 0s - loss: 2.3025 - accuracy: 0.1019\n",
      "Epoch 00017: val_accuracy did not improve from 0.10333\n",
      "100/100 [==============================] - 11s 110ms/step - loss: 2.3025 - accuracy: 0.1019 - val_loss: 2.3026 - val_accuracy: 0.1033 - lr: 1.2800e-08\n",
      "Epoch 18/150\n",
      "100/100 [==============================] - ETA: 0s - loss: 2.3025 - accuracy: 0.1017\n",
      "Epoch 00018: val_accuracy did not improve from 0.10333\n",
      "100/100 [==============================] - 11s 110ms/step - loss: 2.3025 - accuracy: 0.1017 - val_loss: 2.3026 - val_accuracy: 0.1033 - lr: 1.2800e-08\n",
      "Epoch 19/150\n",
      "100/100 [==============================] - ETA: 0s - loss: 2.3025 - accuracy: 0.1102\n",
      "Epoch 00019: val_accuracy did not improve from 0.10333\n",
      "100/100 [==============================] - 11s 110ms/step - loss: 2.3025 - accuracy: 0.1102 - val_loss: 2.3026 - val_accuracy: 0.1033 - lr: 1.2800e-08\n",
      "Epoch 20/150\n",
      "100/100 [==============================] - ETA: 0s - loss: 2.3025 - accuracy: 0.1015\n",
      "Epoch 00020: val_accuracy did not improve from 0.10333\n",
      "100/100 [==============================] - 11s 110ms/step - loss: 2.3025 - accuracy: 0.1015 - val_loss: 2.3026 - val_accuracy: 0.1033 - lr: 1.2800e-08\n",
      "Epoch 21/150\n",
      "100/100 [==============================] - ETA: 0s - loss: 2.3025 - accuracy: 0.1017\n",
      "Epoch 00021: val_accuracy did not improve from 0.10333\n",
      "100/100 [==============================] - 11s 111ms/step - loss: 2.3025 - accuracy: 0.1017 - val_loss: 2.3026 - val_accuracy: 0.1033 - lr: 1.2800e-08\n",
      "Epoch 22/150\n",
      "100/100 [==============================] - ETA: 0s - loss: 2.3026 - accuracy: 0.0950\n",
      "Epoch 00022: val_accuracy did not improve from 0.10333\n",
      "100/100 [==============================] - 11s 110ms/step - loss: 2.3026 - accuracy: 0.0950 - val_loss: 2.3026 - val_accuracy: 0.1033 - lr: 1.2800e-08\n",
      "Epoch 23/150\n",
      "100/100 [==============================] - ETA: 0s - loss: 2.3024 - accuracy: 0.1071\n",
      "Epoch 00023: val_accuracy did not improve from 0.10333\n",
      "100/100 [==============================] - 11s 110ms/step - loss: 2.3024 - accuracy: 0.1071 - val_loss: 2.3026 - val_accuracy: 0.1033 - lr: 1.2800e-08\n",
      "Epoch 24/150\n",
      "100/100 [==============================] - ETA: 0s - loss: 2.3024 - accuracy: 0.1048\n",
      "Epoch 00024: val_accuracy did not improve from 0.10333\n",
      "100/100 [==============================] - 12s 118ms/step - loss: 2.3024 - accuracy: 0.1048 - val_loss: 2.3026 - val_accuracy: 0.1033 - lr: 1.2800e-08\n",
      "Epoch 25/150\n",
      "100/100 [==============================] - ETA: 0s - loss: 2.3025 - accuracy: 0.0969\n",
      "Epoch 00025: val_accuracy improved from 0.10333 to 0.10417, saving model to ./callbacks/cnn_large_1643002615/model.hdf5\n",
      "100/100 [==============================] - 12s 124ms/step - loss: 2.3025 - accuracy: 0.0969 - val_loss: 2.3025 - val_accuracy: 0.1042 - lr: 1.2800e-08\n",
      "Epoch 26/150\n",
      "100/100 [==============================] - ETA: 0s - loss: 2.3025 - accuracy: 0.1019\n",
      "Epoch 00026: val_accuracy did not improve from 0.10417\n",
      "100/100 [==============================] - 11s 110ms/step - loss: 2.3025 - accuracy: 0.1019 - val_loss: 2.3025 - val_accuracy: 0.1042 - lr: 1.2800e-08\n",
      "Epoch 27/150\n",
      "100/100 [==============================] - ETA: 0s - loss: 2.3022 - accuracy: 0.1004\n",
      "Epoch 00027: val_accuracy did not improve from 0.10417\n",
      "100/100 [==============================] - 11s 110ms/step - loss: 2.3022 - accuracy: 0.1004 - val_loss: 2.3025 - val_accuracy: 0.1042 - lr: 1.2800e-08\n"
     ]
    },
    {
     "name": "stdout",
     "output_type": "stream",
     "text": [
      "Epoch 28/150\n",
      "100/100 [==============================] - ETA: 0s - loss: 2.3024 - accuracy: 0.1035\n",
      "Epoch 00028: val_accuracy did not improve from 0.10417\n",
      "100/100 [==============================] - 11s 110ms/step - loss: 2.3024 - accuracy: 0.1035 - val_loss: 2.3025 - val_accuracy: 0.1042 - lr: 1.2800e-08\n",
      "Epoch 29/150\n",
      "100/100 [==============================] - ETA: 0s - loss: 2.3025 - accuracy: 0.0960\n",
      "Epoch 00029: val_accuracy did not improve from 0.10417\n",
      "100/100 [==============================] - 11s 110ms/step - loss: 2.3025 - accuracy: 0.0960 - val_loss: 2.3025 - val_accuracy: 0.1042 - lr: 1.2800e-08\n",
      "Epoch 30/150\n",
      "100/100 [==============================] - ETA: 0s - loss: 2.3024 - accuracy: 0.1033\n",
      "Epoch 00030: val_accuracy did not improve from 0.10417\n",
      "100/100 [==============================] - 11s 110ms/step - loss: 2.3024 - accuracy: 0.1033 - val_loss: 2.3025 - val_accuracy: 0.1042 - lr: 1.2800e-08\n",
      "Epoch 31/150\n",
      "100/100 [==============================] - ETA: 0s - loss: 2.3023 - accuracy: 0.1048\n",
      "Epoch 00031: val_accuracy did not improve from 0.10417\n",
      "100/100 [==============================] - 12s 116ms/step - loss: 2.3023 - accuracy: 0.1048 - val_loss: 2.3025 - val_accuracy: 0.1042 - lr: 1.2800e-08\n",
      "Epoch 32/150\n",
      "100/100 [==============================] - ETA: 0s - loss: 2.3023 - accuracy: 0.1050\n",
      "Epoch 00032: val_accuracy did not improve from 0.10417\n",
      "100/100 [==============================] - 11s 115ms/step - loss: 2.3023 - accuracy: 0.1050 - val_loss: 2.3025 - val_accuracy: 0.1042 - lr: 1.2800e-08\n",
      "Epoch 33/150\n",
      "100/100 [==============================] - ETA: 0s - loss: 2.3024 - accuracy: 0.1021\n",
      "Epoch 00033: val_accuracy did not improve from 0.10417\n",
      "100/100 [==============================] - 12s 121ms/step - loss: 2.3024 - accuracy: 0.1021 - val_loss: 2.3025 - val_accuracy: 0.1042 - lr: 1.2800e-08\n",
      "Epoch 34/150\n",
      "100/100 [==============================] - ETA: 0s - loss: 2.3024 - accuracy: 0.1021\n",
      "Epoch 00034: val_accuracy did not improve from 0.10417\n",
      "100/100 [==============================] - 12s 123ms/step - loss: 2.3024 - accuracy: 0.1021 - val_loss: 2.3025 - val_accuracy: 0.1042 - lr: 1.2800e-08\n",
      "Epoch 35/150\n",
      "100/100 [==============================] - ETA: 0s - loss: 2.3024 - accuracy: 0.1006\n",
      "Epoch 00035: val_accuracy did not improve from 0.10417\n",
      "100/100 [==============================] - 11s 110ms/step - loss: 2.3024 - accuracy: 0.1006 - val_loss: 2.3025 - val_accuracy: 0.1042 - lr: 1.2800e-08\n",
      "Epoch 36/150\n",
      "100/100 [==============================] - ETA: 0s - loss: 2.3022 - accuracy: 0.1035\n",
      "Epoch 00036: val_accuracy did not improve from 0.10417\n",
      "100/100 [==============================] - 11s 109ms/step - loss: 2.3022 - accuracy: 0.1035 - val_loss: 2.3025 - val_accuracy: 0.1042 - lr: 1.2800e-08\n",
      "Epoch 37/150\n",
      "100/100 [==============================] - ETA: 0s - loss: 2.3022 - accuracy: 0.1100\n",
      "Epoch 00037: val_accuracy did not improve from 0.10417\n",
      "100/100 [==============================] - 11s 110ms/step - loss: 2.3022 - accuracy: 0.1100 - val_loss: 2.3025 - val_accuracy: 0.1042 - lr: 1.2800e-08\n",
      "Epoch 38/150\n",
      "100/100 [==============================] - ETA: 0s - loss: 2.3023 - accuracy: 0.1035\n",
      "Epoch 00038: val_accuracy improved from 0.10417 to 0.10500, saving model to ./callbacks/cnn_large_1643002615/model.hdf5\n",
      "100/100 [==============================] - 12s 117ms/step - loss: 2.3023 - accuracy: 0.1035 - val_loss: 2.3025 - val_accuracy: 0.1050 - lr: 1.2800e-08\n",
      "Epoch 39/150\n",
      "100/100 [==============================] - ETA: 0s - loss: 2.3024 - accuracy: 0.1004\n",
      "Epoch 00039: val_accuracy did not improve from 0.10500\n",
      "100/100 [==============================] - 11s 109ms/step - loss: 2.3024 - accuracy: 0.1004 - val_loss: 2.3025 - val_accuracy: 0.1050 - lr: 1.2800e-08\n",
      "Epoch 40/150\n",
      "100/100 [==============================] - ETA: 0s - loss: 2.3023 - accuracy: 0.1004\n",
      "Epoch 00040: val_accuracy did not improve from 0.10500\n",
      "100/100 [==============================] - 11s 111ms/step - loss: 2.3023 - accuracy: 0.1004 - val_loss: 2.3025 - val_accuracy: 0.1042 - lr: 1.2800e-08\n",
      "Epoch 41/150\n",
      "100/100 [==============================] - ETA: 0s - loss: 2.3022 - accuracy: 0.1046\n",
      "Epoch 00041: val_accuracy did not improve from 0.10500\n",
      "100/100 [==============================] - 11s 110ms/step - loss: 2.3022 - accuracy: 0.1046 - val_loss: 2.3024 - val_accuracy: 0.1050 - lr: 1.2800e-08\n",
      "Epoch 42/150\n",
      "100/100 [==============================] - ETA: 0s - loss: 2.3023 - accuracy: 0.1002\n",
      "Epoch 00042: val_accuracy did not improve from 0.10500\n",
      "100/100 [==============================] - 13s 129ms/step - loss: 2.3023 - accuracy: 0.1002 - val_loss: 2.3024 - val_accuracy: 0.1050 - lr: 1.2800e-08\n",
      "Epoch 43/150\n",
      "100/100 [==============================] - ETA: 0s - loss: 2.3022 - accuracy: 0.1015\n",
      "Epoch 00043: val_accuracy did not improve from 0.10500\n",
      "100/100 [==============================] - 12s 123ms/step - loss: 2.3022 - accuracy: 0.1015 - val_loss: 2.3024 - val_accuracy: 0.1042 - lr: 1.2800e-08\n",
      "Epoch 44/150\n",
      "100/100 [==============================] - ETA: 0s - loss: 2.3021 - accuracy: 0.1060\n",
      "Epoch 00044: val_accuracy did not improve from 0.10500\n",
      "100/100 [==============================] - 12s 116ms/step - loss: 2.3021 - accuracy: 0.1060 - val_loss: 2.3024 - val_accuracy: 0.1042 - lr: 1.2800e-08\n",
      "Epoch 45/150\n",
      "100/100 [==============================] - ETA: 0s - loss: 2.3022 - accuracy: 0.1027\n",
      "Epoch 00045: val_accuracy did not improve from 0.10500\n",
      "100/100 [==============================] - 11s 115ms/step - loss: 2.3022 - accuracy: 0.1027 - val_loss: 2.3024 - val_accuracy: 0.1042 - lr: 1.2800e-08\n",
      "Epoch 46/150\n",
      "100/100 [==============================] - ETA: 0s - loss: 2.3024 - accuracy: 0.1017\n",
      "Epoch 00046: val_accuracy did not improve from 0.10500\n",
      "100/100 [==============================] - 12s 123ms/step - loss: 2.3024 - accuracy: 0.1017 - val_loss: 2.3024 - val_accuracy: 0.1042 - lr: 1.2800e-08\n",
      "Epoch 47/150\n",
      "100/100 [==============================] - ETA: 0s - loss: 2.3021 - accuracy: 0.1123\n",
      "Epoch 00047: val_accuracy did not improve from 0.10500\n",
      "100/100 [==============================] - 12s 121ms/step - loss: 2.3021 - accuracy: 0.1123 - val_loss: 2.3024 - val_accuracy: 0.1042 - lr: 1.2800e-08\n",
      "Epoch 48/150\n",
      "100/100 [==============================] - ETA: 0s - loss: 2.3021 - accuracy: 0.1090\n",
      "Epoch 00048: val_accuracy did not improve from 0.10500\n",
      "100/100 [==============================] - 11s 110ms/step - loss: 2.3021 - accuracy: 0.1090 - val_loss: 2.3024 - val_accuracy: 0.1050 - lr: 1.2800e-08\n",
      "Epoch 49/150\n",
      "100/100 [==============================] - ETA: 0s - loss: 2.3023 - accuracy: 0.0990\n",
      "Epoch 00049: val_accuracy did not improve from 0.10500\n",
      "100/100 [==============================] - 12s 123ms/step - loss: 2.3023 - accuracy: 0.0990 - val_loss: 2.3024 - val_accuracy: 0.1050 - lr: 1.2800e-08\n",
      "Epoch 50/150\n",
      "100/100 [==============================] - ETA: 0s - loss: 2.3021 - accuracy: 0.1071\n",
      "Epoch 00050: val_accuracy did not improve from 0.10500\n",
      "100/100 [==============================] - 12s 122ms/step - loss: 2.3021 - accuracy: 0.1071 - val_loss: 2.3024 - val_accuracy: 0.1050 - lr: 1.2800e-08\n",
      "Epoch 51/150\n",
      "100/100 [==============================] - ETA: 0s - loss: 2.3022 - accuracy: 0.1065\n",
      "Epoch 00051: val_accuracy did not improve from 0.10500\n",
      "100/100 [==============================] - 12s 118ms/step - loss: 2.3022 - accuracy: 0.1065 - val_loss: 2.3024 - val_accuracy: 0.1050 - lr: 1.2800e-08\n",
      "Epoch 52/150\n",
      "100/100 [==============================] - ETA: 0s - loss: 2.3021 - accuracy: 0.1006\n",
      "Epoch 00052: val_accuracy did not improve from 0.10500\n",
      "100/100 [==============================] - 11s 114ms/step - loss: 2.3021 - accuracy: 0.1006 - val_loss: 2.3024 - val_accuracy: 0.1050 - lr: 1.2800e-08\n",
      "Epoch 53/150\n",
      "100/100 [==============================] - ETA: 0s - loss: 2.3022 - accuracy: 0.1044\n",
      "Epoch 00053: val_accuracy improved from 0.10500 to 0.10583, saving model to ./callbacks/cnn_large_1643002615/model.hdf5\n",
      "100/100 [==============================] - 13s 129ms/step - loss: 2.3022 - accuracy: 0.1044 - val_loss: 2.3024 - val_accuracy: 0.1058 - lr: 1.2800e-08\n",
      "Epoch 54/150\n",
      "100/100 [==============================] - ETA: 0s - loss: 2.3020 - accuracy: 0.1004\n",
      "Epoch 00054: val_accuracy improved from 0.10583 to 0.10667, saving model to ./callbacks/cnn_large_1643002615/model.hdf5\n"
     ]
    },
    {
     "name": "stdout",
     "output_type": "stream",
     "text": [
      "100/100 [==============================] - 12s 120ms/step - loss: 2.3020 - accuracy: 0.1004 - val_loss: 2.3024 - val_accuracy: 0.1067 - lr: 1.2800e-08\n",
      "Epoch 55/150\n",
      "100/100 [==============================] - ETA: 0s - loss: 2.3020 - accuracy: 0.1048\n",
      "Epoch 00055: val_accuracy did not improve from 0.10667\n",
      "100/100 [==============================] - 12s 117ms/step - loss: 2.3020 - accuracy: 0.1048 - val_loss: 2.3024 - val_accuracy: 0.1067 - lr: 1.2800e-08\n",
      "Epoch 56/150\n",
      "100/100 [==============================] - ETA: 0s - loss: 2.3021 - accuracy: 0.1037\n",
      "Epoch 00056: val_accuracy did not improve from 0.10667\n",
      "100/100 [==============================] - 11s 113ms/step - loss: 2.3021 - accuracy: 0.1037 - val_loss: 2.3024 - val_accuracy: 0.1067 - lr: 1.2800e-08\n",
      "Epoch 57/150\n",
      "100/100 [==============================] - ETA: 0s - loss: 2.3021 - accuracy: 0.0992\n",
      "Epoch 00057: val_accuracy improved from 0.10667 to 0.10750, saving model to ./callbacks/cnn_large_1643002615/model.hdf5\n",
      "100/100 [==============================] - 12s 120ms/step - loss: 2.3021 - accuracy: 0.0992 - val_loss: 2.3024 - val_accuracy: 0.1075 - lr: 1.2800e-08\n",
      "Epoch 58/150\n",
      "100/100 [==============================] - ETA: 0s - loss: 2.3020 - accuracy: 0.1025\n",
      "Epoch 00058: val_accuracy improved from 0.10750 to 0.10833, saving model to ./callbacks/cnn_large_1643002615/model.hdf5\n",
      "100/100 [==============================] - 12s 125ms/step - loss: 2.3020 - accuracy: 0.1025 - val_loss: 2.3024 - val_accuracy: 0.1083 - lr: 1.2800e-08\n",
      "Epoch 59/150\n",
      "100/100 [==============================] - ETA: 0s - loss: 2.3020 - accuracy: 0.0992\n",
      "Epoch 00059: val_accuracy improved from 0.10833 to 0.10917, saving model to ./callbacks/cnn_large_1643002615/model.hdf5\n",
      "100/100 [==============================] - 12s 123ms/step - loss: 2.3020 - accuracy: 0.0992 - val_loss: 2.3024 - val_accuracy: 0.1092 - lr: 1.2800e-08\n",
      "Epoch 60/150\n",
      "100/100 [==============================] - ETA: 0s - loss: 2.3021 - accuracy: 0.1017\n",
      "Epoch 00060: val_accuracy did not improve from 0.10917\n",
      "100/100 [==============================] - 11s 110ms/step - loss: 2.3021 - accuracy: 0.1017 - val_loss: 2.3024 - val_accuracy: 0.1092 - lr: 1.2800e-08\n",
      "Epoch 61/150\n",
      "100/100 [==============================] - ETA: 0s - loss: 2.3022 - accuracy: 0.0967\n",
      "Epoch 00061: val_accuracy did not improve from 0.10917\n",
      "100/100 [==============================] - 11s 110ms/step - loss: 2.3022 - accuracy: 0.0967 - val_loss: 2.3023 - val_accuracy: 0.1083 - lr: 1.2800e-08\n",
      "Epoch 62/150\n",
      "100/100 [==============================] - ETA: 0s - loss: 2.3020 - accuracy: 0.1021\n",
      "Epoch 00062: val_accuracy did not improve from 0.10917\n",
      "100/100 [==============================] - 12s 116ms/step - loss: 2.3020 - accuracy: 0.1021 - val_loss: 2.3023 - val_accuracy: 0.1083 - lr: 1.2800e-08\n",
      "Epoch 63/150\n",
      "100/100 [==============================] - ETA: 0s - loss: 2.3020 - accuracy: 0.1102\n",
      "Epoch 00063: val_accuracy did not improve from 0.10917\n",
      "100/100 [==============================] - 12s 122ms/step - loss: 2.3020 - accuracy: 0.1102 - val_loss: 2.3023 - val_accuracy: 0.1083 - lr: 1.2800e-08\n",
      "Epoch 64/150\n",
      "  8/100 [=>............................] - ETA: 9s - loss: 2.3020 - accuracy: 0.1146"
     ]
    },
    {
     "ename": "KeyboardInterrupt",
     "evalue": "",
     "output_type": "error",
     "traceback": [
      "\u001b[0;31m---------------------------------------------------------------------------\u001b[0m",
      "\u001b[0;31mKeyboardInterrupt\u001b[0m                         Traceback (most recent call last)",
      "Input \u001b[0;32mIn [22]\u001b[0m, in \u001b[0;36m<module>\u001b[0;34m\u001b[0m\n\u001b[1;32m     37\u001b[0m model\u001b[38;5;241m.\u001b[39mcompile(loss\u001b[38;5;241m=\u001b[39mloss_function,\n\u001b[1;32m     38\u001b[0m               optimizer\u001b[38;5;241m=\u001b[39moptimizer,\n\u001b[1;32m     39\u001b[0m               metrics\u001b[38;5;241m=\u001b[39m[\u001b[38;5;124m'\u001b[39m\u001b[38;5;124maccuracy\u001b[39m\u001b[38;5;124m'\u001b[39m])\n\u001b[1;32m     41\u001b[0m \u001b[38;5;66;03m# Fit data to model\u001b[39;00m\n\u001b[0;32m---> 42\u001b[0m history2 \u001b[38;5;241m=\u001b[39m \u001b[43mmodel\u001b[49m\u001b[38;5;241;43m.\u001b[39;49m\u001b[43mfit\u001b[49m\u001b[43m(\u001b[49m\u001b[43mX_train\u001b[49m\u001b[43m,\u001b[49m\u001b[43m \u001b[49m\u001b[43my_train\u001b[49m\u001b[43m,\u001b[49m\n\u001b[1;32m     43\u001b[0m \u001b[43m                    \u001b[49m\u001b[43mbatch_size\u001b[49m\u001b[38;5;241;43m=\u001b[39;49m\u001b[43mbatch_size\u001b[49m\u001b[43m,\u001b[49m\n\u001b[1;32m     44\u001b[0m \u001b[43m                    \u001b[49m\u001b[43mepochs\u001b[49m\u001b[38;5;241;43m=\u001b[39;49m\u001b[43mn_epochs\u001b[49m\u001b[43m,\u001b[49m\n\u001b[1;32m     45\u001b[0m \u001b[43m                    \u001b[49m\u001b[43mvalidation_data\u001b[49m\u001b[38;5;241;43m=\u001b[39;49m\u001b[43m(\u001b[49m\u001b[43mX_test\u001b[49m\u001b[43m,\u001b[49m\u001b[43m \u001b[49m\u001b[43my_test\u001b[49m\u001b[43m)\u001b[49m\u001b[43m,\u001b[49m\n\u001b[1;32m     46\u001b[0m \u001b[43m                    \u001b[49m\u001b[43mcallbacks\u001b[49m\u001b[38;5;241;43m=\u001b[39;49m\u001b[43mcallback_list\u001b[49m\u001b[43m,\u001b[49m\n\u001b[1;32m     47\u001b[0m \u001b[43m                    \u001b[49m\u001b[43mverbose\u001b[49m\u001b[38;5;241;43m=\u001b[39;49m\u001b[38;5;241;43m1\u001b[39;49m\u001b[43m)\u001b[49m\n\u001b[1;32m     49\u001b[0m \u001b[38;5;66;03m# We have to reload model because model.fit will probably early stop and save best model 20 epochs ago\u001b[39;00m\n\u001b[1;32m     50\u001b[0m model \u001b[38;5;241m=\u001b[39m ke\u001b[38;5;241m.\u001b[39mmodels\u001b[38;5;241m.\u001b[39mload_model(os\u001b[38;5;241m.\u001b[39mpath\u001b[38;5;241m.\u001b[39mjoin(model_dir,\u001b[38;5;124m'\u001b[39m\u001b[38;5;124mmodel.hdf5\u001b[39m\u001b[38;5;124m'\u001b[39m))\n",
      "File \u001b[0;32m~/miniconda3/envs/my_env/lib/python3.9/site-packages/keras/utils/traceback_utils.py:64\u001b[0m, in \u001b[0;36mfilter_traceback.<locals>.error_handler\u001b[0;34m(*args, **kwargs)\u001b[0m\n\u001b[1;32m     62\u001b[0m filtered_tb \u001b[38;5;241m=\u001b[39m \u001b[38;5;28;01mNone\u001b[39;00m\n\u001b[1;32m     63\u001b[0m \u001b[38;5;28;01mtry\u001b[39;00m:\n\u001b[0;32m---> 64\u001b[0m   \u001b[38;5;28;01mreturn\u001b[39;00m \u001b[43mfn\u001b[49m\u001b[43m(\u001b[49m\u001b[38;5;241;43m*\u001b[39;49m\u001b[43margs\u001b[49m\u001b[43m,\u001b[49m\u001b[43m \u001b[49m\u001b[38;5;241;43m*\u001b[39;49m\u001b[38;5;241;43m*\u001b[39;49m\u001b[43mkwargs\u001b[49m\u001b[43m)\u001b[49m\n\u001b[1;32m     65\u001b[0m \u001b[38;5;28;01mexcept\u001b[39;00m \u001b[38;5;167;01mException\u001b[39;00m \u001b[38;5;28;01mas\u001b[39;00m e:  \u001b[38;5;66;03m# pylint: disable=broad-except\u001b[39;00m\n\u001b[1;32m     66\u001b[0m   filtered_tb \u001b[38;5;241m=\u001b[39m _process_traceback_frames(e\u001b[38;5;241m.\u001b[39m__traceback__)\n",
      "File \u001b[0;32m~/miniconda3/envs/my_env/lib/python3.9/site-packages/keras/engine/training.py:1221\u001b[0m, in \u001b[0;36mModel.fit\u001b[0;34m(self, x, y, batch_size, epochs, verbose, callbacks, validation_split, validation_data, shuffle, class_weight, sample_weight, initial_epoch, steps_per_epoch, validation_steps, validation_batch_size, validation_freq, max_queue_size, workers, use_multiprocessing)\u001b[0m\n\u001b[1;32m   1219\u001b[0m logs \u001b[38;5;241m=\u001b[39m tmp_logs  \u001b[38;5;66;03m# No error, now safe to assign to logs.\u001b[39;00m\n\u001b[1;32m   1220\u001b[0m end_step \u001b[38;5;241m=\u001b[39m step \u001b[38;5;241m+\u001b[39m data_handler\u001b[38;5;241m.\u001b[39mstep_increment\n\u001b[0;32m-> 1221\u001b[0m \u001b[43mcallbacks\u001b[49m\u001b[38;5;241;43m.\u001b[39;49m\u001b[43mon_train_batch_end\u001b[49m\u001b[43m(\u001b[49m\u001b[43mend_step\u001b[49m\u001b[43m,\u001b[49m\u001b[43m \u001b[49m\u001b[43mlogs\u001b[49m\u001b[43m)\u001b[49m\n\u001b[1;32m   1222\u001b[0m \u001b[38;5;28;01mif\u001b[39;00m \u001b[38;5;28mself\u001b[39m\u001b[38;5;241m.\u001b[39mstop_training:\n\u001b[1;32m   1223\u001b[0m   \u001b[38;5;28;01mbreak\u001b[39;00m\n",
      "File \u001b[0;32m~/miniconda3/envs/my_env/lib/python3.9/site-packages/keras/callbacks.py:436\u001b[0m, in \u001b[0;36mCallbackList.on_train_batch_end\u001b[0;34m(self, batch, logs)\u001b[0m\n\u001b[1;32m    429\u001b[0m \u001b[38;5;124;03m\"\"\"Calls the `on_train_batch_end` methods of its callbacks.\u001b[39;00m\n\u001b[1;32m    430\u001b[0m \n\u001b[1;32m    431\u001b[0m \u001b[38;5;124;03mArgs:\u001b[39;00m\n\u001b[1;32m    432\u001b[0m \u001b[38;5;124;03m    batch: Integer, index of batch within the current epoch.\u001b[39;00m\n\u001b[1;32m    433\u001b[0m \u001b[38;5;124;03m    logs: Dict. Aggregated metric results up until this batch.\u001b[39;00m\n\u001b[1;32m    434\u001b[0m \u001b[38;5;124;03m\"\"\"\u001b[39;00m\n\u001b[1;32m    435\u001b[0m \u001b[38;5;28;01mif\u001b[39;00m \u001b[38;5;28mself\u001b[39m\u001b[38;5;241m.\u001b[39m_should_call_train_batch_hooks:\n\u001b[0;32m--> 436\u001b[0m   \u001b[38;5;28;43mself\u001b[39;49m\u001b[38;5;241;43m.\u001b[39;49m\u001b[43m_call_batch_hook\u001b[49m\u001b[43m(\u001b[49m\u001b[43mModeKeys\u001b[49m\u001b[38;5;241;43m.\u001b[39;49m\u001b[43mTRAIN\u001b[49m\u001b[43m,\u001b[49m\u001b[43m \u001b[49m\u001b[38;5;124;43m'\u001b[39;49m\u001b[38;5;124;43mend\u001b[39;49m\u001b[38;5;124;43m'\u001b[39;49m\u001b[43m,\u001b[49m\u001b[43m \u001b[49m\u001b[43mbatch\u001b[49m\u001b[43m,\u001b[49m\u001b[43m \u001b[49m\u001b[43mlogs\u001b[49m\u001b[38;5;241;43m=\u001b[39;49m\u001b[43mlogs\u001b[49m\u001b[43m)\u001b[49m\n",
      "File \u001b[0;32m~/miniconda3/envs/my_env/lib/python3.9/site-packages/keras/callbacks.py:295\u001b[0m, in \u001b[0;36mCallbackList._call_batch_hook\u001b[0;34m(self, mode, hook, batch, logs)\u001b[0m\n\u001b[1;32m    293\u001b[0m   \u001b[38;5;28mself\u001b[39m\u001b[38;5;241m.\u001b[39m_call_batch_begin_hook(mode, batch, logs)\n\u001b[1;32m    294\u001b[0m \u001b[38;5;28;01melif\u001b[39;00m hook \u001b[38;5;241m==\u001b[39m \u001b[38;5;124m'\u001b[39m\u001b[38;5;124mend\u001b[39m\u001b[38;5;124m'\u001b[39m:\n\u001b[0;32m--> 295\u001b[0m   \u001b[38;5;28;43mself\u001b[39;49m\u001b[38;5;241;43m.\u001b[39;49m\u001b[43m_call_batch_end_hook\u001b[49m\u001b[43m(\u001b[49m\u001b[43mmode\u001b[49m\u001b[43m,\u001b[49m\u001b[43m \u001b[49m\u001b[43mbatch\u001b[49m\u001b[43m,\u001b[49m\u001b[43m \u001b[49m\u001b[43mlogs\u001b[49m\u001b[43m)\u001b[49m\n\u001b[1;32m    296\u001b[0m \u001b[38;5;28;01melse\u001b[39;00m:\n\u001b[1;32m    297\u001b[0m   \u001b[38;5;28;01mraise\u001b[39;00m \u001b[38;5;167;01mValueError\u001b[39;00m(\n\u001b[1;32m    298\u001b[0m       \u001b[38;5;124mf\u001b[39m\u001b[38;5;124m'\u001b[39m\u001b[38;5;124mUnrecognized hook: \u001b[39m\u001b[38;5;132;01m{\u001b[39;00mhook\u001b[38;5;132;01m}\u001b[39;00m\u001b[38;5;124m. Expected values are [\u001b[39m\u001b[38;5;124m\"\u001b[39m\u001b[38;5;124mbegin\u001b[39m\u001b[38;5;124m\"\u001b[39m\u001b[38;5;124m, \u001b[39m\u001b[38;5;124m\"\u001b[39m\u001b[38;5;124mend\u001b[39m\u001b[38;5;124m\"\u001b[39m\u001b[38;5;124m]\u001b[39m\u001b[38;5;124m'\u001b[39m)\n",
      "File \u001b[0;32m~/miniconda3/envs/my_env/lib/python3.9/site-packages/keras/callbacks.py:316\u001b[0m, in \u001b[0;36mCallbackList._call_batch_end_hook\u001b[0;34m(self, mode, batch, logs)\u001b[0m\n\u001b[1;32m    313\u001b[0m   batch_time \u001b[38;5;241m=\u001b[39m time\u001b[38;5;241m.\u001b[39mtime() \u001b[38;5;241m-\u001b[39m \u001b[38;5;28mself\u001b[39m\u001b[38;5;241m.\u001b[39m_batch_start_time\n\u001b[1;32m    314\u001b[0m   \u001b[38;5;28mself\u001b[39m\u001b[38;5;241m.\u001b[39m_batch_times\u001b[38;5;241m.\u001b[39mappend(batch_time)\n\u001b[0;32m--> 316\u001b[0m \u001b[38;5;28;43mself\u001b[39;49m\u001b[38;5;241;43m.\u001b[39;49m\u001b[43m_call_batch_hook_helper\u001b[49m\u001b[43m(\u001b[49m\u001b[43mhook_name\u001b[49m\u001b[43m,\u001b[49m\u001b[43m \u001b[49m\u001b[43mbatch\u001b[49m\u001b[43m,\u001b[49m\u001b[43m \u001b[49m\u001b[43mlogs\u001b[49m\u001b[43m)\u001b[49m\n\u001b[1;32m    318\u001b[0m \u001b[38;5;28;01mif\u001b[39;00m \u001b[38;5;28mlen\u001b[39m(\u001b[38;5;28mself\u001b[39m\u001b[38;5;241m.\u001b[39m_batch_times) \u001b[38;5;241m>\u001b[39m\u001b[38;5;241m=\u001b[39m \u001b[38;5;28mself\u001b[39m\u001b[38;5;241m.\u001b[39m_num_batches_for_timing_check:\n\u001b[1;32m    319\u001b[0m   end_hook_name \u001b[38;5;241m=\u001b[39m hook_name\n",
      "File \u001b[0;32m~/miniconda3/envs/my_env/lib/python3.9/site-packages/keras/callbacks.py:354\u001b[0m, in \u001b[0;36mCallbackList._call_batch_hook_helper\u001b[0;34m(self, hook_name, batch, logs)\u001b[0m\n\u001b[1;32m    352\u001b[0m \u001b[38;5;28;01mfor\u001b[39;00m callback \u001b[38;5;129;01min\u001b[39;00m \u001b[38;5;28mself\u001b[39m\u001b[38;5;241m.\u001b[39mcallbacks:\n\u001b[1;32m    353\u001b[0m   hook \u001b[38;5;241m=\u001b[39m \u001b[38;5;28mgetattr\u001b[39m(callback, hook_name)\n\u001b[0;32m--> 354\u001b[0m   \u001b[43mhook\u001b[49m\u001b[43m(\u001b[49m\u001b[43mbatch\u001b[49m\u001b[43m,\u001b[49m\u001b[43m \u001b[49m\u001b[43mlogs\u001b[49m\u001b[43m)\u001b[49m\n\u001b[1;32m    356\u001b[0m \u001b[38;5;28;01mif\u001b[39;00m \u001b[38;5;28mself\u001b[39m\u001b[38;5;241m.\u001b[39m_check_timing:\n\u001b[1;32m    357\u001b[0m   \u001b[38;5;28;01mif\u001b[39;00m hook_name \u001b[38;5;129;01mnot\u001b[39;00m \u001b[38;5;129;01min\u001b[39;00m \u001b[38;5;28mself\u001b[39m\u001b[38;5;241m.\u001b[39m_hook_times:\n",
      "File \u001b[0;32m~/miniconda3/envs/my_env/lib/python3.9/site-packages/keras/callbacks.py:1032\u001b[0m, in \u001b[0;36mProgbarLogger.on_train_batch_end\u001b[0;34m(self, batch, logs)\u001b[0m\n\u001b[1;32m   1031\u001b[0m \u001b[38;5;28;01mdef\u001b[39;00m \u001b[38;5;21mon_train_batch_end\u001b[39m(\u001b[38;5;28mself\u001b[39m, batch, logs\u001b[38;5;241m=\u001b[39m\u001b[38;5;28;01mNone\u001b[39;00m):\n\u001b[0;32m-> 1032\u001b[0m   \u001b[38;5;28;43mself\u001b[39;49m\u001b[38;5;241;43m.\u001b[39;49m\u001b[43m_batch_update_progbar\u001b[49m\u001b[43m(\u001b[49m\u001b[43mbatch\u001b[49m\u001b[43m,\u001b[49m\u001b[43m \u001b[49m\u001b[43mlogs\u001b[49m\u001b[43m)\u001b[49m\n",
      "File \u001b[0;32m~/miniconda3/envs/my_env/lib/python3.9/site-packages/keras/callbacks.py:1104\u001b[0m, in \u001b[0;36mProgbarLogger._batch_update_progbar\u001b[0;34m(self, batch, logs)\u001b[0m\n\u001b[1;32m   1100\u001b[0m   \u001b[38;5;28mself\u001b[39m\u001b[38;5;241m.\u001b[39mseen \u001b[38;5;241m+\u001b[39m\u001b[38;5;241m=\u001b[39m add_seen\n\u001b[1;32m   1102\u001b[0m \u001b[38;5;28;01mif\u001b[39;00m \u001b[38;5;28mself\u001b[39m\u001b[38;5;241m.\u001b[39mverbose \u001b[38;5;241m==\u001b[39m \u001b[38;5;241m1\u001b[39m:\n\u001b[1;32m   1103\u001b[0m   \u001b[38;5;66;03m# Only block async when verbose = 1.\u001b[39;00m\n\u001b[0;32m-> 1104\u001b[0m   logs \u001b[38;5;241m=\u001b[39m \u001b[43mtf_utils\u001b[49m\u001b[38;5;241;43m.\u001b[39;49m\u001b[43msync_to_numpy_or_python_type\u001b[49m\u001b[43m(\u001b[49m\u001b[43mlogs\u001b[49m\u001b[43m)\u001b[49m\n\u001b[1;32m   1105\u001b[0m   \u001b[38;5;28mself\u001b[39m\u001b[38;5;241m.\u001b[39mprogbar\u001b[38;5;241m.\u001b[39mupdate(\u001b[38;5;28mself\u001b[39m\u001b[38;5;241m.\u001b[39mseen, \u001b[38;5;28mlist\u001b[39m(logs\u001b[38;5;241m.\u001b[39mitems()), finalize\u001b[38;5;241m=\u001b[39m\u001b[38;5;28;01mFalse\u001b[39;00m)\n",
      "File \u001b[0;32m~/miniconda3/envs/my_env/lib/python3.9/site-packages/keras/utils/tf_utils.py:554\u001b[0m, in \u001b[0;36msync_to_numpy_or_python_type\u001b[0;34m(tensors)\u001b[0m\n\u001b[1;32m    551\u001b[0m     \u001b[38;5;28;01mreturn\u001b[39;00m x\u001b[38;5;241m.\u001b[39mitem() \u001b[38;5;28;01mif\u001b[39;00m np\u001b[38;5;241m.\u001b[39mndim(x) \u001b[38;5;241m==\u001b[39m \u001b[38;5;241m0\u001b[39m \u001b[38;5;28;01melse\u001b[39;00m x\n\u001b[1;32m    552\u001b[0m   \u001b[38;5;28;01mreturn\u001b[39;00m t  \u001b[38;5;66;03m# Don't turn ragged or sparse tensors to NumPy.\u001b[39;00m\n\u001b[0;32m--> 554\u001b[0m \u001b[38;5;28;01mreturn\u001b[39;00m \u001b[43mtf\u001b[49m\u001b[38;5;241;43m.\u001b[39;49m\u001b[43mnest\u001b[49m\u001b[38;5;241;43m.\u001b[39;49m\u001b[43mmap_structure\u001b[49m\u001b[43m(\u001b[49m\u001b[43m_to_single_numpy_or_python_type\u001b[49m\u001b[43m,\u001b[49m\u001b[43m \u001b[49m\u001b[43mtensors\u001b[49m\u001b[43m)\u001b[49m\n",
      "File \u001b[0;32m~/miniconda3/envs/my_env/lib/python3.9/site-packages/tensorflow/python/util/nest.py:869\u001b[0m, in \u001b[0;36mmap_structure\u001b[0;34m(func, *structure, **kwargs)\u001b[0m\n\u001b[1;32m    865\u001b[0m flat_structure \u001b[38;5;241m=\u001b[39m (flatten(s, expand_composites) \u001b[38;5;28;01mfor\u001b[39;00m s \u001b[38;5;129;01min\u001b[39;00m structure)\n\u001b[1;32m    866\u001b[0m entries \u001b[38;5;241m=\u001b[39m \u001b[38;5;28mzip\u001b[39m(\u001b[38;5;241m*\u001b[39mflat_structure)\n\u001b[1;32m    868\u001b[0m \u001b[38;5;28;01mreturn\u001b[39;00m pack_sequence_as(\n\u001b[0;32m--> 869\u001b[0m     structure[\u001b[38;5;241m0\u001b[39m], [func(\u001b[38;5;241m*\u001b[39mx) \u001b[38;5;28;01mfor\u001b[39;00m x \u001b[38;5;129;01min\u001b[39;00m entries],\n\u001b[1;32m    870\u001b[0m     expand_composites\u001b[38;5;241m=\u001b[39mexpand_composites)\n",
      "File \u001b[0;32m~/miniconda3/envs/my_env/lib/python3.9/site-packages/tensorflow/python/util/nest.py:869\u001b[0m, in \u001b[0;36m<listcomp>\u001b[0;34m(.0)\u001b[0m\n\u001b[1;32m    865\u001b[0m flat_structure \u001b[38;5;241m=\u001b[39m (flatten(s, expand_composites) \u001b[38;5;28;01mfor\u001b[39;00m s \u001b[38;5;129;01min\u001b[39;00m structure)\n\u001b[1;32m    866\u001b[0m entries \u001b[38;5;241m=\u001b[39m \u001b[38;5;28mzip\u001b[39m(\u001b[38;5;241m*\u001b[39mflat_structure)\n\u001b[1;32m    868\u001b[0m \u001b[38;5;28;01mreturn\u001b[39;00m pack_sequence_as(\n\u001b[0;32m--> 869\u001b[0m     structure[\u001b[38;5;241m0\u001b[39m], [\u001b[43mfunc\u001b[49m\u001b[43m(\u001b[49m\u001b[38;5;241;43m*\u001b[39;49m\u001b[43mx\u001b[49m\u001b[43m)\u001b[49m \u001b[38;5;28;01mfor\u001b[39;00m x \u001b[38;5;129;01min\u001b[39;00m entries],\n\u001b[1;32m    870\u001b[0m     expand_composites\u001b[38;5;241m=\u001b[39mexpand_composites)\n",
      "File \u001b[0;32m~/miniconda3/envs/my_env/lib/python3.9/site-packages/keras/utils/tf_utils.py:550\u001b[0m, in \u001b[0;36msync_to_numpy_or_python_type.<locals>._to_single_numpy_or_python_type\u001b[0;34m(t)\u001b[0m\n\u001b[1;32m    548\u001b[0m \u001b[38;5;28;01mdef\u001b[39;00m \u001b[38;5;21m_to_single_numpy_or_python_type\u001b[39m(t):\n\u001b[1;32m    549\u001b[0m   \u001b[38;5;28;01mif\u001b[39;00m \u001b[38;5;28misinstance\u001b[39m(t, tf\u001b[38;5;241m.\u001b[39mTensor):\n\u001b[0;32m--> 550\u001b[0m     x \u001b[38;5;241m=\u001b[39m \u001b[43mt\u001b[49m\u001b[38;5;241;43m.\u001b[39;49m\u001b[43mnumpy\u001b[49m\u001b[43m(\u001b[49m\u001b[43m)\u001b[49m\n\u001b[1;32m    551\u001b[0m     \u001b[38;5;28;01mreturn\u001b[39;00m x\u001b[38;5;241m.\u001b[39mitem() \u001b[38;5;28;01mif\u001b[39;00m np\u001b[38;5;241m.\u001b[39mndim(x) \u001b[38;5;241m==\u001b[39m \u001b[38;5;241m0\u001b[39m \u001b[38;5;28;01melse\u001b[39;00m x\n\u001b[1;32m    552\u001b[0m   \u001b[38;5;28;01mreturn\u001b[39;00m t\n",
      "File \u001b[0;32m~/miniconda3/envs/my_env/lib/python3.9/site-packages/tensorflow/python/framework/ops.py:1149\u001b[0m, in \u001b[0;36m_EagerTensorBase.numpy\u001b[0;34m(self)\u001b[0m\n\u001b[1;32m   1126\u001b[0m \u001b[38;5;124;03m\"\"\"Copy of the contents of this Tensor into a NumPy array or scalar.\u001b[39;00m\n\u001b[1;32m   1127\u001b[0m \n\u001b[1;32m   1128\u001b[0m \u001b[38;5;124;03mUnlike NumPy arrays, Tensors are immutable, so this method has to copy\u001b[39;00m\n\u001b[0;32m   (...)\u001b[0m\n\u001b[1;32m   1146\u001b[0m \u001b[38;5;124;03m    NumPy dtype.\u001b[39;00m\n\u001b[1;32m   1147\u001b[0m \u001b[38;5;124;03m\"\"\"\u001b[39;00m\n\u001b[1;32m   1148\u001b[0m \u001b[38;5;66;03m# TODO(slebedev): Consider avoiding a copy for non-CPU or remote tensors.\u001b[39;00m\n\u001b[0;32m-> 1149\u001b[0m maybe_arr \u001b[38;5;241m=\u001b[39m \u001b[38;5;28;43mself\u001b[39;49m\u001b[38;5;241;43m.\u001b[39;49m\u001b[43m_numpy\u001b[49m\u001b[43m(\u001b[49m\u001b[43m)\u001b[49m  \u001b[38;5;66;03m# pylint: disable=protected-access\u001b[39;00m\n\u001b[1;32m   1150\u001b[0m \u001b[38;5;28;01mreturn\u001b[39;00m maybe_arr\u001b[38;5;241m.\u001b[39mcopy() \u001b[38;5;28;01mif\u001b[39;00m \u001b[38;5;28misinstance\u001b[39m(maybe_arr, np\u001b[38;5;241m.\u001b[39mndarray) \u001b[38;5;28;01melse\u001b[39;00m maybe_arr\n",
      "File \u001b[0;32m~/miniconda3/envs/my_env/lib/python3.9/site-packages/tensorflow/python/framework/ops.py:1115\u001b[0m, in \u001b[0;36m_EagerTensorBase._numpy\u001b[0;34m(self)\u001b[0m\n\u001b[1;32m   1113\u001b[0m \u001b[38;5;28;01mdef\u001b[39;00m \u001b[38;5;21m_numpy\u001b[39m(\u001b[38;5;28mself\u001b[39m):\n\u001b[1;32m   1114\u001b[0m   \u001b[38;5;28;01mtry\u001b[39;00m:\n\u001b[0;32m-> 1115\u001b[0m     \u001b[38;5;28;01mreturn\u001b[39;00m \u001b[38;5;28;43mself\u001b[39;49m\u001b[38;5;241;43m.\u001b[39;49m\u001b[43m_numpy_internal\u001b[49m\u001b[43m(\u001b[49m\u001b[43m)\u001b[49m\n\u001b[1;32m   1116\u001b[0m   \u001b[38;5;28;01mexcept\u001b[39;00m core\u001b[38;5;241m.\u001b[39m_NotOkStatusException \u001b[38;5;28;01mas\u001b[39;00m e:  \u001b[38;5;66;03m# pylint: disable=protected-access\u001b[39;00m\n\u001b[1;32m   1117\u001b[0m     \u001b[38;5;28;01mraise\u001b[39;00m core\u001b[38;5;241m.\u001b[39m_status_to_exception(e) \u001b[38;5;28;01mfrom\u001b[39;00m \u001b[38;5;28mNone\u001b[39m\n",
      "\u001b[0;31mKeyboardInterrupt\u001b[0m: "
     ]
    }
   ],
   "source": [
    "## Let's use a larger model -- This starts overfitting even early stopping\n",
    "batch_size = 48\n",
    "model_dir = './callbacks/cnn_large' + '_' + str(int(time()))\n",
    "\n",
    "## Bigger model with dropout\n",
    "model = ke.models.Sequential()\n",
    "model.add(ke.layers.Conv2D(64, kernel_size=(3, 3), activation='relu', input_shape=input_shape))\n",
    "model.add(ke.layers.Conv2D(64, kernel_size=(3, 3), activation='relu'))\n",
    "model.add(ke.layers.MaxPooling2D(pool_size=(2, 2)))\n",
    "\n",
    "model.add(ke.layers.Conv2D(128, kernel_size=(3, 3), activation='relu'))\n",
    "model.add(ke.layers.Conv2D(128, kernel_size=(3, 3), activation='relu'))\n",
    "model.add(ke.layers.MaxPooling2D(pool_size=(2, 2)))\n",
    "\n",
    "model.add(ke.layers.Conv2D(256, kernel_size=(3, 3), activation='relu'))\n",
    "model.add(ke.layers.Conv2D(256, kernel_size=(3, 3), activation='relu'))\n",
    "model.add(ke.layers.Dropout(0.4))\n",
    "model.add(ke.layers.MaxPooling2D(pool_size=(2, 2)))\n",
    "\n",
    "model.add(ke.layers.Conv2D(512, kernel_size=(3, 3), activation='relu'))\n",
    "model.add(ke.layers.Conv2D(512, kernel_size=(3, 3), activation='relu'))\n",
    "model.add(ke.layers.Dropout(0.4))\n",
    "model.add(ke.layers.MaxPooling2D(pool_size=(2, 2)))\n",
    "model.add(ke.layers.Flatten())\n",
    "\n",
    "model.add(ke.layers.Dropout(0.25))\n",
    "model.add(ke.layers.Dense(256, activation='relu'))\n",
    "model.add(ke.layers.Dense(32, activation='relu'))\n",
    "\n",
    "model.add(ke.layers.Dense(n_classes, activation='softmax'))  ## we use softmax to choose just 1 class of all possible classes\n",
    "\n",
    "print(model.summary())\n",
    "\n",
    "_, callback_list = createCallbacks(model_dir)\n",
    "\n",
    "# Compile the model\n",
    "model.compile(loss=loss_function,\n",
    "              optimizer=optimizer,\n",
    "              metrics=['accuracy'])\n",
    "    \n",
    "# Fit data to model\n",
    "history2 = model.fit(X_train, y_train,\n",
    "                    batch_size=batch_size,\n",
    "                    epochs=n_epochs,\n",
    "                    validation_data=(X_test, y_test),\n",
    "                    callbacks=callback_list,\n",
    "                    verbose=1)\n",
    "\n",
    "# We have to reload model because model.fit will probably early stop and save best model 20 epochs ago\n",
    "model = ke.models.load_model(os.path.join(model_dir,'model.hdf5'))\n",
    "\n",
    "# Generate generalization metrics\n",
    "scores2 = model.evaluate(X_test, y_test, verbose=0)\n",
    "print(f'Score: {model.metrics_names[0]} of {scores2[0]}; {model.metrics_names[1]} of {scores2[1]*100}%')"
   ]
  },
  {
   "cell_type": "markdown",
   "metadata": {},
   "source": [
    "You can see that the order of complexity of this model is too big (almost 10M) parameters that it suffers from the problem of vanishing gradients. If you try to train it on your machine you will see that the training is quite unstable. Sometimes it works and the accuracy reaches around 75%, but usually it does not learn anything. The accuracy just stays stuck at around 10% from the first epoch. Remember that we have 10 classes, so a random classifier would give us an accuracy of 1/10, which is exact what this model ends up doing. Even with the addition of the dropout layers it is hard for this type of model to train sucessfully.\n",
    "\n",
    "It does not seem to worth creating a bigger model as this one, unless we have much more samples to train it on or we work with larger inputs. Maybe it could be finetuned if we obtain more data in the future. "
   ]
  },
  {
   "cell_type": "markdown",
   "metadata": {},
   "source": [
    "## Proposed Convnet for Genre Classification\n",
    "Now we are going to train a deep learning classifier that I have originally proposed for instrument recognition and I have now adapted to perform genre classification for this project. It has obtained state-of-the art performance in its original task and I believe we can get really good performance on this task too.\n",
    "\n",
    "It is also based on a convnet, but instead of using a regular stack of conv layers and fully connected layers, I use a lot of residual connections interconnecting the convolutional layers and also use multiple kernel shapes on the convolutions. Instead of only working with squared (3x3) filters, I include vertical (9,1) and also horizontal filters (1,9) in the architecture in order to better learn percussive and harmonic components from the spectrogram.\n",
    "\n",
    "The architecture is called **3W-MDenseNet** and the code for implementing it on tensorflow is included in `./my_model.py`. A detailed description of its architecture is out of the scope of this project, but if you are interested, you can read the paper [here](https://archives.ismir.net/ismir2021/paper/000048.pdf)\n",
    "\n",
    ">**C. Lordelo**, E. Benetos, S. Dixon and S. Ahlbäck, \"Pitch-Informed Instrument Assignment Using a Deep Convolutional Network with Multiple Kernel Shapes\" in *International Society for Music Information Retrieval Conference (ISMIR)*, October 2021. &nbsp; [<sub><sup>[pdf]</sup></sub>](https://archives.ismir.net/ismir2021/paper/000048.pdf)\n",
    "\n",
    "Even though it does not have many trainable parameters, only around 900k, if you don't have a GPU it should take a long time to train this model due to its complicated internal connections. Let's set it up and train!"
   ]
  },
  {
   "cell_type": "code",
   "execution_count": 4,
   "metadata": {},
   "outputs": [
    {
     "name": "stdout",
     "output_type": "stream",
     "text": [
      "[INFO] -- Building and compiling the model...\n",
      "Model: \"model\"\n",
      "_________________________________________________________________\n",
      " Layer (type)                Output Shape              Param #   \n",
      "=================================================================\n",
      " main_input (InputLayer)     [(None, 128, 216, 1)]     0         \n",
      "                                                                 \n",
      " main_input_convbranch (Dens  (None, 8, 13, 54)        528336    \n",
      " eConvStack)                                                     \n",
      "                                                                 \n",
      " flatten_1 (Flatten)         (None, 5616)              0         \n",
      "                                                                 \n",
      " batch_normalization (BatchN  (None, 5616)             22464     \n",
      " ormalization)                                                   \n",
      "                                                                 \n",
      " dropout (Dropout)           (None, 5616)              0         \n",
      "                                                                 \n",
      " dense_hidden_layer0 (Dense)  (None, 64)               359488    \n",
      "                                                                 \n",
      " tf.nn.leaky_relu (TFOpLambd  (None, 64)               0         \n",
      " a)                                                              \n",
      "                                                                 \n",
      " batch_normalization_1 (Batc  (None, 64)               256       \n",
      " hNormalization)                                                 \n",
      "                                                                 \n",
      " dropout_1 (Dropout)         (None, 64)                0         \n",
      "                                                                 \n",
      " dense_hidden_layer1 (Dense)  (None, 32)               2080      \n",
      "                                                                 \n",
      " tf.nn.leaky_relu_1 (TFOpLam  (None, 32)               0         \n",
      " bda)                                                            \n",
      "                                                                 \n",
      " batch_normalization_2 (Batc  (None, 32)               128       \n",
      " hNormalization)                                                 \n",
      "                                                                 \n",
      " dropout_2 (Dropout)         (None, 32)                0         \n",
      "                                                                 \n",
      " output (Dense)              (None, 10)                330       \n",
      "                                                                 \n",
      "=================================================================\n",
      "Total params: 913,082\n",
      "Trainable params: 901,334\n",
      "Non-trainable params: 11,748\n",
      "_________________________________________________________________\n",
      "None\n",
      "Epoch 1/150\n"
     ]
    },
    {
     "name": "stderr",
     "output_type": "stream",
     "text": [
      "2022-01-24 06:54:12.043574: I tensorflow/stream_executor/cuda/cuda_dnn.cc:366] Loaded cuDNN version 8302\n",
      "2022-01-24 06:54:13.157529: I tensorflow/core/platform/default/subprocess.cc:304] Start cannot spawn child process: No such file or directory\n",
      "2022-01-24 06:54:15.036308: I tensorflow/stream_executor/cuda/cuda_blas.cc:1774] TensorFloat-32 will be used for the matrix multiplication. This will only be logged once.\n"
     ]
    },
    {
     "name": "stdout",
     "output_type": "stream",
     "text": [
      "160/160 [==============================] - ETA: 0s - loss: 1.4312 - accuracy: 0.5083\n",
      "Epoch 00001: val_accuracy improved from -inf to 0.22750, saving model to ./callbacks/my_cnn_model_1643003647/model.hdf5\n",
      "160/160 [==============================] - 43s 213ms/step - loss: 1.4312 - accuracy: 0.5083 - val_loss: 3.4942 - val_accuracy: 0.2275 - lr: 0.0010\n",
      "Epoch 2/150\n",
      "160/160 [==============================] - ETA: 0s - loss: 0.8901 - accuracy: 0.7100\n",
      "Epoch 00002: val_accuracy did not improve from 0.22750\n",
      "160/160 [==============================] - 35s 218ms/step - loss: 0.8901 - accuracy: 0.7100 - val_loss: 3.8231 - val_accuracy: 0.1983 - lr: 0.0010\n",
      "Epoch 3/150\n",
      "160/160 [==============================] - ETA: 0s - loss: 0.6499 - accuracy: 0.7915\n",
      "Epoch 00003: val_accuracy improved from 0.22750 to 0.49500, saving model to ./callbacks/my_cnn_model_1643003647/model.hdf5\n",
      "160/160 [==============================] - 39s 244ms/step - loss: 0.6499 - accuracy: 0.7915 - val_loss: 1.6376 - val_accuracy: 0.4950 - lr: 0.0010\n",
      "Epoch 4/150\n",
      "160/160 [==============================] - ETA: 0s - loss: 0.4804 - accuracy: 0.8487\n",
      "Epoch 00004: val_accuracy improved from 0.49500 to 0.57583, saving model to ./callbacks/my_cnn_model_1643003647/model.hdf5\n",
      "160/160 [==============================] - 40s 252ms/step - loss: 0.4804 - accuracy: 0.8487 - val_loss: 1.6057 - val_accuracy: 0.5758 - lr: 0.0010\n",
      "Epoch 5/150\n",
      "160/160 [==============================] - ETA: 0s - loss: 0.3398 - accuracy: 0.8969\n",
      "Epoch 00005: val_accuracy improved from 0.57583 to 0.71833, saving model to ./callbacks/my_cnn_model_1643003647/model.hdf5\n",
      "160/160 [==============================] - 41s 255ms/step - loss: 0.3398 - accuracy: 0.8969 - val_loss: 0.9105 - val_accuracy: 0.7183 - lr: 0.0010\n",
      "Epoch 6/150\n",
      "160/160 [==============================] - ETA: 0s - loss: 0.2667 - accuracy: 0.9202\n",
      "Epoch 00006: val_accuracy improved from 0.71833 to 0.73750, saving model to ./callbacks/my_cnn_model_1643003647/model.hdf5\n",
      "160/160 [==============================] - 38s 240ms/step - loss: 0.2667 - accuracy: 0.9202 - val_loss: 0.9301 - val_accuracy: 0.7375 - lr: 0.0010\n",
      "Epoch 7/150\n",
      "160/160 [==============================] - ETA: 0s - loss: 0.2004 - accuracy: 0.9413\n",
      "Epoch 00007: val_accuracy improved from 0.73750 to 0.80333, saving model to ./callbacks/my_cnn_model_1643003647/model.hdf5\n",
      "160/160 [==============================] - 35s 221ms/step - loss: 0.2004 - accuracy: 0.9413 - val_loss: 0.6937 - val_accuracy: 0.8033 - lr: 0.0010\n",
      "Epoch 8/150\n",
      "160/160 [==============================] - ETA: 0s - loss: 0.1650 - accuracy: 0.9506\n",
      "Epoch 00008: val_accuracy did not improve from 0.80333\n",
      "160/160 [==============================] - 35s 218ms/step - loss: 0.1650 - accuracy: 0.9506 - val_loss: 0.7008 - val_accuracy: 0.7867 - lr: 0.0010\n",
      "Epoch 9/150\n",
      "160/160 [==============================] - ETA: 0s - loss: 0.1397 - accuracy: 0.9617\n",
      "Epoch 00009: val_accuracy improved from 0.80333 to 0.83417, saving model to ./callbacks/my_cnn_model_1643003647/model.hdf5\n",
      "160/160 [==============================] - 35s 220ms/step - loss: 0.1397 - accuracy: 0.9617 - val_loss: 0.5348 - val_accuracy: 0.8342 - lr: 0.0010\n",
      "Epoch 10/150\n",
      "160/160 [==============================] - ETA: 0s - loss: 0.1250 - accuracy: 0.9619\n",
      "Epoch 00010: val_accuracy did not improve from 0.83417\n",
      "160/160 [==============================] - 38s 237ms/step - loss: 0.1250 - accuracy: 0.9619 - val_loss: 0.7186 - val_accuracy: 0.7767 - lr: 0.0010\n",
      "Epoch 11/150\n",
      "160/160 [==============================] - ETA: 0s - loss: 0.1053 - accuracy: 0.9690\n",
      "Epoch 00011: val_accuracy did not improve from 0.83417\n",
      "160/160 [==============================] - 36s 228ms/step - loss: 0.1053 - accuracy: 0.9690 - val_loss: 0.5637 - val_accuracy: 0.8283 - lr: 0.0010\n",
      "Epoch 12/150\n",
      "160/160 [==============================] - ETA: 0s - loss: 0.0863 - accuracy: 0.9756\n",
      "Epoch 00012: val_accuracy did not improve from 0.83417\n",
      "\n",
      "Epoch 00012: ReduceLROnPlateau reducing learning rate to 0.00020000000949949026.\n",
      "160/160 [==============================] - 34s 214ms/step - loss: 0.0863 - accuracy: 0.9756 - val_loss: 0.7158 - val_accuracy: 0.7975 - lr: 0.0010\n",
      "Epoch 13/150\n",
      "160/160 [==============================] - ETA: 0s - loss: 0.0456 - accuracy: 0.9875\n",
      "Epoch 00013: val_accuracy improved from 0.83417 to 0.88250, saving model to ./callbacks/my_cnn_model_1643003647/model.hdf5\n",
      "160/160 [==============================] - 36s 222ms/step - loss: 0.0456 - accuracy: 0.9875 - val_loss: 0.4191 - val_accuracy: 0.8825 - lr: 2.0000e-04\n",
      "Epoch 14/150\n",
      "160/160 [==============================] - ETA: 0s - loss: 0.0300 - accuracy: 0.9931\n",
      "Epoch 00014: val_accuracy did not improve from 0.88250\n",
      "160/160 [==============================] - 34s 215ms/step - loss: 0.0300 - accuracy: 0.9931 - val_loss: 0.4009 - val_accuracy: 0.8792 - lr: 2.0000e-04\n",
      "Epoch 15/150\n",
      "160/160 [==============================] - ETA: 0s - loss: 0.0250 - accuracy: 0.9952\n",
      "Epoch 00015: val_accuracy did not improve from 0.88250\n",
      "160/160 [==============================] - 35s 217ms/step - loss: 0.0250 - accuracy: 0.9952 - val_loss: 0.4069 - val_accuracy: 0.8800 - lr: 2.0000e-04\n",
      "Epoch 16/150\n",
      "160/160 [==============================] - ETA: 0s - loss: 0.0234 - accuracy: 0.9956\n",
      "Epoch 00016: val_accuracy did not improve from 0.88250\n",
      "160/160 [==============================] - 35s 216ms/step - loss: 0.0234 - accuracy: 0.9956 - val_loss: 0.4013 - val_accuracy: 0.8800 - lr: 2.0000e-04\n",
      "Epoch 17/150\n",
      "160/160 [==============================] - ETA: 0s - loss: 0.0208 - accuracy: 0.9965\n",
      "Epoch 00017: val_accuracy improved from 0.88250 to 0.88750, saving model to ./callbacks/my_cnn_model_1643003647/model.hdf5\n",
      "\n",
      "Epoch 00017: ReduceLROnPlateau reducing learning rate to 4.0000001899898055e-05.\n",
      "160/160 [==============================] - 37s 234ms/step - loss: 0.0208 - accuracy: 0.9965 - val_loss: 0.4092 - val_accuracy: 0.8875 - lr: 2.0000e-04\n",
      "Epoch 18/150\n",
      "160/160 [==============================] - ETA: 0s - loss: 0.0182 - accuracy: 0.9967\n",
      "Epoch 00018: val_accuracy improved from 0.88750 to 0.88917, saving model to ./callbacks/my_cnn_model_1643003647/model.hdf5\n",
      "160/160 [==============================] - 36s 226ms/step - loss: 0.0182 - accuracy: 0.9967 - val_loss: 0.3906 - val_accuracy: 0.8892 - lr: 4.0000e-05\n",
      "Epoch 19/150\n",
      "160/160 [==============================] - ETA: 0s - loss: 0.0172 - accuracy: 0.9969\n",
      "Epoch 00019: val_accuracy improved from 0.88917 to 0.89000, saving model to ./callbacks/my_cnn_model_1643003647/model.hdf5\n",
      "160/160 [==============================] - 34s 210ms/step - loss: 0.0172 - accuracy: 0.9969 - val_loss: 0.3820 - val_accuracy: 0.8900 - lr: 4.0000e-05\n",
      "Epoch 20/150\n",
      "160/160 [==============================] - ETA: 0s - loss: 0.0166 - accuracy: 0.9975\n",
      "Epoch 00020: val_accuracy improved from 0.89000 to 0.89250, saving model to ./callbacks/my_cnn_model_1643003647/model.hdf5\n",
      "160/160 [==============================] - 34s 213ms/step - loss: 0.0166 - accuracy: 0.9975 - val_loss: 0.3828 - val_accuracy: 0.8925 - lr: 4.0000e-05\n",
      "Epoch 21/150\n",
      "160/160 [==============================] - ETA: 0s - loss: 0.0143 - accuracy: 0.9987\n",
      "Epoch 00021: val_accuracy improved from 0.89250 to 0.89500, saving model to ./callbacks/my_cnn_model_1643003647/model.hdf5\n",
      "160/160 [==============================] - 33s 209ms/step - loss: 0.0143 - accuracy: 0.9987 - val_loss: 0.3746 - val_accuracy: 0.8950 - lr: 4.0000e-05\n",
      "Epoch 22/150\n",
      "160/160 [==============================] - ETA: 0s - loss: 0.0154 - accuracy: 0.9977\n",
      "Epoch 00022: val_accuracy improved from 0.89500 to 0.89667, saving model to ./callbacks/my_cnn_model_1643003647/model.hdf5\n",
      "160/160 [==============================] - 35s 218ms/step - loss: 0.0154 - accuracy: 0.9977 - val_loss: 0.3749 - val_accuracy: 0.8967 - lr: 4.0000e-05\n",
      "Epoch 23/150\n",
      "160/160 [==============================] - ETA: 0s - loss: 0.0151 - accuracy: 0.9973\n",
      "Epoch 00023: val_accuracy did not improve from 0.89667\n",
      "160/160 [==============================] - 33s 205ms/step - loss: 0.0151 - accuracy: 0.9973 - val_loss: 0.3792 - val_accuracy: 0.8942 - lr: 4.0000e-05\n",
      "Epoch 24/150\n",
      "160/160 [==============================] - ETA: 0s - loss: 0.0152 - accuracy: 0.9973\n",
      "Epoch 00024: val_accuracy did not improve from 0.89667\n",
      "160/160 [==============================] - 33s 207ms/step - loss: 0.0152 - accuracy: 0.9973 - val_loss: 0.3746 - val_accuracy: 0.8950 - lr: 4.0000e-05\n"
     ]
    },
    {
     "name": "stdout",
     "output_type": "stream",
     "text": [
      "Epoch 25/150\n",
      "160/160 [==============================] - ETA: 0s - loss: 0.0144 - accuracy: 0.9981\n",
      "Epoch 00025: val_accuracy did not improve from 0.89667\n",
      "160/160 [==============================] - 33s 208ms/step - loss: 0.0144 - accuracy: 0.9981 - val_loss: 0.3784 - val_accuracy: 0.8950 - lr: 4.0000e-05\n",
      "Epoch 26/150\n",
      "160/160 [==============================] - ETA: 0s - loss: 0.0131 - accuracy: 0.9979\n",
      "Epoch 00026: val_accuracy did not improve from 0.89667\n",
      "160/160 [==============================] - 33s 207ms/step - loss: 0.0131 - accuracy: 0.9979 - val_loss: 0.3722 - val_accuracy: 0.8967 - lr: 4.0000e-05\n",
      "Epoch 27/150\n",
      "160/160 [==============================] - ETA: 0s - loss: 0.0122 - accuracy: 0.9979\n",
      "Epoch 00027: val_accuracy did not improve from 0.89667\n",
      "160/160 [==============================] - 33s 208ms/step - loss: 0.0122 - accuracy: 0.9979 - val_loss: 0.3700 - val_accuracy: 0.8958 - lr: 4.0000e-05\n",
      "Epoch 28/150\n",
      "160/160 [==============================] - ETA: 0s - loss: 0.0124 - accuracy: 0.9979\n",
      "Epoch 00028: val_accuracy did not improve from 0.89667\n",
      "160/160 [==============================] - 33s 209ms/step - loss: 0.0124 - accuracy: 0.9979 - val_loss: 0.3731 - val_accuracy: 0.8958 - lr: 4.0000e-05\n",
      "Epoch 29/150\n",
      "160/160 [==============================] - ETA: 0s - loss: 0.0141 - accuracy: 0.9975\n",
      "Epoch 00029: val_accuracy improved from 0.89667 to 0.89750, saving model to ./callbacks/my_cnn_model_1643003647/model.hdf5\n",
      "160/160 [==============================] - 34s 213ms/step - loss: 0.0141 - accuracy: 0.9975 - val_loss: 0.3808 - val_accuracy: 0.8975 - lr: 4.0000e-05\n",
      "Epoch 30/150\n",
      "160/160 [==============================] - ETA: 0s - loss: 0.0112 - accuracy: 0.9990\n",
      "Epoch 00030: val_accuracy did not improve from 0.89750\n",
      "\n",
      "Epoch 00030: ReduceLROnPlateau reducing learning rate to 8.000000525498762e-06.\n",
      "160/160 [==============================] - 35s 217ms/step - loss: 0.0112 - accuracy: 0.9990 - val_loss: 0.3811 - val_accuracy: 0.8925 - lr: 4.0000e-05\n",
      "Epoch 31/150\n",
      "160/160 [==============================] - ETA: 0s - loss: 0.0109 - accuracy: 0.9983\n",
      "Epoch 00031: val_accuracy did not improve from 0.89750\n",
      "160/160 [==============================] - 37s 230ms/step - loss: 0.0109 - accuracy: 0.9983 - val_loss: 0.3738 - val_accuracy: 0.8975 - lr: 8.0000e-06\n",
      "Epoch 32/150\n",
      "160/160 [==============================] - ETA: 0s - loss: 0.0120 - accuracy: 0.9977\n",
      "Epoch 00032: val_accuracy did not improve from 0.89750\n",
      "160/160 [==============================] - 35s 218ms/step - loss: 0.0120 - accuracy: 0.9977 - val_loss: 0.3724 - val_accuracy: 0.8975 - lr: 8.0000e-06\n",
      "Epoch 33/150\n",
      "160/160 [==============================] - ETA: 0s - loss: 0.0116 - accuracy: 0.9983\n",
      "Epoch 00033: val_accuracy did not improve from 0.89750\n",
      "\n",
      "Epoch 00033: ReduceLROnPlateau reducing learning rate to 1.6000001778593287e-06.\n",
      "160/160 [==============================] - 35s 218ms/step - loss: 0.0116 - accuracy: 0.9983 - val_loss: 0.3717 - val_accuracy: 0.8967 - lr: 8.0000e-06\n",
      "Epoch 34/150\n",
      "160/160 [==============================] - ETA: 0s - loss: 0.0120 - accuracy: 0.9977\n",
      "Epoch 00034: val_accuracy did not improve from 0.89750\n",
      "160/160 [==============================] - 34s 212ms/step - loss: 0.0120 - accuracy: 0.9977 - val_loss: 0.3719 - val_accuracy: 0.8942 - lr: 1.6000e-06\n",
      "Epoch 35/150\n",
      "160/160 [==============================] - ETA: 0s - loss: 0.0101 - accuracy: 0.9985\n",
      "Epoch 00035: val_accuracy did not improve from 0.89750\n",
      "160/160 [==============================] - 35s 220ms/step - loss: 0.0101 - accuracy: 0.9985 - val_loss: 0.3712 - val_accuracy: 0.8967 - lr: 1.6000e-06\n",
      "Epoch 36/150\n",
      "160/160 [==============================] - ETA: 0s - loss: 0.0109 - accuracy: 0.9990\n",
      "Epoch 00036: val_accuracy did not improve from 0.89750\n",
      "\n",
      "Epoch 00036: ReduceLROnPlateau reducing learning rate to 3.200000264769187e-07.\n",
      "160/160 [==============================] - 35s 218ms/step - loss: 0.0109 - accuracy: 0.9990 - val_loss: 0.3704 - val_accuracy: 0.8958 - lr: 1.6000e-06\n",
      "Epoch 37/150\n",
      "160/160 [==============================] - ETA: 0s - loss: 0.0108 - accuracy: 0.9977\n",
      "Epoch 00037: val_accuracy improved from 0.89750 to 0.89833, saving model to ./callbacks/my_cnn_model_1643003647/model.hdf5\n",
      "160/160 [==============================] - 35s 218ms/step - loss: 0.0108 - accuracy: 0.9977 - val_loss: 0.3706 - val_accuracy: 0.8983 - lr: 3.2000e-07\n",
      "Epoch 38/150\n",
      "160/160 [==============================] - ETA: 0s - loss: 0.0116 - accuracy: 0.9987\n",
      "Epoch 00038: val_accuracy did not improve from 0.89833\n",
      "160/160 [==============================] - 35s 218ms/step - loss: 0.0116 - accuracy: 0.9987 - val_loss: 0.3716 - val_accuracy: 0.8975 - lr: 3.2000e-07\n",
      "Epoch 39/150\n",
      "160/160 [==============================] - ETA: 0s - loss: 0.0110 - accuracy: 0.9987\n",
      "Epoch 00039: val_accuracy did not improve from 0.89833\n",
      "\n",
      "Epoch 00039: ReduceLROnPlateau reducing learning rate to 6.400000529538374e-08.\n",
      "160/160 [==============================] - 34s 215ms/step - loss: 0.0110 - accuracy: 0.9987 - val_loss: 0.3712 - val_accuracy: 0.8983 - lr: 3.2000e-07\n",
      "Epoch 40/150\n",
      "160/160 [==============================] - ETA: 0s - loss: 0.0112 - accuracy: 0.9983\n",
      "Epoch 00040: val_accuracy did not improve from 0.89833\n",
      "160/160 [==============================] - 35s 219ms/step - loss: 0.0112 - accuracy: 0.9983 - val_loss: 0.3708 - val_accuracy: 0.8958 - lr: 6.4000e-08\n",
      "Epoch 41/150\n",
      "160/160 [==============================] - ETA: 0s - loss: 0.0103 - accuracy: 0.9994\n",
      "Epoch 00041: val_accuracy did not improve from 0.89833\n",
      "160/160 [==============================] - 35s 218ms/step - loss: 0.0103 - accuracy: 0.9994 - val_loss: 0.3708 - val_accuracy: 0.8950 - lr: 6.4000e-08\n",
      "Epoch 42/150\n",
      "160/160 [==============================] - ETA: 0s - loss: 0.0114 - accuracy: 0.9985\n",
      "Epoch 00042: val_accuracy did not improve from 0.89833\n",
      "\n",
      "Epoch 00042: ReduceLROnPlateau reducing learning rate to 1.2800001059076749e-08.\n",
      "160/160 [==============================] - 33s 207ms/step - loss: 0.0114 - accuracy: 0.9985 - val_loss: 0.3712 - val_accuracy: 0.8942 - lr: 6.4000e-08\n",
      "Epoch 43/150\n",
      "160/160 [==============================] - ETA: 0s - loss: 0.0109 - accuracy: 0.9985\n",
      "Epoch 00043: val_accuracy did not improve from 0.89833\n",
      "160/160 [==============================] - 33s 206ms/step - loss: 0.0109 - accuracy: 0.9985 - val_loss: 0.3715 - val_accuracy: 0.8950 - lr: 1.2800e-08\n",
      "Epoch 44/150\n",
      "160/160 [==============================] - ETA: 0s - loss: 0.0121 - accuracy: 0.9985\n",
      "Epoch 00044: val_accuracy did not improve from 0.89833\n",
      "160/160 [==============================] - 34s 214ms/step - loss: 0.0121 - accuracy: 0.9985 - val_loss: 0.3715 - val_accuracy: 0.8958 - lr: 1.2800e-08\n",
      "Epoch 45/150\n",
      "160/160 [==============================] - ETA: 0s - loss: 0.0108 - accuracy: 0.9990\n",
      "Epoch 00045: val_accuracy did not improve from 0.89833\n",
      "\n",
      "Epoch 00045: ReduceLROnPlateau reducing learning rate to 2.5600002118153498e-09.\n",
      "160/160 [==============================] - 36s 226ms/step - loss: 0.0108 - accuracy: 0.9990 - val_loss: 0.3712 - val_accuracy: 0.8958 - lr: 1.2800e-08\n",
      "Epoch 46/150\n",
      "160/160 [==============================] - ETA: 0s - loss: 0.0111 - accuracy: 0.9985\n",
      "Epoch 00046: val_accuracy did not improve from 0.89833\n",
      "160/160 [==============================] - 36s 223ms/step - loss: 0.0111 - accuracy: 0.9985 - val_loss: 0.3713 - val_accuracy: 0.8967 - lr: 2.5600e-09\n",
      "Epoch 47/150\n",
      "160/160 [==============================] - ETA: 0s - loss: 0.0113 - accuracy: 0.9987\n",
      "Epoch 00047: val_accuracy did not improve from 0.89833\n",
      "160/160 [==============================] - 36s 225ms/step - loss: 0.0113 - accuracy: 0.9987 - val_loss: 0.3721 - val_accuracy: 0.8950 - lr: 2.5600e-09\n",
      "Epoch 00047: early stopping\n",
      "\n",
      "\n",
      "Score: loss of 0.3705921173095703; accuracy of 89.83333110809326%\n"
     ]
    }
   ],
   "source": [
    "## importing model architecture and auxiliar functions\n",
    "from my_model import *\n",
    "\n",
    "model_dir = './callbacks/my_cnn_model' + '_' + str(int(time()))\n",
    "batch_size = 30\n",
    "\n",
    "n_classes = len(genres)\n",
    "input_shape = np.shape(inputs)[1:]\n",
    "optimizer = ke.optimizers.Adam(learning_rate=1e-3)\n",
    "\n",
    "MODEL_PARAM = {\n",
    "    'n_classes' : n_classes,\n",
    "    'conv_depth'        : 4,                       # number of convolutional layers\n",
    "    'kernel_shape_list' : [(1,9), (3,3), (9,1)],   # a list of tuples with the kernel shapes to be used in the convNets. Same length as k_factor_list\n",
    "    'k_factor_list'     : [18, 18, 18],            # a list of ints with the k_factor to be used in the DenseNets. Same length as conv_filter_list\n",
    "    'use_exp_channels'  : False,                   # whether we should increase the number of channels exponentially(**2) in each dense block\n",
    "    'max_pool_stride'   : [1,2,2,1],\n",
    "    'densenet_depth'    : 4,                       # number of layers that each dense block is going to have\n",
    "    'activations'       : 'lrelu',                 # types of activation functions to be used throughout the model\n",
    "    'final_activation'  : 'softmax',               # the final activation function used in the final layer\n",
    "    'fc_depth'          : 3 ,                      # number of fully connected layers\n",
    "    \n",
    "    'batch_norm' : {\n",
    "        'densenet': False,\n",
    "        'concat': True,\n",
    "        'flatten':True,\n",
    "        'fc_layers': True\n",
    "    },\n",
    "    'dropout' : {\n",
    "        'concat': 0,\n",
    "        'flatten': 0.2,\n",
    "        'fc_layers': 0.1,\n",
    "    }\n",
    "}  \n",
    "\n",
    "print('[INFO] -- Building and compiling the model...')\n",
    "model = buildComplexGenreClassifier(input_shape=input_shape, \n",
    "                                    n_classes=MODEL_PARAM['n_classes'], \n",
    "                                    conv_depth=MODEL_PARAM['conv_depth'], \n",
    "                                    kernel_shape_list=MODEL_PARAM['kernel_shape_list'], \n",
    "                                    k_factor_list=MODEL_PARAM['k_factor_list'], \n",
    "                                    use_exp_channels=MODEL_PARAM['use_exp_channels'], \n",
    "                                    densenet_depth=MODEL_PARAM['densenet_depth'], \n",
    "                                    max_pool_stride=MODEL_PARAM['max_pool_stride'],\n",
    "                                    activations=MODEL_PARAM['activations'],  \n",
    "                                    final_activation=MODEL_PARAM['final_activation'],\n",
    "                                    fc_depth=MODEL_PARAM['fc_depth'],\n",
    "                                    batch_norm=MODEL_PARAM['batch_norm'],\n",
    "                                    dropout=MODEL_PARAM['dropout'])\n",
    "print(model.summary())\n",
    "\n",
    "\n",
    "_, callback_list = createCallbacks(model_dir)\n",
    "\n",
    "# Compile the model\n",
    "model.compile(loss=loss_function,\n",
    "              optimizer=optimizer,\n",
    "              metrics=['accuracy'])\n",
    "    \n",
    "# Fit data to model\n",
    "history3 = model.fit(X_train, y_train,\n",
    "                    batch_size=batch_size,\n",
    "                    epochs=n_epochs,\n",
    "                    validation_data=(X_test, y_test),\n",
    "                    callbacks=callback_list,\n",
    "                    verbose=1)\n",
    "\n",
    "model = ke.models.load_model(os.path.join(model_dir,'model.hdf5'), custom_objects={'DenseBlock' : DenseBlock, \n",
    "                                                                   'DenseConvStack': DenseConvStack})\n",
    "# Generate generalization metrics\n",
    "scores3 = model.evaluate(X_test, y_test, verbose=0)\n",
    "print('\\n')\n",
    "print(f'Score: {model.metrics_names[0]} of {scores3[0]}; {model.metrics_names[1]} of {scores3[1]*100}%')"
   ]
  },
  {
   "cell_type": "markdown",
   "metadata": {},
   "source": [
    "Wow! Now we have a new winner! You can see that despite having fewer trainable parameters, the model was able to achieve impressive accuracy of 91.4% for 10 genre classification. A copy of this model can be found on `./callbacks/my_cnn_model/model.hdf5`. Fell free to use it on new data, but remember to cite the paper.\n",
    "\n",
    "To wrap up, let's update our comparison table\n",
    "\n",
    "\n",
    "\n",
    "|  Classifier  |  Accuracy  |   Input Type   | \n",
    "| ------------ | ---------- | -------------- | \n",
    "| **3W-MDenseNet**|  $\\mathbf{91.4}\\%$ | **Spectrogram**  |\n",
    "| K-NN         |  $81.7\\%$  | 20 features    |\n",
    "| MLP          |  $80.7\\%$  | PCA-18         |\n",
    "| Random Forest|  $76.9\\%$  | 20 features    |\n",
    "| Small CNN    |  $75.9\\%$  | Spectrogram    |\n",
    "| Large CNN    |  $75.1\\%$<br>(unstable)  | Spectrogram    |\n",
    "| SVM          |  $71.5\\%$  | PCA-19         |\n",
    "| Logist. Regr.|  $58.1\\%$  | 20 features    |\n",
    "| Dec. Tree    |  $57.7\\%$  | PCA-19         |\n",
    "| Naive Bayes  |  $54.8\\%$  | 20 features    |"
   ]
  },
  {
   "cell_type": "markdown",
   "metadata": {},
   "source": [
    "## Working with Large Datasets and Augmenting Data\n",
    "\n",
    "But what if we had much more data that would not fit in RAM? Or what if we wanted to do data augmentation on our files? \n",
    "\n",
    "Let's suppose that in each of the genre directory there were 1M songs from each class instead of just 100. We could perform the spectrogram analysis for each song in the same way as we have done in the other jupyter notebook and save lots of .npz files with our inputs and labels. \n",
    "\n",
    "Then, we doon't need to load them all at once. We can just set up our train and test data as `tensorflow.keras.utils.Sequence` and use it too load our data batch by batch during training. We can also do data augmentation on the fly. Here is the code."
   ]
  },
  {
   "cell_type": "code",
   "execution_count": 5,
   "metadata": {},
   "outputs": [],
   "source": [
    "from tensorflow.keras.utils import Sequence\n",
    "\n",
    "class KerasInputGenerator(Sequence):\n",
    "    \"\"\" \n",
    "    Generates data for Keras\n",
    "    \"\"\"\n",
    "\n",
    "    def __init__(self, \n",
    "                 file_paths,\n",
    "                 encoder,\n",
    "                 shuffle=True,\n",
    "                 batch_size=32,\n",
    "                 data_augment=False):\n",
    "        \n",
    "        self.file_paths = file_paths\n",
    "        self.encoder=encoder\n",
    "        self.shuffle= shuffle\n",
    "        self.data_augment = data_augment\n",
    "        self.batch_size = batch_size\n",
    "        \n",
    "        self.n_inputs = len(self.file_paths)  \n",
    "        self.on_epoch_end()\n",
    "        \n",
    "        print(\"[INFO] -- Keras Generator created successfully\")\n",
    "    \n",
    "    def on_epoch_end(self):\n",
    "        \"\"\"\n",
    "        Called at start of each epoch.\n",
    "        We can use this to shuffle all file indexes'\n",
    "        \"\"\"\n",
    "        \n",
    "        self.file_idxs = np.arange(self.n_inputs, dtype=np.int32)\n",
    "        if self.shuffle:\n",
    "            np.random.shuffle(self.file_idxs)\n",
    "\n",
    "    def __len__(self):\n",
    "        \"\"\"\n",
    "        Denotes the number of batches per epoch\n",
    "        \"\"\"\n",
    "        return int(np.ceil(self.n_inputs / self.batch_size))\n",
    "\n",
    "    def __getitem__(self, index):\n",
    "        \"\"\"\n",
    "        Generate one batch of data\n",
    "        \"\"\"\n",
    "        max_index = int(np.floor(self.n_inputs / self.batch_size))\n",
    "        \n",
    "        # Generate indexes of the batch\n",
    "        indexes_batch = self.file_idxs[index*self.batch_size:self.n_inputs] if index == max_index else self.file_idxs[index*self.batch_size:(index+1)*self.batch_size]\n",
    "\n",
    "        X, y = self.__generateBatch(indexes_batch)\n",
    "\n",
    "        return X.astype(np.float32), y.astype(np.int16)\n",
    "        \n",
    "    def __generateBatch(self, indexes_batch):\n",
    "        \"\"\"\n",
    "        Helper function to read a batch of data from disk \n",
    "        and perform data augmentation on the fly\n",
    "        \"\"\"\n",
    "        \n",
    "        inputs = []\n",
    "        targets = []\n",
    "        ## Read from disk on the fly\n",
    "        for ind in indexes_batch:\n",
    "            data = np.load(self.file_paths[ind])\n",
    "            inputs.append(data['spec'])\n",
    "            targets.append(data['genre'])\n",
    "        \n",
    "        X = np.concatenate(inputs, axis=0) \n",
    "        y = [z for t in targets for z in t]\n",
    "        y = self.encoder.transform(y)\n",
    "\n",
    "        ## If we want we can perform any data augmentation on the fly\n",
    "        if self.data_augment:\n",
    "            X = self.augmentData(X)\n",
    "        \n",
    "        return X, y\n",
    "\n",
    "    def augmentData(self, spec):\n",
    "        \"\"\" This can be any data augmentation function such as \n",
    "            pitch shifting or time stretching \n",
    "        \"\"\"\n",
    "        pass  \n",
    "        return spec"
   ]
  },
  {
   "cell_type": "code",
   "execution_count": 6,
   "metadata": {},
   "outputs": [
    {
     "name": "stdout",
     "output_type": "stream",
     "text": [
      "[INFO] -- Keras Generator created successfully\n",
      "[INFO] -- Keras Generator created successfully\n",
      "Model: \"sequential_1\"\n",
      "_________________________________________________________________\n",
      " Layer (type)                Output Shape              Param #   \n",
      "=================================================================\n",
      " conv2d_4 (Conv2D)           (None, 126, 214, 16)      160       \n",
      "                                                                 \n",
      " max_pooling2d_4 (MaxPooling  (None, 63, 107, 16)      0         \n",
      " 2D)                                                             \n",
      "                                                                 \n",
      " conv2d_5 (Conv2D)           (None, 61, 105, 32)       4640      \n",
      "                                                                 \n",
      " max_pooling2d_5 (MaxPooling  (None, 30, 52, 32)       0         \n",
      " 2D)                                                             \n",
      "                                                                 \n",
      " conv2d_6 (Conv2D)           (None, 28, 50, 64)        18496     \n",
      "                                                                 \n",
      " flatten_2 (Flatten)         (None, 89600)             0         \n",
      "                                                                 \n",
      " dense_3 (Dense)             (None, 32)                2867232   \n",
      "                                                                 \n",
      " dense_4 (Dense)             (None, 10)                330       \n",
      "                                                                 \n",
      "=================================================================\n",
      "Total params: 2,890,858\n",
      "Trainable params: 2,890,858\n",
      "Non-trainable params: 0\n",
      "_________________________________________________________________\n",
      "None\n",
      "Epoch 1/10\n",
      "40/40 [==============================] - ETA: 0s - loss: 2.2210 - accuracy: 0.1781\n",
      "Epoch 00001: val_accuracy improved from -inf to 0.23833, saving model to ./callbacks/cnn_example_1643005315/model.hdf5\n",
      "40/40 [==============================] - 9s 209ms/step - loss: 2.2210 - accuracy: 0.1781 - val_loss: 2.1598 - val_accuracy: 0.2383 - lr: 0.0010\n",
      "Epoch 2/10\n",
      "40/40 [==============================] - ETA: 0s - loss: 2.0536 - accuracy: 0.2483\n",
      "Epoch 00002: val_accuracy did not improve from 0.23833\n",
      "40/40 [==============================] - 8s 209ms/step - loss: 2.0536 - accuracy: 0.2483 - val_loss: 2.1192 - val_accuracy: 0.1842 - lr: 0.0010\n",
      "Epoch 3/10\n",
      "40/40 [==============================] - ETA: 0s - loss: 1.9013 - accuracy: 0.2992\n",
      "Epoch 00003: val_accuracy improved from 0.23833 to 0.33500, saving model to ./callbacks/cnn_example_1643005315/model.hdf5\n",
      "40/40 [==============================] - 9s 219ms/step - loss: 1.9013 - accuracy: 0.2992 - val_loss: 1.8296 - val_accuracy: 0.3350 - lr: 0.0010\n",
      "Epoch 4/10\n",
      "40/40 [==============================] - ETA: 0s - loss: 1.7247 - accuracy: 0.3775\n",
      "Epoch 00004: val_accuracy improved from 0.33500 to 0.38583, saving model to ./callbacks/cnn_example_1643005315/model.hdf5\n",
      "40/40 [==============================] - 9s 214ms/step - loss: 1.7247 - accuracy: 0.3775 - val_loss: 1.7361 - val_accuracy: 0.3858 - lr: 0.0010\n",
      "Epoch 5/10\n",
      "40/40 [==============================] - ETA: 0s - loss: 1.5478 - accuracy: 0.4596\n",
      "Epoch 00005: val_accuracy improved from 0.38583 to 0.47333, saving model to ./callbacks/cnn_example_1643005315/model.hdf5\n",
      "40/40 [==============================] - 9s 212ms/step - loss: 1.5478 - accuracy: 0.4596 - val_loss: 1.6450 - val_accuracy: 0.4733 - lr: 0.0010\n",
      "Epoch 6/10\n",
      "40/40 [==============================] - ETA: 0s - loss: 1.4194 - accuracy: 0.5119\n",
      "Epoch 00006: val_accuracy did not improve from 0.47333\n",
      "40/40 [==============================] - 8s 199ms/step - loss: 1.4194 - accuracy: 0.5119 - val_loss: 1.7275 - val_accuracy: 0.4242 - lr: 0.0010\n",
      "Epoch 7/10\n",
      "40/40 [==============================] - ETA: 0s - loss: 1.3086 - accuracy: 0.5525\n",
      "Epoch 00007: val_accuracy did not improve from 0.47333\n",
      "40/40 [==============================] - 9s 212ms/step - loss: 1.3086 - accuracy: 0.5525 - val_loss: 1.7186 - val_accuracy: 0.4192 - lr: 0.0010\n",
      "Epoch 8/10\n",
      "40/40 [==============================] - ETA: 0s - loss: 1.1467 - accuracy: 0.6012\n",
      "Epoch 00008: val_accuracy improved from 0.47333 to 0.50833, saving model to ./callbacks/cnn_example_1643005315/model.hdf5\n",
      "40/40 [==============================] - 9s 215ms/step - loss: 1.1467 - accuracy: 0.6012 - val_loss: 1.5764 - val_accuracy: 0.5083 - lr: 0.0010\n",
      "Epoch 9/10\n",
      "40/40 [==============================] - ETA: 0s - loss: 1.0410 - accuracy: 0.6471\n",
      "Epoch 00009: val_accuracy improved from 0.50833 to 0.54417, saving model to ./callbacks/cnn_example_1643005315/model.hdf5\n",
      "40/40 [==============================] - 9s 211ms/step - loss: 1.0410 - accuracy: 0.6471 - val_loss: 1.4758 - val_accuracy: 0.5442 - lr: 0.0010\n",
      "Epoch 10/10\n",
      "40/40 [==============================] - ETA: 0s - loss: 0.9213 - accuracy: 0.6915\n",
      "Epoch 00010: val_accuracy did not improve from 0.54417\n",
      "40/40 [==============================] - 8s 205ms/step - loss: 0.9213 - accuracy: 0.6915 - val_loss: 1.4770 - val_accuracy: 0.5333 - lr: 0.0010\n",
      "\n",
      "\n",
      "Score: loss of 1.0470975637435913; accuracy of 65.58333039283752%\n"
     ]
    }
   ],
   "source": [
    "import glob\n",
    "import os\n",
    "import numpy as np\n",
    "import tensorflow as tf\n",
    "import tensorflow.keras as ke\n",
    "from time import time\n",
    "\n",
    "from sklearn.preprocessing import LabelEncoder\n",
    "from sklearn.model_selection import train_test_split\n",
    "\n",
    "\n",
    "src_dir = os.getcwd()\n",
    "data_dir = os.path.join(src_dir, 'dataset', 'genre')\n",
    "paths = os.listdir(data_dir)\n",
    "\n",
    "genres = sorted(list(set([p for p in paths if os.path.isdir(os.path.join(data_dir, p))])))\n",
    "enc = LabelEncoder()\n",
    "enc = enc.fit(genres)   ## fit label encoder on targets\n",
    "\n",
    "# Get a list with all the filenames of the .npz files\n",
    "file_paths = [file for g in genres for file in glob.glob(os.path.join(data_dir, g,'*.npz'))]  \n",
    "\n",
    "\n",
    "file_path_train, file_path_test = train_test_split(file_paths, \n",
    "                                                   test_size=0.2, \n",
    "                                                   shuffle=True, \n",
    "                                                   random_state=2022) # 80% training and 20% test\n",
    "## Setting up keras model parameters\n",
    "n_classes = len(genres)\n",
    "batch_size = 120\n",
    "loss_function = 'sparse_categorical_crossentropy'\n",
    "n_epochs = 10    # We use a low number just to demonstrate model training\n",
    "optimizer = ke.optimizers.Adam(learning_rate=1e-3)\n",
    "model_dir = './callbacks/cnn_example' + '_' + str(int(time()))\n",
    "\n",
    "input_shape = np.load(file_paths[0])['spec'].shape[1:]  ## just read a single npz file to check for network input shape\n",
    "\n",
    "\n",
    "## Creating keras data generator\n",
    "train_gen = KerasInputGenerator(file_path_train,\n",
    "                                encoder=enc,\n",
    "                                shuffle=True,\n",
    "                                batch_size=int(batch_size/6),  # every file has 6 inputs,\n",
    "                                data_augment=False)            # whether or not to perform data augmentation after loading data\n",
    "test_gen  = KerasInputGenerator(file_path_test,\n",
    "                                encoder=enc,\n",
    "                                shuffle=True,\n",
    "                                batch_size=int(batch_size/6),  # every file has 6 inputs,\n",
    "                                data_augment=False)            # whether or not to perform data augmentation after loading data\n",
    "\n",
    "\n",
    "## lets train this really simple model on the fly \n",
    "model = ke.models.Sequential()\n",
    "model.add(ke.layers.Conv2D(16, kernel_size=(3, 3), activation='relu', input_shape=input_shape))\n",
    "model.add(ke.layers.MaxPooling2D(pool_size=(2, 2)))\n",
    "model.add(ke.layers.Conv2D(32, kernel_size=(3, 3), activation='relu'))\n",
    "model.add(ke.layers.MaxPooling2D(pool_size=(2, 2)))\n",
    "model.add(ke.layers.Conv2D(64, kernel_size=(3, 3), activation='relu'))\n",
    "model.add(ke.layers.Flatten())\n",
    "model.add(ke.layers.Dense(32, activation='relu'))\n",
    "model.add(ke.layers.Dense(n_classes, activation='softmax'))  ## we use softmax to choose just 1 class of all possible classes\n",
    "\n",
    "print(model.summary())\n",
    "\n",
    "\n",
    "_, callback_list = createCallbacks(model_dir)\n",
    "\n",
    "# Compile the model\n",
    "model.compile(loss=loss_function,\n",
    "              optimizer=optimizer,\n",
    "              metrics=['accuracy'])\n",
    "    \n",
    "# Fit data to model using keras Sequence and multiprocessing\n",
    "history3 = model.fit(train_gen,\n",
    "                     epochs=n_epochs,\n",
    "                     validation_data=test_gen,\n",
    "                     callbacks=callback_list,\n",
    "                     max_queue_size=10, \n",
    "                     use_multiprocessing=True,\n",
    "                     verbose=1)\n",
    "\n",
    "model = ke.models.load_model(os.path.join(model_dir,'model.hdf5'))\n",
    "\n",
    "# Generate generalization metrics\n",
    "scores4 = model.evaluate(X_test, y_test, verbose=0)\n",
    "print('\\n')\n",
    "print(f'Score: {model.metrics_names[0]} of {scores4[0]}; {model.metrics_names[1]} of {scores4[1]*100}%')"
   ]
  },
  {
   "cell_type": "markdown",
   "metadata": {},
   "source": [
    "As you can see, the model is training and the data is not loaded completely on RAM, so we can use this pipeline to work if we had more data. We could also do data augmentation using the function `KerasInputGenerator.augmentData()`, which we left blank in our `tensorflow.keras.utils.Sequence` subclass definition."
   ]
  },
  {
   "cell_type": "markdown",
   "metadata": {},
   "source": [
    "## Conclusion\n",
    "To conclude, we can say that I have shown how we can build, train and evaluate a music genre classifier. \n",
    "\n",
    "We have talked about musical features and how we can use them to train machine learning classifiers. We have shown the importance of verifying our data initially, checking for errors/problems and visualising it using PCA in order to obtain more insights.\n",
    "\n",
    "We have shown that sometimes a deep learning model is not even needed. A simple KNN or a Random forest was able to obtain more than 80% accuracy already using our set of handcrafted features. Furthermore, we have compared multiple type of models, showed how to train, perform k-fold cross validation, hyperparameter search, work with larger dataset by loading it and performing data augmentation on the fly.\n",
    "\n",
    "Last but not least, a new deep learning architecture was proposed and it obtained 91% accuracy on GTZAN."
   ]
  },
  {
   "cell_type": "code",
   "execution_count": 11,
   "metadata": {},
   "outputs": [],
   "source": [
    "!rm -r ./callbacks/cnn_example*"
   ]
  }
 ],
 "metadata": {
  "interpreter": {
   "hash": "f47456191b48032d1bfde0ad67740a7086dff866f5aa05461c1631ebb33f19ac"
  },
  "kernelspec": {
   "display_name": "Python 3 (ipykernel)",
   "language": "python",
   "name": "python3"
  },
  "language_info": {
   "codemirror_mode": {
    "name": "ipython",
    "version": 3
   },
   "file_extension": ".py",
   "mimetype": "text/x-python",
   "name": "python",
   "nbconvert_exporter": "python",
   "pygments_lexer": "ipython3",
   "version": "3.9.7"
  }
 },
 "nbformat": 4,
 "nbformat_minor": 2
}
